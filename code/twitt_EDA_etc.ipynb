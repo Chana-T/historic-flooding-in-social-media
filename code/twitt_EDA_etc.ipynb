{
 "cells": [
  {
   "cell_type": "code",
   "execution_count": null,
   "metadata": {},
   "outputs": [],
   "source": []
  },
  {
   "cell_type": "code",
   "execution_count": 102,
   "metadata": {},
   "outputs": [],
   "source": [
    "# Load libraries and functions\n",
    "import pandas as pd\n",
    "import numpy as np\n",
    "import datetime as dt\n",
    "import matplotlib.pyplot as plt\n",
    "from sklearn.feature_extraction.text import CountVectorizer, TfidfVectorizer\n",
    "from nltk.corpus import stopwords\n",
    "from nltk.tokenize import RegexpTokenizer\n",
    "from nltk.stem import WordNetLemmatizer"
   ]
  },
  {
   "cell_type": "code",
   "execution_count": 36,
   "metadata": {},
   "outputs": [],
   "source": [
    "# Turn off warnings to reduce angry red-space in notebook\n",
    "import warnings\n",
    "warnings.simplefilter(action='ignore', category=FutureWarning)"
   ]
  },
  {
   "cell_type": "markdown",
   "metadata": {},
   "source": [
    "### Identify city and date range of interest (same as used within Twitter scrape)"
   ]
  },
  {
   "cell_type": "code",
   "execution_count": 113,
   "metadata": {},
   "outputs": [],
   "source": [
    "city = 'Mumbai'\n",
    "start_date = dt.date(2014, 1, 1)\n",
    "end_date = dt.date(2018, 1, 1)"
   ]
  },
  {
   "cell_type": "code",
   "execution_count": 114,
   "metadata": {},
   "outputs": [],
   "source": [
    "# Read .csv created with above parameters\n",
    "df = pd.read_csv(f'../data/tweetscrape_{city}_{start_date}_to_{end_date}.csv')"
   ]
  },
  {
   "cell_type": "code",
   "execution_count": 115,
   "metadata": {},
   "outputs": [],
   "source": [
    "# Create df with only columns of interest\n",
    "tweets = df[['username', 'tweet_id', 'timestamp', 'timestamp_epochs', 'retweets', 'text']]"
   ]
  },
  {
   "cell_type": "code",
   "execution_count": 116,
   "metadata": {},
   "outputs": [
    {
     "data": {
      "text/plain": [
       "(749, 6)"
      ]
     },
     "execution_count": 116,
     "metadata": {},
     "output_type": "execute_result"
    }
   ],
   "source": [
    "tweets.shape"
   ]
  },
  {
   "cell_type": "code",
   "execution_count": 117,
   "metadata": {},
   "outputs": [
    {
     "data": {
      "text/plain": [
       "dtype('O')"
      ]
     },
     "execution_count": 117,
     "metadata": {},
     "output_type": "execute_result"
    }
   ],
   "source": [
    "tweets['timestamp'].dtypes"
   ]
  },
  {
   "cell_type": "code",
   "execution_count": 118,
   "metadata": {
    "scrolled": true
   },
   "outputs": [
    {
     "name": "stderr",
     "output_type": "stream",
     "text": [
      "C:\\Users\\Tilevitz Family\\Anaconda3\\envs\\dsi\\lib\\site-packages\\ipykernel_launcher.py:9: SettingWithCopyWarning: \n",
      "A value is trying to be set on a copy of a slice from a DataFrame.\n",
      "Try using .loc[row_indexer,col_indexer] = value instead\n",
      "\n",
      "See the caveats in the documentation: http://pandas.pydata.org/pandas-docs/stable/user_guide/indexing.html#returning-a-view-versus-a-copy\n",
      "  if __name__ == '__main__':\n"
     ]
    },
    {
     "data": {
      "text/plain": [
       "0      2014-02-26\n",
       "1      2014-02-26\n",
       "2      2014-12-15\n",
       "3      2014-12-01\n",
       "4      2014-11-29\n",
       "          ...    \n",
       "744    2017-08-25\n",
       "745    2017-08-21\n",
       "746    2017-08-12\n",
       "747    2017-08-12\n",
       "748    2017-08-08\n",
       "Name: clean_date, Length: 749, dtype: object"
      ]
     },
     "execution_count": 118,
     "metadata": {},
     "output_type": "execute_result"
    }
   ],
   "source": [
    "# loop through rows to change timestamp format into something functional:\n",
    "\n",
    "date_list = []\n",
    "\n",
    "for tweet in tweets['timestamp']:\n",
    "    tweet = tweet.replace(' ', '')[:-8]\n",
    "    date_list.append(tweet)\n",
    "    \n",
    "tweets['clean_date'] = date_list\n",
    "tweets['clean_date']"
   ]
  },
  {
   "cell_type": "code",
   "execution_count": 119,
   "metadata": {},
   "outputs": [
    {
     "data": {
      "text/html": [
       "<div>\n",
       "<style scoped>\n",
       "    .dataframe tbody tr th:only-of-type {\n",
       "        vertical-align: middle;\n",
       "    }\n",
       "\n",
       "    .dataframe tbody tr th {\n",
       "        vertical-align: top;\n",
       "    }\n",
       "\n",
       "    .dataframe thead th {\n",
       "        text-align: right;\n",
       "    }\n",
       "</style>\n",
       "<table border=\"1\" class=\"dataframe\">\n",
       "  <thead>\n",
       "    <tr style=\"text-align: right;\">\n",
       "      <th></th>\n",
       "      <th>username</th>\n",
       "      <th>tweet_id</th>\n",
       "      <th>timestamp</th>\n",
       "      <th>timestamp_epochs</th>\n",
       "      <th>retweets</th>\n",
       "      <th>text</th>\n",
       "      <th>clean_date</th>\n",
       "    </tr>\n",
       "  </thead>\n",
       "  <tbody>\n",
       "    <tr>\n",
       "      <th>0</th>\n",
       "      <td>ayesha_kapadia</td>\n",
       "      <td>438750971817365504</td>\n",
       "      <td>2014-02-26 19:02:37</td>\n",
       "      <td>1393441357</td>\n",
       "      <td>0</td>\n",
       "      <td>Friend. #art #design #graphic #illustration #M...</td>\n",
       "      <td>2014-02-26</td>\n",
       "    </tr>\n",
       "    <tr>\n",
       "      <th>1</th>\n",
       "      <td>ayesha_kapadia</td>\n",
       "      <td>438750971817365504</td>\n",
       "      <td>2014-02-26 19:02:37</td>\n",
       "      <td>1393441357</td>\n",
       "      <td>0</td>\n",
       "      <td>Friend. #art #design #graphic #illustration #M...</td>\n",
       "      <td>2014-02-26</td>\n",
       "    </tr>\n",
       "    <tr>\n",
       "      <th>2</th>\n",
       "      <td>SanaKhanGeek</td>\n",
       "      <td>544555926926016512</td>\n",
       "      <td>2014-12-15 18:13:44</td>\n",
       "      <td>1418667224</td>\n",
       "      <td>0</td>\n",
       "      <td>Humanity Still Exists: The good samaritans of ...</td>\n",
       "      <td>2014-12-15</td>\n",
       "    </tr>\n",
       "    <tr>\n",
       "      <th>3</th>\n",
       "      <td>mataonline</td>\n",
       "      <td>539248361623146498</td>\n",
       "      <td>2014-12-01 02:43:22</td>\n",
       "      <td>1417401802</td>\n",
       "      <td>1</td>\n",
       "      <td>हवामान बदलाचा फटका, मुंबई-कोलकाताला पुराचा धोक...</td>\n",
       "      <td>2014-12-01</td>\n",
       "    </tr>\n",
       "    <tr>\n",
       "      <th>4</th>\n",
       "      <td>iq2eq</td>\n",
       "      <td>538672533910740992</td>\n",
       "      <td>2014-11-29 12:35:14</td>\n",
       "      <td>1417264514</td>\n",
       "      <td>0</td>\n",
       "      <td>\"All this sound &amp; fury receded with the floodw...</td>\n",
       "      <td>2014-11-29</td>\n",
       "    </tr>\n",
       "    <tr>\n",
       "      <th>...</th>\n",
       "      <td>...</td>\n",
       "      <td>...</td>\n",
       "      <td>...</td>\n",
       "      <td>...</td>\n",
       "      <td>...</td>\n",
       "      <td>...</td>\n",
       "      <td>...</td>\n",
       "    </tr>\n",
       "    <tr>\n",
       "      <th>744</th>\n",
       "      <td>CGC_Mumbai</td>\n",
       "      <td>901126000020381696</td>\n",
       "      <td>2017-08-25 16:55:55</td>\n",
       "      <td>1503680155</td>\n",
       "      <td>0</td>\n",
       "      <td>It was built to divert the floodwaters from th...</td>\n",
       "      <td>2017-08-25</td>\n",
       "    </tr>\n",
       "    <tr>\n",
       "      <th>745</th>\n",
       "      <td>MitKat_Advisory</td>\n",
       "      <td>899534115396919297</td>\n",
       "      <td>2017-08-21 07:30:20</td>\n",
       "      <td>1503300620</td>\n",
       "      <td>1</td>\n",
       "      <td>#India: #Rains forecast for #Mumbai, #Bengalur...</td>\n",
       "      <td>2017-08-21</td>\n",
       "    </tr>\n",
       "    <tr>\n",
       "      <th>746</th>\n",
       "      <td>CivilDefWatch</td>\n",
       "      <td>896379083763920898</td>\n",
       "      <td>2017-08-12 14:33:22</td>\n",
       "      <td>1502548402</td>\n",
       "      <td>0</td>\n",
       "      <td>SkymetWeather: #Weather Forecast for Aug 13: #...</td>\n",
       "      <td>2017-08-12</td>\n",
       "    </tr>\n",
       "    <tr>\n",
       "      <th>747</th>\n",
       "      <td>SkymetWeather</td>\n",
       "      <td>896378251404222464</td>\n",
       "      <td>2017-08-12 14:30:03</td>\n",
       "      <td>1502548203</td>\n",
       "      <td>0</td>\n",
       "      <td>#Weather Forecast for Aug 13: #Rain in #Mumbai...</td>\n",
       "      <td>2017-08-12</td>\n",
       "    </tr>\n",
       "    <tr>\n",
       "      <th>748</th>\n",
       "      <td>TFearlessIndian</td>\n",
       "      <td>894808352122966017</td>\n",
       "      <td>2017-08-08 06:31:50</td>\n",
       "      <td>1502173910</td>\n",
       "      <td>0</td>\n",
       "      <td>#TheFearlessIndian: Mumbai’s ‘#Food Army’ send...</td>\n",
       "      <td>2017-08-08</td>\n",
       "    </tr>\n",
       "  </tbody>\n",
       "</table>\n",
       "<p>749 rows × 7 columns</p>\n",
       "</div>"
      ],
      "text/plain": [
       "            username            tweet_id            timestamp  \\\n",
       "0     ayesha_kapadia  438750971817365504  2014-02-26 19:02:37   \n",
       "1     ayesha_kapadia  438750971817365504  2014-02-26 19:02:37   \n",
       "2       SanaKhanGeek  544555926926016512  2014-12-15 18:13:44   \n",
       "3         mataonline  539248361623146498  2014-12-01 02:43:22   \n",
       "4              iq2eq  538672533910740992  2014-11-29 12:35:14   \n",
       "..               ...                 ...                  ...   \n",
       "744       CGC_Mumbai  901126000020381696  2017-08-25 16:55:55   \n",
       "745  MitKat_Advisory  899534115396919297  2017-08-21 07:30:20   \n",
       "746    CivilDefWatch  896379083763920898  2017-08-12 14:33:22   \n",
       "747    SkymetWeather  896378251404222464  2017-08-12 14:30:03   \n",
       "748  TFearlessIndian  894808352122966017  2017-08-08 06:31:50   \n",
       "\n",
       "     timestamp_epochs  retweets  \\\n",
       "0          1393441357         0   \n",
       "1          1393441357         0   \n",
       "2          1418667224         0   \n",
       "3          1417401802         1   \n",
       "4          1417264514         0   \n",
       "..                ...       ...   \n",
       "744        1503680155         0   \n",
       "745        1503300620         1   \n",
       "746        1502548402         0   \n",
       "747        1502548203         0   \n",
       "748        1502173910         0   \n",
       "\n",
       "                                                  text  clean_date  \n",
       "0    Friend. #art #design #graphic #illustration #M...  2014-02-26  \n",
       "1    Friend. #art #design #graphic #illustration #M...  2014-02-26  \n",
       "2    Humanity Still Exists: The good samaritans of ...  2014-12-15  \n",
       "3    हवामान बदलाचा फटका, मुंबई-कोलकाताला पुराचा धोक...  2014-12-01  \n",
       "4    \"All this sound & fury receded with the floodw...  2014-11-29  \n",
       "..                                                 ...         ...  \n",
       "744  It was built to divert the floodwaters from th...  2017-08-25  \n",
       "745  #India: #Rains forecast for #Mumbai, #Bengalur...  2017-08-21  \n",
       "746  SkymetWeather: #Weather Forecast for Aug 13: #...  2017-08-12  \n",
       "747  #Weather Forecast for Aug 13: #Rain in #Mumbai...  2017-08-12  \n",
       "748  #TheFearlessIndian: Mumbai’s ‘#Food Army’ send...  2017-08-08  \n",
       "\n",
       "[749 rows x 7 columns]"
      ]
     },
     "execution_count": 119,
     "metadata": {},
     "output_type": "execute_result"
    }
   ],
   "source": [
    "tweets"
   ]
  },
  {
   "cell_type": "code",
   "execution_count": 120,
   "metadata": {},
   "outputs": [
    {
     "data": {
      "text/plain": [
       "0      2014-02-26 19:02:37\n",
       "1      2014-02-26 19:02:37\n",
       "2      2014-12-15 18:13:44\n",
       "3      2014-12-01 02:43:22\n",
       "4      2014-11-29 12:35:14\n",
       "              ...         \n",
       "744    2017-08-25 16:55:55\n",
       "745    2017-08-21 07:30:20\n",
       "746    2017-08-12 14:33:22\n",
       "747    2017-08-12 14:30:03\n",
       "748    2017-08-08 06:31:50\n",
       "Name: timestamp, Length: 749, dtype: object"
      ]
     },
     "execution_count": 120,
     "metadata": {},
     "output_type": "execute_result"
    }
   ],
   "source": [
    "tweets['timestamp']"
   ]
  },
  {
   "cell_type": "code",
   "execution_count": 134,
   "metadata": {},
   "outputs": [
    {
     "name": "stderr",
     "output_type": "stream",
     "text": [
      "C:\\Users\\Tilevitz Family\\Anaconda3\\envs\\dsi\\lib\\site-packages\\ipykernel_launcher.py:1: SettingWithCopyWarning: \n",
      "A value is trying to be set on a copy of a slice from a DataFrame.\n",
      "Try using .loc[row_indexer,col_indexer] = value instead\n",
      "\n",
      "See the caveats in the documentation: http://pandas.pydata.org/pandas-docs/stable/user_guide/indexing.html#returning-a-view-versus-a-copy\n",
      "  \"\"\"Entry point for launching an IPython kernel.\n"
     ]
    }
   ],
   "source": [
    "tweets['clean_date'] = pd.to_datetime(tweets['clean_date'], format='%Y-%m-%d')"
   ]
  },
  {
   "cell_type": "code",
   "execution_count": 135,
   "metadata": {
    "scrolled": true
   },
   "outputs": [
    {
     "data": {
      "text/plain": [
       "username                    object\n",
       "tweet_id                     int64\n",
       "timestamp                   object\n",
       "timestamp_epochs             int64\n",
       "retweets                     int64\n",
       "text                        object\n",
       "clean_date          datetime64[ns]\n",
       "dtype: object"
      ]
     },
     "execution_count": 135,
     "metadata": {},
     "output_type": "execute_result"
    }
   ],
   "source": [
    "tweets.dtypes"
   ]
  },
  {
   "cell_type": "code",
   "execution_count": 136,
   "metadata": {},
   "outputs": [
    {
     "data": {
      "text/html": [
       "<div>\n",
       "<style scoped>\n",
       "    .dataframe tbody tr th:only-of-type {\n",
       "        vertical-align: middle;\n",
       "    }\n",
       "\n",
       "    .dataframe tbody tr th {\n",
       "        vertical-align: top;\n",
       "    }\n",
       "\n",
       "    .dataframe thead th {\n",
       "        text-align: right;\n",
       "    }\n",
       "</style>\n",
       "<table border=\"1\" class=\"dataframe\">\n",
       "  <thead>\n",
       "    <tr style=\"text-align: right;\">\n",
       "      <th></th>\n",
       "      <th>tweet_id</th>\n",
       "      <th>timestamp_epochs</th>\n",
       "      <th>retweets</th>\n",
       "    </tr>\n",
       "  </thead>\n",
       "  <tbody>\n",
       "    <tr>\n",
       "      <th>count</th>\n",
       "      <td>5.870000e+02</td>\n",
       "      <td>5.870000e+02</td>\n",
       "      <td>587.000000</td>\n",
       "    </tr>\n",
       "    <tr>\n",
       "      <th>mean</th>\n",
       "      <td>7.853748e+17</td>\n",
       "      <td>1.476083e+09</td>\n",
       "      <td>1.100511</td>\n",
       "    </tr>\n",
       "    <tr>\n",
       "      <th>std</th>\n",
       "      <td>1.483207e+17</td>\n",
       "      <td>3.536240e+07</td>\n",
       "      <td>4.708041</td>\n",
       "    </tr>\n",
       "    <tr>\n",
       "      <th>min</th>\n",
       "      <td>4.387510e+17</td>\n",
       "      <td>1.393441e+09</td>\n",
       "      <td>0.000000</td>\n",
       "    </tr>\n",
       "    <tr>\n",
       "      <th>25%</th>\n",
       "      <td>6.281472e+17</td>\n",
       "      <td>1.438597e+09</td>\n",
       "      <td>0.000000</td>\n",
       "    </tr>\n",
       "    <tr>\n",
       "      <th>50%</th>\n",
       "      <td>9.024315e+17</td>\n",
       "      <td>1.503991e+09</td>\n",
       "      <td>0.000000</td>\n",
       "    </tr>\n",
       "    <tr>\n",
       "      <th>75%</th>\n",
       "      <td>9.029285e+17</td>\n",
       "      <td>1.504110e+09</td>\n",
       "      <td>1.000000</td>\n",
       "    </tr>\n",
       "    <tr>\n",
       "      <th>max</th>\n",
       "      <td>9.469521e+17</td>\n",
       "      <td>1.514606e+09</td>\n",
       "      <td>75.000000</td>\n",
       "    </tr>\n",
       "  </tbody>\n",
       "</table>\n",
       "</div>"
      ],
      "text/plain": [
       "           tweet_id  timestamp_epochs    retweets\n",
       "count  5.870000e+02      5.870000e+02  587.000000\n",
       "mean   7.853748e+17      1.476083e+09    1.100511\n",
       "std    1.483207e+17      3.536240e+07    4.708041\n",
       "min    4.387510e+17      1.393441e+09    0.000000\n",
       "25%    6.281472e+17      1.438597e+09    0.000000\n",
       "50%    9.024315e+17      1.503991e+09    0.000000\n",
       "75%    9.029285e+17      1.504110e+09    1.000000\n",
       "max    9.469521e+17      1.514606e+09   75.000000"
      ]
     },
     "execution_count": 136,
     "metadata": {},
     "output_type": "execute_result"
    }
   ],
   "source": [
    "tweets.describe()"
   ]
  },
  {
   "cell_type": "code",
   "execution_count": 137,
   "metadata": {
    "scrolled": true
   },
   "outputs": [
    {
     "data": {
      "text/html": [
       "<div>\n",
       "<style scoped>\n",
       "    .dataframe tbody tr th:only-of-type {\n",
       "        vertical-align: middle;\n",
       "    }\n",
       "\n",
       "    .dataframe tbody tr th {\n",
       "        vertical-align: top;\n",
       "    }\n",
       "\n",
       "    .dataframe thead th {\n",
       "        text-align: right;\n",
       "    }\n",
       "</style>\n",
       "<table border=\"1\" class=\"dataframe\">\n",
       "  <thead>\n",
       "    <tr style=\"text-align: right;\">\n",
       "      <th></th>\n",
       "      <th>username</th>\n",
       "      <th>tweet_id</th>\n",
       "      <th>timestamp</th>\n",
       "      <th>timestamp_epochs</th>\n",
       "      <th>retweets</th>\n",
       "      <th>text</th>\n",
       "      <th>clean_date</th>\n",
       "    </tr>\n",
       "  </thead>\n",
       "  <tbody>\n",
       "    <tr>\n",
       "      <th>744</th>\n",
       "      <td>CGC_Mumbai</td>\n",
       "      <td>901126000020381696</td>\n",
       "      <td>2017-08-25 16:55:55</td>\n",
       "      <td>1503680155</td>\n",
       "      <td>0</td>\n",
       "      <td>It was built to divert the floodwaters from th...</td>\n",
       "      <td>2017-08-25</td>\n",
       "    </tr>\n",
       "    <tr>\n",
       "      <th>745</th>\n",
       "      <td>MitKat_Advisory</td>\n",
       "      <td>899534115396919297</td>\n",
       "      <td>2017-08-21 07:30:20</td>\n",
       "      <td>1503300620</td>\n",
       "      <td>1</td>\n",
       "      <td>#India: #Rains forecast for #Mumbai, #Bengalur...</td>\n",
       "      <td>2017-08-21</td>\n",
       "    </tr>\n",
       "    <tr>\n",
       "      <th>746</th>\n",
       "      <td>CivilDefWatch</td>\n",
       "      <td>896379083763920898</td>\n",
       "      <td>2017-08-12 14:33:22</td>\n",
       "      <td>1502548402</td>\n",
       "      <td>0</td>\n",
       "      <td>SkymetWeather: #Weather Forecast for Aug 13: #...</td>\n",
       "      <td>2017-08-12</td>\n",
       "    </tr>\n",
       "    <tr>\n",
       "      <th>747</th>\n",
       "      <td>SkymetWeather</td>\n",
       "      <td>896378251404222464</td>\n",
       "      <td>2017-08-12 14:30:03</td>\n",
       "      <td>1502548203</td>\n",
       "      <td>0</td>\n",
       "      <td>#Weather Forecast for Aug 13: #Rain in #Mumbai...</td>\n",
       "      <td>2017-08-12</td>\n",
       "    </tr>\n",
       "    <tr>\n",
       "      <th>748</th>\n",
       "      <td>TFearlessIndian</td>\n",
       "      <td>894808352122966017</td>\n",
       "      <td>2017-08-08 06:31:50</td>\n",
       "      <td>1502173910</td>\n",
       "      <td>0</td>\n",
       "      <td>#TheFearlessIndian: Mumbai’s ‘#Food Army’ send...</td>\n",
       "      <td>2017-08-08</td>\n",
       "    </tr>\n",
       "  </tbody>\n",
       "</table>\n",
       "</div>"
      ],
      "text/plain": [
       "            username            tweet_id            timestamp  \\\n",
       "744       CGC_Mumbai  901126000020381696  2017-08-25 16:55:55   \n",
       "745  MitKat_Advisory  899534115396919297  2017-08-21 07:30:20   \n",
       "746    CivilDefWatch  896379083763920898  2017-08-12 14:33:22   \n",
       "747    SkymetWeather  896378251404222464  2017-08-12 14:30:03   \n",
       "748  TFearlessIndian  894808352122966017  2017-08-08 06:31:50   \n",
       "\n",
       "     timestamp_epochs  retweets  \\\n",
       "744        1503680155         0   \n",
       "745        1503300620         1   \n",
       "746        1502548402         0   \n",
       "747        1502548203         0   \n",
       "748        1502173910         0   \n",
       "\n",
       "                                                  text clean_date  \n",
       "744  It was built to divert the floodwaters from th... 2017-08-25  \n",
       "745  #India: #Rains forecast for #Mumbai, #Bengalur... 2017-08-21  \n",
       "746  SkymetWeather: #Weather Forecast for Aug 13: #... 2017-08-12  \n",
       "747  #Weather Forecast for Aug 13: #Rain in #Mumbai... 2017-08-12  \n",
       "748  #TheFearlessIndian: Mumbai’s ‘#Food Army’ send... 2017-08-08  "
      ]
     },
     "execution_count": 137,
     "metadata": {},
     "output_type": "execute_result"
    }
   ],
   "source": [
    "tweets.tail()"
   ]
  },
  {
   "cell_type": "code",
   "execution_count": 138,
   "metadata": {},
   "outputs": [
    {
     "data": {
      "image/png": "[encoded data removed]",
      "text/plain": [
       "<Figure size 432x288 with 1 Axes>"
      ]
     },
     "metadata": {
      "needs_background": "light"
     },
     "output_type": "display_data"
    }
   ],
   "source": [
    "tweets.hist(column = 'timestamp_epochs', bins = 30);"
   ]
  },
  {
   "cell_type": "code",
   "execution_count": 139,
   "metadata": {},
   "outputs": [
    {
     "data": {
      "text/html": [
       "<div>\n",
       "<style scoped>\n",
       "    .dataframe tbody tr th:only-of-type {\n",
       "        vertical-align: middle;\n",
       "    }\n",
       "\n",
       "    .dataframe tbody tr th {\n",
       "        vertical-align: top;\n",
       "    }\n",
       "\n",
       "    .dataframe thead th {\n",
       "        text-align: right;\n",
       "    }\n",
       "</style>\n",
       "<table border=\"1\" class=\"dataframe\">\n",
       "  <thead>\n",
       "    <tr style=\"text-align: right;\">\n",
       "      <th></th>\n",
       "      <th>tweet_id</th>\n",
       "      <th>timestamp_epochs</th>\n",
       "      <th>retweets</th>\n",
       "    </tr>\n",
       "  </thead>\n",
       "  <tbody>\n",
       "    <tr>\n",
       "      <th>count</th>\n",
       "      <td>5.870000e+02</td>\n",
       "      <td>5.870000e+02</td>\n",
       "      <td>587.000000</td>\n",
       "    </tr>\n",
       "    <tr>\n",
       "      <th>mean</th>\n",
       "      <td>7.853748e+17</td>\n",
       "      <td>1.476083e+09</td>\n",
       "      <td>1.100511</td>\n",
       "    </tr>\n",
       "    <tr>\n",
       "      <th>std</th>\n",
       "      <td>1.483207e+17</td>\n",
       "      <td>3.536240e+07</td>\n",
       "      <td>4.708041</td>\n",
       "    </tr>\n",
       "    <tr>\n",
       "      <th>min</th>\n",
       "      <td>4.387510e+17</td>\n",
       "      <td>1.393441e+09</td>\n",
       "      <td>0.000000</td>\n",
       "    </tr>\n",
       "    <tr>\n",
       "      <th>25%</th>\n",
       "      <td>6.281472e+17</td>\n",
       "      <td>1.438597e+09</td>\n",
       "      <td>0.000000</td>\n",
       "    </tr>\n",
       "    <tr>\n",
       "      <th>50%</th>\n",
       "      <td>9.024315e+17</td>\n",
       "      <td>1.503991e+09</td>\n",
       "      <td>0.000000</td>\n",
       "    </tr>\n",
       "    <tr>\n",
       "      <th>75%</th>\n",
       "      <td>9.029285e+17</td>\n",
       "      <td>1.504110e+09</td>\n",
       "      <td>1.000000</td>\n",
       "    </tr>\n",
       "    <tr>\n",
       "      <th>max</th>\n",
       "      <td>9.469521e+17</td>\n",
       "      <td>1.514606e+09</td>\n",
       "      <td>75.000000</td>\n",
       "    </tr>\n",
       "  </tbody>\n",
       "</table>\n",
       "</div>"
      ],
      "text/plain": [
       "           tweet_id  timestamp_epochs    retweets\n",
       "count  5.870000e+02      5.870000e+02  587.000000\n",
       "mean   7.853748e+17      1.476083e+09    1.100511\n",
       "std    1.483207e+17      3.536240e+07    4.708041\n",
       "min    4.387510e+17      1.393441e+09    0.000000\n",
       "25%    6.281472e+17      1.438597e+09    0.000000\n",
       "50%    9.024315e+17      1.503991e+09    0.000000\n",
       "75%    9.029285e+17      1.504110e+09    1.000000\n",
       "max    9.469521e+17      1.514606e+09   75.000000"
      ]
     },
     "execution_count": 139,
     "metadata": {},
     "output_type": "execute_result"
    }
   ],
   "source": [
    "tweets.describe()"
   ]
  },
  {
   "cell_type": "code",
   "execution_count": 140,
   "metadata": {},
   "outputs": [
    {
     "data": {
      "text/html": [
       "<div>\n",
       "<style scoped>\n",
       "    .dataframe tbody tr th:only-of-type {\n",
       "        vertical-align: middle;\n",
       "    }\n",
       "\n",
       "    .dataframe tbody tr th {\n",
       "        vertical-align: top;\n",
       "    }\n",
       "\n",
       "    .dataframe thead th {\n",
       "        text-align: right;\n",
       "    }\n",
       "</style>\n",
       "<table border=\"1\" class=\"dataframe\">\n",
       "  <thead>\n",
       "    <tr style=\"text-align: right;\">\n",
       "      <th></th>\n",
       "      <th>username</th>\n",
       "      <th>tweet_id</th>\n",
       "      <th>timestamp</th>\n",
       "      <th>timestamp_epochs</th>\n",
       "      <th>retweets</th>\n",
       "      <th>text</th>\n",
       "      <th>clean_date</th>\n",
       "    </tr>\n",
       "  </thead>\n",
       "  <tbody>\n",
       "  </tbody>\n",
       "</table>\n",
       "</div>"
      ],
      "text/plain": [
       "Empty DataFrame\n",
       "Columns: [username, tweet_id, timestamp, timestamp_epochs, retweets, text, clean_date]\n",
       "Index: []"
      ]
     },
     "execution_count": 140,
     "metadata": {},
     "output_type": "execute_result"
    }
   ],
   "source": [
    "tweets[tweets['retweets'] > 500]"
   ]
  },
  {
   "cell_type": "code",
   "execution_count": 141,
   "metadata": {},
   "outputs": [
    {
     "data": {
      "image/png": "[encoded data removed]",
      "text/plain": [
       "<Figure size 432x288 with 1 Axes>"
      ]
     },
     "metadata": {
      "needs_background": "light"
     },
     "output_type": "display_data"
    }
   ],
   "source": [
    "tweets.hist(column = 'retweets', bins = 100);"
   ]
  },
  {
   "cell_type": "code",
   "execution_count": 142,
   "metadata": {
    "scrolled": true
   },
   "outputs": [
    {
     "data": {
      "text/html": [
       "<div>\n",
       "<style scoped>\n",
       "    .dataframe tbody tr th:only-of-type {\n",
       "        vertical-align: middle;\n",
       "    }\n",
       "\n",
       "    .dataframe tbody tr th {\n",
       "        vertical-align: top;\n",
       "    }\n",
       "\n",
       "    .dataframe thead th {\n",
       "        text-align: right;\n",
       "    }\n",
       "</style>\n",
       "<table border=\"1\" class=\"dataframe\">\n",
       "  <thead>\n",
       "    <tr style=\"text-align: right;\">\n",
       "      <th></th>\n",
       "      <th>username</th>\n",
       "      <th>tweet_id</th>\n",
       "      <th>timestamp</th>\n",
       "      <th>timestamp_epochs</th>\n",
       "      <th>retweets</th>\n",
       "      <th>text</th>\n",
       "      <th>clean_date</th>\n",
       "    </tr>\n",
       "  </thead>\n",
       "  <tbody>\n",
       "  </tbody>\n",
       "</table>\n",
       "</div>"
      ],
      "text/plain": [
       "Empty DataFrame\n",
       "Columns: [username, tweet_id, timestamp, timestamp_epochs, retweets, text, clean_date]\n",
       "Index: []"
      ]
     },
     "execution_count": 142,
     "metadata": {},
     "output_type": "execute_result"
    }
   ],
   "source": [
    "# Identify duplicate tweet content (identical shared newsitems, users with multiple twitter accounts, etc)\n",
    "tweets[tweets.duplicated(['text'])]"
   ]
  },
  {
   "cell_type": "code",
   "execution_count": 143,
   "metadata": {},
   "outputs": [],
   "source": [
    "tweets = tweets.drop_duplicates(['text'])"
   ]
  },
  {
   "cell_type": "code",
   "execution_count": 144,
   "metadata": {},
   "outputs": [
    {
     "data": {
      "text/plain": [
       "(587, 7)"
      ]
     },
     "execution_count": 144,
     "metadata": {},
     "output_type": "execute_result"
    }
   ],
   "source": [
    "tweets.shape"
   ]
  },
  {
   "cell_type": "code",
   "execution_count": 145,
   "metadata": {},
   "outputs": [
    {
     "data": {
      "text/plain": [
       "<matplotlib.axes._subplots.AxesSubplot at 0x1411a91a648>"
      ]
     },
     "execution_count": 145,
     "metadata": {},
     "output_type": "execute_result"
    },
    {
     "data": {
      "image/png": "[encoded data removed]",
      "text/plain": [
       "<Figure size 432x288 with 1 Axes>"
      ]
     },
     "metadata": {
      "needs_background": "light"
     },
     "output_type": "display_data"
    }
   ],
   "source": [
    "tweets.groupby([tweets[\"clean_date\"].dt.year, tweets[\"clean_date\"].dt.month]).count().plot(kind=\"bar\")"
   ]
  },
  {
   "cell_type": "code",
   "execution_count": 146,
   "metadata": {},
   "outputs": [
    {
     "data": {
      "image/png": "[encoded data removed]",
      "text/plain": [
       "<Figure size 864x648 with 1 Axes>"
      ]
     },
     "metadata": {
      "needs_background": "light"
     },
     "output_type": "display_data"
    }
   ],
   "source": [
    "tweets.groupby([tweets[\"clean_date\"].dt.year, tweets[\"clean_date\"].dt.month]).count().plot(kind=\"bar\", figsize = (12, 9));"
   ]
  },
  {
   "cell_type": "code",
   "execution_count": 147,
   "metadata": {},
   "outputs": [],
   "source": [
    "cvec_tw = CountVectorizer()"
   ]
  },
  {
   "cell_type": "code",
   "execution_count": 148,
   "metadata": {},
   "outputs": [
    {
     "data": {
      "text/html": [
       "<div>\n",
       "<style scoped>\n",
       "    .dataframe tbody tr th:only-of-type {\n",
       "        vertical-align: middle;\n",
       "    }\n",
       "\n",
       "    .dataframe tbody tr th {\n",
       "        vertical-align: top;\n",
       "    }\n",
       "\n",
       "    .dataframe thead th {\n",
       "        text-align: right;\n",
       "    }\n",
       "</style>\n",
       "<table border=\"1\" class=\"dataframe\">\n",
       "  <thead>\n",
       "    <tr style=\"text-align: right;\">\n",
       "      <th></th>\n",
       "      <th>000</th>\n",
       "      <th>01</th>\n",
       "      <th>08</th>\n",
       "      <th>12</th>\n",
       "      <th>1200</th>\n",
       "      <th>13</th>\n",
       "      <th>13in</th>\n",
       "      <th>18</th>\n",
       "      <th>19</th>\n",
       "      <th>20</th>\n",
       "      <th>...</th>\n",
       "      <th>youtube</th>\n",
       "      <th>और</th>\n",
       "      <th>बई</th>\n",
       "      <th>বইয</th>\n",
       "      <th>கன</th>\n",
       "      <th>கனமழ</th>\n",
       "      <th>கள</th>\n",
       "      <th>மழ</th>\n",
       "      <th>ளத</th>\n",
       "      <th>นเด</th>\n",
       "    </tr>\n",
       "  </thead>\n",
       "  <tbody>\n",
       "    <tr>\n",
       "      <th>0</th>\n",
       "      <td>0</td>\n",
       "      <td>0</td>\n",
       "      <td>0</td>\n",
       "      <td>0</td>\n",
       "      <td>0</td>\n",
       "      <td>0</td>\n",
       "      <td>0</td>\n",
       "      <td>0</td>\n",
       "      <td>0</td>\n",
       "      <td>0</td>\n",
       "      <td>...</td>\n",
       "      <td>0</td>\n",
       "      <td>0</td>\n",
       "      <td>0</td>\n",
       "      <td>0</td>\n",
       "      <td>0</td>\n",
       "      <td>0</td>\n",
       "      <td>0</td>\n",
       "      <td>0</td>\n",
       "      <td>0</td>\n",
       "      <td>0</td>\n",
       "    </tr>\n",
       "    <tr>\n",
       "      <th>1</th>\n",
       "      <td>0</td>\n",
       "      <td>0</td>\n",
       "      <td>0</td>\n",
       "      <td>0</td>\n",
       "      <td>0</td>\n",
       "      <td>0</td>\n",
       "      <td>0</td>\n",
       "      <td>0</td>\n",
       "      <td>0</td>\n",
       "      <td>0</td>\n",
       "      <td>...</td>\n",
       "      <td>0</td>\n",
       "      <td>0</td>\n",
       "      <td>0</td>\n",
       "      <td>0</td>\n",
       "      <td>0</td>\n",
       "      <td>0</td>\n",
       "      <td>0</td>\n",
       "      <td>0</td>\n",
       "      <td>0</td>\n",
       "      <td>0</td>\n",
       "    </tr>\n",
       "    <tr>\n",
       "      <th>2</th>\n",
       "      <td>0</td>\n",
       "      <td>0</td>\n",
       "      <td>0</td>\n",
       "      <td>0</td>\n",
       "      <td>0</td>\n",
       "      <td>0</td>\n",
       "      <td>0</td>\n",
       "      <td>0</td>\n",
       "      <td>0</td>\n",
       "      <td>0</td>\n",
       "      <td>...</td>\n",
       "      <td>0</td>\n",
       "      <td>0</td>\n",
       "      <td>1</td>\n",
       "      <td>0</td>\n",
       "      <td>0</td>\n",
       "      <td>0</td>\n",
       "      <td>0</td>\n",
       "      <td>0</td>\n",
       "      <td>0</td>\n",
       "      <td>0</td>\n",
       "    </tr>\n",
       "    <tr>\n",
       "      <th>3</th>\n",
       "      <td>0</td>\n",
       "      <td>0</td>\n",
       "      <td>0</td>\n",
       "      <td>0</td>\n",
       "      <td>0</td>\n",
       "      <td>0</td>\n",
       "      <td>0</td>\n",
       "      <td>0</td>\n",
       "      <td>0</td>\n",
       "      <td>0</td>\n",
       "      <td>...</td>\n",
       "      <td>0</td>\n",
       "      <td>0</td>\n",
       "      <td>0</td>\n",
       "      <td>0</td>\n",
       "      <td>0</td>\n",
       "      <td>0</td>\n",
       "      <td>0</td>\n",
       "      <td>0</td>\n",
       "      <td>0</td>\n",
       "      <td>0</td>\n",
       "    </tr>\n",
       "    <tr>\n",
       "      <th>4</th>\n",
       "      <td>0</td>\n",
       "      <td>0</td>\n",
       "      <td>0</td>\n",
       "      <td>0</td>\n",
       "      <td>0</td>\n",
       "      <td>0</td>\n",
       "      <td>0</td>\n",
       "      <td>0</td>\n",
       "      <td>0</td>\n",
       "      <td>0</td>\n",
       "      <td>...</td>\n",
       "      <td>0</td>\n",
       "      <td>0</td>\n",
       "      <td>0</td>\n",
       "      <td>0</td>\n",
       "      <td>0</td>\n",
       "      <td>0</td>\n",
       "      <td>0</td>\n",
       "      <td>0</td>\n",
       "      <td>0</td>\n",
       "      <td>0</td>\n",
       "    </tr>\n",
       "  </tbody>\n",
       "</table>\n",
       "<p>5 rows × 500 columns</p>\n",
       "</div>"
      ],
      "text/plain": [
       "   000  01  08  12  1200  13  13in  18  19  20  ...  youtube  और  बई  বইয  கன  \\\n",
       "0    0   0   0   0     0   0     0   0   0   0  ...        0   0   0    0   0   \n",
       "1    0   0   0   0     0   0     0   0   0   0  ...        0   0   0    0   0   \n",
       "2    0   0   0   0     0   0     0   0   0   0  ...        0   0   1    0   0   \n",
       "3    0   0   0   0     0   0     0   0   0   0  ...        0   0   0    0   0   \n",
       "4    0   0   0   0     0   0     0   0   0   0  ...        0   0   0    0   0   \n",
       "\n",
       "   கனமழ  கள  மழ  ளத  นเด  \n",
       "0     0   0   0   0    0  \n",
       "1     0   0   0   0    0  \n",
       "2     0   0   0   0    0  \n",
       "3     0   0   0   0    0  \n",
       "4     0   0   0   0    0  \n",
       "\n",
       "[5 rows x 500 columns]"
      ]
     },
     "execution_count": 148,
     "metadata": {},
     "output_type": "execute_result"
    }
   ],
   "source": [
    "# Initiate instance of CountVectorizer for tweet data\n",
    "cvec_tw = CountVectorizer(stop_words = 'english', # get rid of stopwords, right now we're more interested in what's left after\n",
    "                          max_features = 500, # only use 500 top features\n",
    "                          max_df = 0.98)  # Don't use features that appear in more than 98% of entries\n",
    "\n",
    "# Pull out 'title' column from climatechange data\n",
    "X_tw = tweets['text']\n",
    "\n",
    "# Fit the vectorizer to our corpus\n",
    "cvec_tw.fit(X_tw)\n",
    "\n",
    "# Transform the training corpus\n",
    "X_tw = cvec_tw.transform(X_tw)\n",
    "\n",
    "# Convert result into a dataframe\n",
    "X_tw_df = pd.DataFrame(X_tw.toarray(),\n",
    "                          columns=cvec_tw.get_feature_names())\n",
    "X_tw_df.head()"
   ]
  },
  {
   "cell_type": "code",
   "execution_count": 149,
   "metadata": {},
   "outputs": [
    {
     "data": {
      "text/plain": [
       "(587, 500)"
      ]
     },
     "execution_count": 149,
     "metadata": {},
     "output_type": "execute_result"
    }
   ],
   "source": [
    "X_tw_df.shape"
   ]
  },
  {
   "cell_type": "code",
   "execution_count": 150,
   "metadata": {},
   "outputs": [],
   "source": [
    "# Save 20 most frequently appearing words to a df, in descending order\n",
    "tw_bardat = X_tw_df.sum().sort_values(ascending = False)[0:20].to_frame()"
   ]
  },
  {
   "cell_type": "code",
   "execution_count": 151,
   "metadata": {},
   "outputs": [
    {
     "data": {
      "text/plain": [
       "Index(['flood', 'com', 'flooding', 'http', 'twitter', 'india', 'rains',\n",
       "       'https', 'www', 'rain', 'mumbairains', 'news', 'monsoon', 'pic',\n",
       "       'floods', 'heavy', 'instagram', 'status', 'ly', 'city'],\n",
       "      dtype='object')"
      ]
     },
     "execution_count": 151,
     "metadata": {},
     "output_type": "execute_result"
    }
   ],
   "source": [
    "tw_bardat.index"
   ]
  },
  {
   "cell_type": "code",
   "execution_count": 152,
   "metadata": {},
   "outputs": [
    {
     "data": {
      "image/png": "[encoded data removed]",
      "text/plain": [
       "<Figure size 1152x648 with 1 Axes>"
      ]
     },
     "metadata": {},
     "output_type": "display_data"
    }
   ],
   "source": [
    "fig, ax = plt.subplots(figsize=(16, 9), sharex = True, constrained_layout = True, # Share x axes to keep ranges the same\n",
    "                              facecolor = '#E0E0E0')  # Set figure facecolor to match slide theme\n",
    "ax.barh(tw_bardat.index, tw_bardat[0]);\n",
    "ax.invert_yaxis(); # Flip plot vertically so values descending from top\n",
    "ax.set_title(f'Word Frequency Across {city}-related Tweets', fontsize = 20);\n",
    "ax.set_xlabel('Word Frequency', fontsize = 16);\n",
    "ax.set_yticklabels(tw_bardat.index, fontsize = 12)\n",
    "ax.tick_params(labelsize = 14)\n",
    "         "
   ]
  },
  {
   "cell_type": "code",
   "execution_count": null,
   "metadata": {},
   "outputs": [],
   "source": []
  },
  {
   "cell_type": "code",
   "execution_count": 105,
   "metadata": {},
   "outputs": [],
   "source": [
    "# For loop to do most of my 'Title' cleaning--remove punctuation, convert to lowercase, lemmatize\n",
    "# With guidance from Preeya Sawadmanod\n",
    "\n",
    "text_puncless = []\n",
    "text_lemmed = []\n",
    "\n",
    "for row in tweets['text']:\n",
    "    # Instantiate tokenizer/set to remove punctuation, numbers, and any 'words' comprised of just 1 character\n",
    "    # Numbers removed because many were completely extraneous\n",
    "    # And the ones that might have been useful weren't useful enough to justify keeping the rest\n",
    "    tokenizer = RegexpTokenizer(r'[a-zA-Z]{2,}') # (r'\\w+')\n",
    "\n",
    "    # Instantiate lemmatizer: lemmatizer over stemmer because false negatives are preferable here to false positives\n",
    "    # We don't want to over-estimate the accuracy of our predictions\n",
    "    lemmatizer = WordNetLemmatizer()\n",
    "    \n",
    "    # Tokenize each row (also do the change to lower-case here)\n",
    "    rows = tokenizer.tokenize(row.lower())\n",
    "    \n",
    "    # Lemmatize all words in each row\n",
    "    lem_rows = [lemmatizer.lemmatize(word) for word in rows]\n",
    "    \n",
    "    # Change each row back from a list of strings to a single string\n",
    "    rows = ' '.join(rows)\n",
    "    lem_rows = ' '.join(lem_rows)\n",
    "    \n",
    "    # Append fixed rows to their respective lists\n",
    "    text_puncless.append(rows)\n",
    "    text_lemmed.append(lem_rows)"
   ]
  },
  {
   "cell_type": "code",
   "execution_count": 108,
   "metadata": {},
   "outputs": [
    {
     "data": {
      "text/plain": [
       "28139"
      ]
     },
     "execution_count": 108,
     "metadata": {},
     "output_type": "execute_result"
    }
   ],
   "source": [
    "len(text_puncless)"
   ]
  },
  {
   "cell_type": "code",
   "execution_count": 111,
   "metadata": {},
   "outputs": [
    {
     "data": {
      "text/plain": [
       "(28139, 9)"
      ]
     },
     "execution_count": 111,
     "metadata": {},
     "output_type": "execute_result"
    }
   ],
   "source": [
    "tweets.shape"
   ]
  },
  {
   "cell_type": "code",
   "execution_count": 110,
   "metadata": {},
   "outputs": [
    {
     "name": "stderr",
     "output_type": "stream",
     "text": [
      "C:\\Users\\Tilevitz Family\\Anaconda3\\envs\\dsi\\lib\\site-packages\\ipykernel_launcher.py:2: SettingWithCopyWarning: \n",
      "A value is trying to be set on a copy of a slice from a DataFrame.\n",
      "Try using .loc[row_indexer,col_indexer] = value instead\n",
      "\n",
      "See the caveats in the documentation: http://pandas.pydata.org/pandas-docs/stable/user_guide/indexing.html#returning-a-view-versus-a-copy\n",
      "  \n",
      "C:\\Users\\Tilevitz Family\\Anaconda3\\envs\\dsi\\lib\\site-packages\\ipykernel_launcher.py:3: SettingWithCopyWarning: \n",
      "A value is trying to be set on a copy of a slice from a DataFrame.\n",
      "Try using .loc[row_indexer,col_indexer] = value instead\n",
      "\n",
      "See the caveats in the documentation: http://pandas.pydata.org/pandas-docs/stable/user_guide/indexing.html#returning-a-view-versus-a-copy\n",
      "  This is separate from the ipykernel package so we can avoid doing imports until\n"
     ]
    }
   ],
   "source": [
    "# Insert cleaned lists of titles into dataframe as new columns\n",
    "tweets['text_nopunc'] = text_puncless\n",
    "tweets['text_lemmed'] = text_lemmed"
   ]
  },
  {
   "cell_type": "code",
   "execution_count": 112,
   "metadata": {},
   "outputs": [
    {
     "data": {
      "text/html": [
       "<div>\n",
       "<style scoped>\n",
       "    .dataframe tbody tr th:only-of-type {\n",
       "        vertical-align: middle;\n",
       "    }\n",
       "\n",
       "    .dataframe tbody tr th {\n",
       "        vertical-align: top;\n",
       "    }\n",
       "\n",
       "    .dataframe thead th {\n",
       "        text-align: right;\n",
       "    }\n",
       "</style>\n",
       "<table border=\"1\" class=\"dataframe\">\n",
       "  <thead>\n",
       "    <tr style=\"text-align: right;\">\n",
       "      <th></th>\n",
       "      <th>username</th>\n",
       "      <th>tweet_id</th>\n",
       "      <th>timestamp</th>\n",
       "      <th>timestamp_epochs</th>\n",
       "      <th>retweets</th>\n",
       "      <th>text</th>\n",
       "      <th>clean_date</th>\n",
       "      <th>text_nopunc</th>\n",
       "      <th>text_lemmed</th>\n",
       "    </tr>\n",
       "  </thead>\n",
       "  <tbody>\n",
       "    <tr>\n",
       "      <th>0</th>\n",
       "      <td>mark_tarello</td>\n",
       "      <td>471077480262930432</td>\n",
       "      <td>2014-05-26 23:56:38</td>\n",
       "      <td>1401148598</td>\n",
       "      <td>1</td>\n",
       "      <td>FLOODING from heavy rain this afternoon near H...</td>\n",
       "      <td>2014-05-26</td>\n",
       "      <td>flooding from heavy rain this afternoon near h...</td>\n",
       "      <td>flooding from heavy rain this afternoon near h...</td>\n",
       "    </tr>\n",
       "    <tr>\n",
       "      <th>1</th>\n",
       "      <td>Djtexasoutlaw</td>\n",
       "      <td>471074963911213056</td>\n",
       "      <td>2014-05-26 23:46:38</td>\n",
       "      <td>1401147998</td>\n",
       "      <td>0</td>\n",
       "      <td>Flood on di main road! #Houston #Flood http://...</td>\n",
       "      <td>2014-05-26</td>\n",
       "      <td>flood on di main road houston flood http insta...</td>\n",
       "      <td>flood on di main road houston flood http insta...</td>\n",
       "    </tr>\n",
       "    <tr>\n",
       "      <th>2</th>\n",
       "      <td>laurenalexxis</td>\n",
       "      <td>471067687708143616</td>\n",
       "      <td>2014-05-26 23:17:43</td>\n",
       "      <td>1401146263</td>\n",
       "      <td>0</td>\n",
       "      <td>Stay safe! #rain #flood #storm #houston #sugar...</td>\n",
       "      <td>2014-05-26</td>\n",
       "      <td>stay safe rain flood storm houston sugarland h...</td>\n",
       "      <td>stay safe rain flood storm houston sugarland h...</td>\n",
       "    </tr>\n",
       "    <tr>\n",
       "      <th>3</th>\n",
       "      <td>leenstaraileen</td>\n",
       "      <td>471067572490616832</td>\n",
       "      <td>2014-05-26 23:17:15</td>\n",
       "      <td>1401146235</td>\n",
       "      <td>0</td>\n",
       "      <td>My daughters boat is floating... #houston #flo...</td>\n",
       "      <td>2014-05-26</td>\n",
       "      <td>my daughters boat is floating houston flooding...</td>\n",
       "      <td>my daughter boat is floating houston flooding ...</td>\n",
       "    </tr>\n",
       "    <tr>\n",
       "      <th>4</th>\n",
       "      <td>ImJohnsirz</td>\n",
       "      <td>471066240975654912</td>\n",
       "      <td>2014-05-26 23:11:58</td>\n",
       "      <td>1401145918</td>\n",
       "      <td>0</td>\n",
       "      <td>Welp we lost power her at walgreens. Gonna hav...</td>\n",
       "      <td>2014-05-26</td>\n",
       "      <td>welp we lost power her at walgreens gonna have...</td>\n",
       "      <td>welp we lost power her at walgreens gonna have...</td>\n",
       "    </tr>\n",
       "  </tbody>\n",
       "</table>\n",
       "</div>"
      ],
      "text/plain": [
       "         username            tweet_id            timestamp  timestamp_epochs  \\\n",
       "0    mark_tarello  471077480262930432  2014-05-26 23:56:38        1401148598   \n",
       "1   Djtexasoutlaw  471074963911213056  2014-05-26 23:46:38        1401147998   \n",
       "2   laurenalexxis  471067687708143616  2014-05-26 23:17:43        1401146263   \n",
       "3  leenstaraileen  471067572490616832  2014-05-26 23:17:15        1401146235   \n",
       "4      ImJohnsirz  471066240975654912  2014-05-26 23:11:58        1401145918   \n",
       "\n",
       "   retweets                                               text clean_date  \\\n",
       "0         1  FLOODING from heavy rain this afternoon near H... 2014-05-26   \n",
       "1         0  Flood on di main road! #Houston #Flood http://... 2014-05-26   \n",
       "2         0  Stay safe! #rain #flood #storm #houston #sugar... 2014-05-26   \n",
       "3         0  My daughters boat is floating... #houston #flo... 2014-05-26   \n",
       "4         0  Welp we lost power her at walgreens. Gonna hav... 2014-05-26   \n",
       "\n",
       "                                         text_nopunc  \\\n",
       "0  flooding from heavy rain this afternoon near h...   \n",
       "1  flood on di main road houston flood http insta...   \n",
       "2  stay safe rain flood storm houston sugarland h...   \n",
       "3  my daughters boat is floating houston flooding...   \n",
       "4  welp we lost power her at walgreens gonna have...   \n",
       "\n",
       "                                         text_lemmed  \n",
       "0  flooding from heavy rain this afternoon near h...  \n",
       "1  flood on di main road houston flood http insta...  \n",
       "2  stay safe rain flood storm houston sugarland h...  \n",
       "3  my daughter boat is floating houston flooding ...  \n",
       "4  welp we lost power her at walgreens gonna have...  "
      ]
     },
     "execution_count": 112,
     "metadata": {},
     "output_type": "execute_result"
    }
   ],
   "source": [
    "tweets.head()"
   ]
  },
  {
   "cell_type": "code",
   "execution_count": null,
   "metadata": {},
   "outputs": [],
   "source": [
    "# WORD-TO-VEC ???? Try kmeans with and without word2vec\n",
    "# Support vector machines\n",
    "# KMeans\n",
    "# Cosine similarity?\n"
   ]
  },
  {
   "cell_type": "code",
   "execution_count": null,
   "metadata": {},
   "outputs": [],
   "source": []
  }
 ],
 "metadata": {
  "kernelspec": {
   "display_name": "Python [conda env:dsi] *",
   "language": "python",
   "name": "conda-env-dsi-py"
  },
  "language_info": {
   "codemirror_mode": {
    "name": "ipython",
    "version": 3
   },
   "file_extension": ".py",
   "mimetype": "text/x-python",
   "name": "python",
   "nbconvert_exporter": "python",
   "pygments_lexer": "ipython3",
   "version": "3.7.4"
  },
  "toc": {
   "base_numbering": 1,
   "nav_menu": {},
   "number_sections": true,
   "sideBar": true,
   "skip_h1_title": false,
   "title_cell": "Table of Contents",
   "title_sidebar": "Contents",
   "toc_cell": false,
   "toc_position": {},
   "toc_section_display": true,
   "toc_window_display": false
  },
  "varInspector": {
   "cols": {
    "lenName": 16,
    "lenType": 16,
    "lenVar": 40
   },
   "kernels_config": {
    "python": {
     "delete_cmd_postfix": "",
     "delete_cmd_prefix": "del ",
     "library": "var_list.py",
     "varRefreshCmd": "print(var_dic_list())"
    },
    "r": {
     "delete_cmd_postfix": ") ",
     "delete_cmd_prefix": "rm(",
     "library": "var_list.r",
     "varRefreshCmd": "cat(var_dic_list()) "
    }
   },
   "types_to_exclude": [
    "module",
    "function",
    "builtin_function_or_method",
    "instance",
    "_Feature"
   ],
   "window_display": false
  }
 },
 "nbformat": 4,
 "nbformat_minor": 2
}
