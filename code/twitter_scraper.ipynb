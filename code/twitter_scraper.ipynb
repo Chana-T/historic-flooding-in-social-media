{
 "cells": [
  {
   "cell_type": "code",
   "execution_count": 12,
   "metadata": {
    "scrolled": true
   },
   "outputs": [],
   "source": [
    "import pandas as pd\n",
    "import numpy as np\n",
    "from twitterscraper import query_tweets\n",
    "import datetime as dt"
   ]
  },
  {
   "cell_type": "code",
   "execution_count": 13,
   "metadata": {},
   "outputs": [],
   "source": [
    "pd.set_option('max_colwidth', 300)"
   ]
  },
  {
   "cell_type": "code",
   "execution_count": 42,
   "metadata": {},
   "outputs": [],
   "source": [
    "start_date = dt.date(2014, 1, 1)\n",
    "end_date = dt.date(2018, 1, 1)\n",
    "lang = 'english'\n",
    "city = 'Manila'"
   ]
  },
  {
   "cell_type": "code",
   "execution_count": 43,
   "metadata": {
    "scrolled": false
   },
   "outputs": [
    {
     "name": "stderr",
     "output_type": "stream",
     "text": [
      "INFO: queries: [' (\"#flood\" OR \"#flooding\" OR \"floodwater\" OR \"floodwaters\" OR \"#floodwater\" OR \"#floodwaters\" OR \"#flooddamage\" OR \"#flooddamages\" OR \"#flooddeath\" OR \"#flooddeaths\") AND (\"Manila\" OR \"Manilaflood\" OR \"Manilaflooding\" OR \"#Manila\" OR \"#Manilaflood\" OR \"#Manilaflooding\" OR \"#Manilaweather\") -filter:retweets since:2014-01-01 until:2014-05-27', ' (\"#flood\" OR \"#flooding\" OR \"floodwater\" OR \"floodwaters\" OR \"#floodwater\" OR \"#floodwaters\" OR \"#flooddamage\" OR \"#flooddamages\" OR \"#flooddeath\" OR \"#flooddeaths\") AND (\"Manila\" OR \"Manilaflood\" OR \"Manilaflooding\" OR \"#Manila\" OR \"#Manilaflood\" OR \"#Manilaflooding\" OR \"#Manilaweather\") -filter:retweets since:2014-05-27 until:2014-10-20', ' (\"#flood\" OR \"#flooding\" OR \"floodwater\" OR \"floodwaters\" OR \"#floodwater\" OR \"#floodwaters\" OR \"#flooddamage\" OR \"#flooddamages\" OR \"#flooddeath\" OR \"#flooddeaths\") AND (\"Manila\" OR \"Manilaflood\" OR \"Manilaflooding\" OR \"#Manila\" OR \"#Manilaflood\" OR \"#Manilaflooding\" OR \"#Manilaweather\") -filter:retweets since:2014-10-20 until:2015-03-15', ' (\"#flood\" OR \"#flooding\" OR \"floodwater\" OR \"floodwaters\" OR \"#floodwater\" OR \"#floodwaters\" OR \"#flooddamage\" OR \"#flooddamages\" OR \"#flooddeath\" OR \"#flooddeaths\") AND (\"Manila\" OR \"Manilaflood\" OR \"Manilaflooding\" OR \"#Manila\" OR \"#Manilaflood\" OR \"#Manilaflooding\" OR \"#Manilaweather\") -filter:retweets since:2015-03-15 until:2015-08-08', ' (\"#flood\" OR \"#flooding\" OR \"floodwater\" OR \"floodwaters\" OR \"#floodwater\" OR \"#floodwaters\" OR \"#flooddamage\" OR \"#flooddamages\" OR \"#flooddeath\" OR \"#flooddeaths\") AND (\"Manila\" OR \"Manilaflood\" OR \"Manilaflooding\" OR \"#Manila\" OR \"#Manilaflood\" OR \"#Manilaflooding\" OR \"#Manilaweather\") -filter:retweets since:2015-08-08 until:2016-01-01', ' (\"#flood\" OR \"#flooding\" OR \"floodwater\" OR \"floodwaters\" OR \"#floodwater\" OR \"#floodwaters\" OR \"#flooddamage\" OR \"#flooddamages\" OR \"#flooddeath\" OR \"#flooddeaths\") AND (\"Manila\" OR \"Manilaflood\" OR \"Manilaflooding\" OR \"#Manila\" OR \"#Manilaflood\" OR \"#Manilaflooding\" OR \"#Manilaweather\") -filter:retweets since:2016-01-01 until:2016-05-26', ' (\"#flood\" OR \"#flooding\" OR \"floodwater\" OR \"floodwaters\" OR \"#floodwater\" OR \"#floodwaters\" OR \"#flooddamage\" OR \"#flooddamages\" OR \"#flooddeath\" OR \"#flooddeaths\") AND (\"Manila\" OR \"Manilaflood\" OR \"Manilaflooding\" OR \"#Manila\" OR \"#Manilaflood\" OR \"#Manilaflooding\" OR \"#Manilaweather\") -filter:retweets since:2016-05-26 until:2016-10-19', ' (\"#flood\" OR \"#flooding\" OR \"floodwater\" OR \"floodwaters\" OR \"#floodwater\" OR \"#floodwaters\" OR \"#flooddamage\" OR \"#flooddamages\" OR \"#flooddeath\" OR \"#flooddeaths\") AND (\"Manila\" OR \"Manilaflood\" OR \"Manilaflooding\" OR \"#Manila\" OR \"#Manilaflood\" OR \"#Manilaflooding\" OR \"#Manilaweather\") -filter:retweets since:2016-10-19 until:2017-03-14', ' (\"#flood\" OR \"#flooding\" OR \"floodwater\" OR \"floodwaters\" OR \"#floodwater\" OR \"#floodwaters\" OR \"#flooddamage\" OR \"#flooddamages\" OR \"#flooddeath\" OR \"#flooddeaths\") AND (\"Manila\" OR \"Manilaflood\" OR \"Manilaflooding\" OR \"#Manila\" OR \"#Manilaflood\" OR \"#Manilaflooding\" OR \"#Manilaweather\") -filter:retweets since:2017-03-14 until:2017-08-07', ' (\"#flood\" OR \"#flooding\" OR \"floodwater\" OR \"floodwaters\" OR \"#floodwater\" OR \"#floodwaters\" OR \"#flooddamage\" OR \"#flooddamages\" OR \"#flooddeath\" OR \"#flooddeaths\") AND (\"Manila\" OR \"Manilaflood\" OR \"Manilaflooding\" OR \"#Manila\" OR \"#Manilaflood\" OR \"#Manilaflooding\" OR \"#Manilaweather\") -filter:retweets since:2017-08-07 until:2018-01-01']\n",
      "INFO: Got 22 tweets (22 new).\n",
      "INFO: Got 36 tweets (14 new).\n",
      "INFO: Got 92 tweets (56 new).\n",
      "INFO: Got 137 tweets (45 new).\n",
      "INFO: Got 208 tweets (71 new).\n",
      "INFO: Got 228 tweets (20 new).\n",
      "INFO: Got 300 tweets (72 new).\n",
      "INFO: Got 386 tweets (86 new).\n",
      "INFO: Got 467 tweets (81 new).\n",
      "INFO: Got 702 tweets (235 new).\n"
     ]
    }
   ],
   "source": [
    "tweet_list = query_tweets(f' (\"#flood\" OR \"#flooding\" OR \"floodwater\" OR \"floodwaters\" OR \"#floodwater\" OR \"#floodwaters\" OR \"#flooddamage\" OR \"#flooddamages\" OR \"#flooddeath\" OR \"#flooddeaths\") AND (\"{city}\" OR \"{city}flood\" OR \"{city}flooding\" OR \"#{city}\" OR \"#{city}flood\" OR \"#{city}flooding\" OR \"#{city}weather\") -filter:retweets',\n",
    "                               #ADD TIMESTAMP\n",
    "                              begindate = start_date,\n",
    "                              enddate = end_date,\n",
    "                              lang = lang,\n",
    "                              poolsize = 10)"
   ]
  },
  {
   "cell_type": "code",
   "execution_count": null,
   "metadata": {
    "scrolled": true
   },
   "outputs": [],
   "source": [
    "# tweet_list = query_tweets(f' (\"#flood\" OR \"#flooding\") AND (\"{city}\" OR \"{city}flood\" OR \"{city}flooding\" OR \"#{city}\" OR \"#{city}flood\" OR \"#{city}flooding\") near:{city} within:10mi -filter:retweets',\n",
    "#                                #ADD TIMESTAMP\n",
    "#                               begindate = start_date,\n",
    "#                               enddate = end_date,\n",
    "#                               poolsize = 10)"
   ]
  },
  {
   "cell_type": "code",
   "execution_count": 44,
   "metadata": {},
   "outputs": [],
   "source": [
    "df = pd.DataFrame(t.__dict__ for t in tweet_list)"
   ]
  },
  {
   "cell_type": "code",
   "execution_count": 45,
   "metadata": {},
   "outputs": [
    {
     "data": {
      "text/plain": [
       "(702, 16)"
      ]
     },
     "execution_count": 45,
     "metadata": {},
     "output_type": "execute_result"
    }
   ],
   "source": [
    "df.shape"
   ]
  },
  {
   "cell_type": "code",
   "execution_count": 46,
   "metadata": {
    "scrolled": true
   },
   "outputs": [
    {
     "name": "stdout",
     "output_type": "stream",
     "text": [
      "<class 'pandas.core.frame.DataFrame'>\n",
      "RangeIndex: 702 entries, 0 to 701\n",
      "Data columns (total 16 columns):\n",
      "username              702 non-null object\n",
      "fullname              702 non-null object\n",
      "user_id               702 non-null object\n",
      "tweet_id              702 non-null object\n",
      "tweet_url             702 non-null object\n",
      "timestamp             702 non-null datetime64[ns]\n",
      "timestamp_epochs      702 non-null int64\n",
      "replies               702 non-null int64\n",
      "retweets              702 non-null int64\n",
      "likes                 702 non-null int64\n",
      "is_retweet            702 non-null int64\n",
      "retweeter_username    702 non-null object\n",
      "retweeter_userid      702 non-null object\n",
      "retweet_id            702 non-null object\n",
      "text                  702 non-null object\n",
      "html                  702 non-null object\n",
      "dtypes: datetime64[ns](1), int64(5), object(10)\n",
      "memory usage: 87.9+ KB\n"
     ]
    }
   ],
   "source": [
    "df.info()"
   ]
  },
  {
   "cell_type": "code",
   "execution_count": 47,
   "metadata": {},
   "outputs": [],
   "source": [
    "df.to_csv(f'../data/tweetscrape_{city}_{start_date}_to_{end_date}.csv', index = None)"
   ]
  },
  {
   "cell_type": "code",
   "execution_count": null,
   "metadata": {},
   "outputs": [],
   "source": []
  },
  {
   "cell_type": "code",
   "execution_count": null,
   "metadata": {},
   "outputs": [],
   "source": []
  }
 ],
 "metadata": {
  "kernelspec": {
   "display_name": "Python 3",
   "language": "python",
   "name": "python3"
  },
  "language_info": {
   "codemirror_mode": {
    "name": "ipython",
    "version": 3
   },
   "file_extension": ".py",
   "mimetype": "text/x-python",
   "name": "python",
   "nbconvert_exporter": "python",
   "pygments_lexer": "ipython3",
   "version": "3.7.4"
  },
  "toc": {
   "base_numbering": 1,
   "nav_menu": {},
   "number_sections": true,
   "sideBar": true,
   "skip_h1_title": false,
   "title_cell": "Table of Contents",
   "title_sidebar": "Contents",
   "toc_cell": false,
   "toc_position": {},
   "toc_section_display": true,
   "toc_window_display": false
  },
  "varInspector": {
   "cols": {
    "lenName": 16,
    "lenType": 16,
    "lenVar": 40
   },
   "kernels_config": {
    "python": {
     "delete_cmd_postfix": "",
     "delete_cmd_prefix": "del ",
     "library": "var_list.py",
     "varRefreshCmd": "print(var_dic_list())"
    },
    "r": {
     "delete_cmd_postfix": ") ",
     "delete_cmd_prefix": "rm(",
     "library": "var_list.r",
     "varRefreshCmd": "cat(var_dic_list()) "
    }
   },
   "types_to_exclude": [
    "module",
    "function",
    "builtin_function_or_method",
    "instance",
    "_Feature"
   ],
   "window_display": false
  }
 },
 "nbformat": 4,
 "nbformat_minor": 2
}
