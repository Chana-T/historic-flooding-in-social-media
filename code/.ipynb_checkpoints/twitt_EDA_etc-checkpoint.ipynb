{
 "cells": [
  {
   "cell_type": "code",
   "execution_count": null,
   "metadata": {},
   "outputs": [],
   "source": []
  },
  {
   "cell_type": "code",
   "execution_count": null,
   "metadata": {},
   "outputs": [],
   "source": [
    "# Load libraries and functions\n",
    "import pandas as pd\n",
    "import numpy as np\n",
    "import datetime as dt\n",
    "import matplotlib.pyplot as plt\n",
    "import matplotlib.dates as mdates\n",
    "from sklearn.feature_extraction.text import CountVectorizer, TfidfVectorizer, ENGLISH_STOP_WORDS\n",
    "from nltk.corpus import stopwords\n",
    "from nltk.tokenize import RegexpTokenizer\n",
    "from nltk.stem import WordNetLemmatizer\n",
    "from sklearn.cluster import KMeans\n",
    "from sklearn.pipeline import Pipeline\n",
    "from sklearn.model_selection import train_test_split, GridSearchCV\n",
    "from sklearn.metrics import silhouette_score\n",
    "from sklearn.preprocessing import StandardScaler"
   ]
  },
  {
   "cell_type": "code",
   "execution_count": 2,
   "metadata": {},
   "outputs": [],
   "source": [
    "# Turn off warnings to reduce angry red-space in notebook\n",
    "import warnings\n",
    "warnings.simplefilter(action='ignore', category=FutureWarning)"
   ]
  },
  {
   "cell_type": "markdown",
   "metadata": {},
   "source": [
    "### Identify city and date range of interest (same as used within Twitter scrape)"
   ]
  },
  {
   "cell_type": "code",
   "execution_count": 3,
   "metadata": {},
   "outputs": [],
   "source": [
    "city = 'Houston'\n",
    "start_date = dt.date(2014, 1, 1)\n",
    "end_date = dt.date(2018, 1, 1)"
   ]
  },
  {
   "cell_type": "code",
   "execution_count": 4,
   "metadata": {},
   "outputs": [],
   "source": [
    "# Read .csv created with above parameters\n",
    "df = pd.read_csv(f'../data/tweetscrape_{city}_{start_date}_to_{end_date}.csv')"
   ]
  },
  {
   "cell_type": "code",
   "execution_count": 5,
   "metadata": {},
   "outputs": [],
   "source": [
    "# Create df with only columns of interest\n",
    "tweets = df[['username', 'tweet_id', 'timestamp', 'timestamp_epochs', 'retweets', 'text']]"
   ]
  },
  {
   "cell_type": "code",
   "execution_count": 6,
   "metadata": {},
   "outputs": [
    {
     "data": {
      "text/plain": [
       "(33036, 6)"
      ]
     },
     "execution_count": 6,
     "metadata": {},
     "output_type": "execute_result"
    }
   ],
   "source": [
    "tweets.shape"
   ]
  },
  {
   "cell_type": "code",
   "execution_count": 7,
   "metadata": {},
   "outputs": [
    {
     "data": {
      "text/plain": [
       "dtype('O')"
      ]
     },
     "execution_count": 7,
     "metadata": {},
     "output_type": "execute_result"
    }
   ],
   "source": [
    "tweets['timestamp'].dtypes"
   ]
  },
  {
   "cell_type": "markdown",
   "metadata": {},
   "source": [
    "### Manipulate timestamp"
   ]
  },
  {
   "cell_type": "markdown",
   "metadata": {},
   "source": [
    "#### Remove seconds and convert to date-time"
   ]
  },
  {
   "cell_type": "code",
   "execution_count": 8,
   "metadata": {
    "scrolled": true
   },
   "outputs": [
    {
     "name": "stderr",
     "output_type": "stream",
     "text": [
      "C:\\Users\\Tilevitz Family\\Anaconda3\\envs\\dsi\\lib\\site-packages\\ipykernel_launcher.py:9: SettingWithCopyWarning: \n",
      "A value is trying to be set on a copy of a slice from a DataFrame.\n",
      "Try using .loc[row_indexer,col_indexer] = value instead\n",
      "\n",
      "See the caveats in the documentation: http://pandas.pydata.org/pandas-docs/stable/user_guide/indexing.html#returning-a-view-versus-a-copy\n",
      "  if __name__ == '__main__':\n"
     ]
    },
    {
     "data": {
      "text/plain": [
       "0        2014-05-26\n",
       "1        2014-05-26\n",
       "2        2014-05-26\n",
       "3        2014-05-26\n",
       "4        2014-05-26\n",
       "            ...    \n",
       "33031    2017-08-08\n",
       "33032    2017-08-08\n",
       "33033    2017-08-08\n",
       "33034    2017-08-08\n",
       "33035    2017-08-08\n",
       "Name: clean_date, Length: 33036, dtype: object"
      ]
     },
     "execution_count": 8,
     "metadata": {},
     "output_type": "execute_result"
    }
   ],
   "source": [
    "# loop through rows to change timestamp format into something functional:\n",
    "\n",
    "date_list = []\n",
    "\n",
    "for tweet in tweets['timestamp']:\n",
    "    tweet = tweet.replace(' ', '')[:-8]\n",
    "    date_list.append(tweet)\n",
    "    \n",
    "tweets['clean_date'] = date_list\n",
    "tweets['clean_date']"
   ]
  },
  {
   "cell_type": "code",
   "execution_count": 9,
   "metadata": {},
   "outputs": [
    {
     "data": {
      "text/html": [
       "<div>\n",
       "<style scoped>\n",
       "    .dataframe tbody tr th:only-of-type {\n",
       "        vertical-align: middle;\n",
       "    }\n",
       "\n",
       "    .dataframe tbody tr th {\n",
       "        vertical-align: top;\n",
       "    }\n",
       "\n",
       "    .dataframe thead th {\n",
       "        text-align: right;\n",
       "    }\n",
       "</style>\n",
       "<table border=\"1\" class=\"dataframe\">\n",
       "  <thead>\n",
       "    <tr style=\"text-align: right;\">\n",
       "      <th></th>\n",
       "      <th>username</th>\n",
       "      <th>tweet_id</th>\n",
       "      <th>timestamp</th>\n",
       "      <th>timestamp_epochs</th>\n",
       "      <th>retweets</th>\n",
       "      <th>text</th>\n",
       "      <th>clean_date</th>\n",
       "    </tr>\n",
       "  </thead>\n",
       "  <tbody>\n",
       "    <tr>\n",
       "      <th>0</th>\n",
       "      <td>mark_tarello</td>\n",
       "      <td>471077480262930432</td>\n",
       "      <td>2014-05-26 23:56:38</td>\n",
       "      <td>1401148598</td>\n",
       "      <td>1</td>\n",
       "      <td>FLOODING from heavy rain this afternoon near H...</td>\n",
       "      <td>2014-05-26</td>\n",
       "    </tr>\n",
       "    <tr>\n",
       "      <th>1</th>\n",
       "      <td>Djtexasoutlaw</td>\n",
       "      <td>471074963911213056</td>\n",
       "      <td>2014-05-26 23:46:38</td>\n",
       "      <td>1401147998</td>\n",
       "      <td>0</td>\n",
       "      <td>Flood on di main road! #Houston #Flood http://...</td>\n",
       "      <td>2014-05-26</td>\n",
       "    </tr>\n",
       "    <tr>\n",
       "      <th>2</th>\n",
       "      <td>laurenalexxis</td>\n",
       "      <td>471067687708143616</td>\n",
       "      <td>2014-05-26 23:17:43</td>\n",
       "      <td>1401146263</td>\n",
       "      <td>0</td>\n",
       "      <td>Stay safe! #rain #flood #storm #houston #sugar...</td>\n",
       "      <td>2014-05-26</td>\n",
       "    </tr>\n",
       "    <tr>\n",
       "      <th>3</th>\n",
       "      <td>leenstaraileen</td>\n",
       "      <td>471067572490616832</td>\n",
       "      <td>2014-05-26 23:17:15</td>\n",
       "      <td>1401146235</td>\n",
       "      <td>0</td>\n",
       "      <td>My daughters boat is floating... #houston #flo...</td>\n",
       "      <td>2014-05-26</td>\n",
       "    </tr>\n",
       "    <tr>\n",
       "      <th>4</th>\n",
       "      <td>ImJohnsirz</td>\n",
       "      <td>471066240975654912</td>\n",
       "      <td>2014-05-26 23:11:58</td>\n",
       "      <td>1401145918</td>\n",
       "      <td>0</td>\n",
       "      <td>Welp we lost power her at walgreens. Gonna hav...</td>\n",
       "      <td>2014-05-26</td>\n",
       "    </tr>\n",
       "    <tr>\n",
       "      <th>...</th>\n",
       "      <td>...</td>\n",
       "      <td>...</td>\n",
       "      <td>...</td>\n",
       "      <td>...</td>\n",
       "      <td>...</td>\n",
       "      <td>...</td>\n",
       "      <td>...</td>\n",
       "    </tr>\n",
       "    <tr>\n",
       "      <th>33031</th>\n",
       "      <td>CivilDefWatch</td>\n",
       "      <td>894847747551088640</td>\n",
       "      <td>2017-08-08 09:08:23</td>\n",
       "      <td>1502183303</td>\n",
       "      <td>0</td>\n",
       "      <td>weatherchannel: 4-7\" of rain -&gt; widespread fla...</td>\n",
       "      <td>2017-08-08</td>\n",
       "    </tr>\n",
       "    <tr>\n",
       "      <th>33032</th>\n",
       "      <td>weatherchannel</td>\n",
       "      <td>894845828010999808</td>\n",
       "      <td>2017-08-08 09:00:45</td>\n",
       "      <td>1502182845</td>\n",
       "      <td>27</td>\n",
       "      <td>4-7\" of rain -&gt; widespread flash #flooding in ...</td>\n",
       "      <td>2017-08-08</td>\n",
       "    </tr>\n",
       "    <tr>\n",
       "      <th>33033</th>\n",
       "      <td>wxjerdman</td>\n",
       "      <td>894839680721711105</td>\n",
       "      <td>2017-08-08 08:36:19</td>\n",
       "      <td>1502181379</td>\n",
       "      <td>1</td>\n",
       "      <td>Mon AM: San Antonio. This AM: #Houston. 2-3\"/h...</td>\n",
       "      <td>2017-08-08</td>\n",
       "    </tr>\n",
       "    <tr>\n",
       "      <th>33034</th>\n",
       "      <td>kimconde752</td>\n",
       "      <td>894810035922104320</td>\n",
       "      <td>2017-08-08 06:38:31</td>\n",
       "      <td>1502174311</td>\n",
       "      <td>1</td>\n",
       "      <td>Well, not what I wanted to come home to   \\n#H...</td>\n",
       "      <td>2017-08-08</td>\n",
       "    </tr>\n",
       "    <tr>\n",
       "      <th>33035</th>\n",
       "      <td>JeffFrichette</td>\n",
       "      <td>894792180367319040</td>\n",
       "      <td>2017-08-08 05:27:34</td>\n",
       "      <td>1502170054</td>\n",
       "      <td>0</td>\n",
       "      <td>Rain is no joke here in Houston #Houston #floo...</td>\n",
       "      <td>2017-08-08</td>\n",
       "    </tr>\n",
       "  </tbody>\n",
       "</table>\n",
       "<p>33036 rows × 7 columns</p>\n",
       "</div>"
      ],
      "text/plain": [
       "             username            tweet_id            timestamp  \\\n",
       "0        mark_tarello  471077480262930432  2014-05-26 23:56:38   \n",
       "1       Djtexasoutlaw  471074963911213056  2014-05-26 23:46:38   \n",
       "2       laurenalexxis  471067687708143616  2014-05-26 23:17:43   \n",
       "3      leenstaraileen  471067572490616832  2014-05-26 23:17:15   \n",
       "4          ImJohnsirz  471066240975654912  2014-05-26 23:11:58   \n",
       "...               ...                 ...                  ...   \n",
       "33031   CivilDefWatch  894847747551088640  2017-08-08 09:08:23   \n",
       "33032  weatherchannel  894845828010999808  2017-08-08 09:00:45   \n",
       "33033       wxjerdman  894839680721711105  2017-08-08 08:36:19   \n",
       "33034     kimconde752  894810035922104320  2017-08-08 06:38:31   \n",
       "33035   JeffFrichette  894792180367319040  2017-08-08 05:27:34   \n",
       "\n",
       "       timestamp_epochs  retweets  \\\n",
       "0            1401148598         1   \n",
       "1            1401147998         0   \n",
       "2            1401146263         0   \n",
       "3            1401146235         0   \n",
       "4            1401145918         0   \n",
       "...                 ...       ...   \n",
       "33031        1502183303         0   \n",
       "33032        1502182845        27   \n",
       "33033        1502181379         1   \n",
       "33034        1502174311         1   \n",
       "33035        1502170054         0   \n",
       "\n",
       "                                                    text  clean_date  \n",
       "0      FLOODING from heavy rain this afternoon near H...  2014-05-26  \n",
       "1      Flood on di main road! #Houston #Flood http://...  2014-05-26  \n",
       "2      Stay safe! #rain #flood #storm #houston #sugar...  2014-05-26  \n",
       "3      My daughters boat is floating... #houston #flo...  2014-05-26  \n",
       "4      Welp we lost power her at walgreens. Gonna hav...  2014-05-26  \n",
       "...                                                  ...         ...  \n",
       "33031  weatherchannel: 4-7\" of rain -> widespread fla...  2017-08-08  \n",
       "33032  4-7\" of rain -> widespread flash #flooding in ...  2017-08-08  \n",
       "33033  Mon AM: San Antonio. This AM: #Houston. 2-3\"/h...  2017-08-08  \n",
       "33034  Well, not what I wanted to come home to   \\n#H...  2017-08-08  \n",
       "33035  Rain is no joke here in Houston #Houston #floo...  2017-08-08  \n",
       "\n",
       "[33036 rows x 7 columns]"
      ]
     },
     "execution_count": 9,
     "metadata": {},
     "output_type": "execute_result"
    }
   ],
   "source": [
    "tweets"
   ]
  },
  {
   "cell_type": "code",
   "execution_count": 10,
   "metadata": {},
   "outputs": [
    {
     "name": "stderr",
     "output_type": "stream",
     "text": [
      "C:\\Users\\Tilevitz Family\\Anaconda3\\envs\\dsi\\lib\\site-packages\\ipykernel_launcher.py:1: SettingWithCopyWarning: \n",
      "A value is trying to be set on a copy of a slice from a DataFrame.\n",
      "Try using .loc[row_indexer,col_indexer] = value instead\n",
      "\n",
      "See the caveats in the documentation: http://pandas.pydata.org/pandas-docs/stable/user_guide/indexing.html#returning-a-view-versus-a-copy\n",
      "  \"\"\"Entry point for launching an IPython kernel.\n"
     ]
    }
   ],
   "source": [
    "tweets['clean_date'] = pd.to_datetime(tweets['clean_date'], format='%Y-%m-%d')"
   ]
  },
  {
   "cell_type": "code",
   "execution_count": 11,
   "metadata": {
    "scrolled": true
   },
   "outputs": [
    {
     "data": {
      "text/plain": [
       "username                    object\n",
       "tweet_id                     int64\n",
       "timestamp                   object\n",
       "timestamp_epochs             int64\n",
       "retweets                     int64\n",
       "text                        object\n",
       "clean_date          datetime64[ns]\n",
       "dtype: object"
      ]
     },
     "execution_count": 11,
     "metadata": {},
     "output_type": "execute_result"
    }
   ],
   "source": [
    "tweets.dtypes"
   ]
  },
  {
   "cell_type": "markdown",
   "metadata": {},
   "source": [
    "#### Convert original timestamp to datetime"
   ]
  },
  {
   "cell_type": "code",
   "execution_count": 12,
   "metadata": {},
   "outputs": [
    {
     "name": "stderr",
     "output_type": "stream",
     "text": [
      "C:\\Users\\Tilevitz Family\\Anaconda3\\envs\\dsi\\lib\\site-packages\\ipykernel_launcher.py:1: SettingWithCopyWarning: \n",
      "A value is trying to be set on a copy of a slice from a DataFrame.\n",
      "Try using .loc[row_indexer,col_indexer] = value instead\n",
      "\n",
      "See the caveats in the documentation: http://pandas.pydata.org/pandas-docs/stable/user_guide/indexing.html#returning-a-view-versus-a-copy\n",
      "  \"\"\"Entry point for launching an IPython kernel.\n"
     ]
    }
   ],
   "source": [
    "tweets['timestamp'] = pd.to_datetime(tweets['timestamp'])"
   ]
  },
  {
   "cell_type": "code",
   "execution_count": 15,
   "metadata": {
    "scrolled": true
   },
   "outputs": [
    {
     "data": {
      "text/plain": [
       "30940"
      ]
     },
     "execution_count": 15,
     "metadata": {},
     "output_type": "execute_result"
    }
   ],
   "source": [
    "# Identify # of unique cells in this column\n",
    "tweets['timestamp'].nunique()"
   ]
  },
  {
   "cell_type": "code",
   "execution_count": 16,
   "metadata": {},
   "outputs": [
    {
     "data": {
      "text/plain": [
       "33036"
      ]
     },
     "execution_count": 16,
     "metadata": {},
     "output_type": "execute_result"
    }
   ],
   "source": [
    "df.shape[0]"
   ]
  },
  {
   "cell_type": "code",
   "execution_count": null,
   "metadata": {},
   "outputs": [],
   "source": []
  },
  {
   "cell_type": "code",
   "execution_count": null,
   "metadata": {},
   "outputs": [],
   "source": []
  },
  {
   "cell_type": "code",
   "execution_count": 18,
   "metadata": {},
   "outputs": [
    {
     "data": {
      "image/png": "[encoded data removed]",
      "text/plain": [
       "<Figure size 432x288 with 1 Axes>"
      ]
     },
     "metadata": {
      "needs_background": "light"
     },
     "output_type": "display_data"
    }
   ],
   "source": [
    "tweets.hist(column = 'timestamp_epochs', bins = 30);"
   ]
  },
  {
   "cell_type": "code",
   "execution_count": 19,
   "metadata": {},
   "outputs": [
    {
     "data": {
      "text/html": [
       "<div>\n",
       "<style scoped>\n",
       "    .dataframe tbody tr th:only-of-type {\n",
       "        vertical-align: middle;\n",
       "    }\n",
       "\n",
       "    .dataframe tbody tr th {\n",
       "        vertical-align: top;\n",
       "    }\n",
       "\n",
       "    .dataframe thead th {\n",
       "        text-align: right;\n",
       "    }\n",
       "</style>\n",
       "<table border=\"1\" class=\"dataframe\">\n",
       "  <thead>\n",
       "    <tr style=\"text-align: right;\">\n",
       "      <th></th>\n",
       "      <th>tweet_id</th>\n",
       "      <th>timestamp_epochs</th>\n",
       "      <th>retweets</th>\n",
       "    </tr>\n",
       "  </thead>\n",
       "  <tbody>\n",
       "    <tr>\n",
       "      <th>count</th>\n",
       "      <td>3.303600e+04</td>\n",
       "      <td>3.303600e+04</td>\n",
       "      <td>33036.000000</td>\n",
       "    </tr>\n",
       "    <tr>\n",
       "      <th>mean</th>\n",
       "      <td>8.416015e+17</td>\n",
       "      <td>1.489488e+09</td>\n",
       "      <td>4.245308</td>\n",
       "    </tr>\n",
       "    <tr>\n",
       "      <th>std</th>\n",
       "      <td>1.110064e+17</td>\n",
       "      <td>2.646600e+07</td>\n",
       "      <td>79.193981</td>\n",
       "    </tr>\n",
       "    <tr>\n",
       "      <th>min</th>\n",
       "      <td>4.338489e+17</td>\n",
       "      <td>1.392273e+09</td>\n",
       "      <td>0.000000</td>\n",
       "    </tr>\n",
       "    <tr>\n",
       "      <th>25%</th>\n",
       "      <td>7.861027e+17</td>\n",
       "      <td>1.476256e+09</td>\n",
       "      <td>0.000000</td>\n",
       "    </tr>\n",
       "    <tr>\n",
       "      <th>50%</th>\n",
       "      <td>9.023256e+17</td>\n",
       "      <td>1.503966e+09</td>\n",
       "      <td>0.000000</td>\n",
       "    </tr>\n",
       "    <tr>\n",
       "      <th>75%</th>\n",
       "      <td>9.032062e+17</td>\n",
       "      <td>1.504176e+09</td>\n",
       "      <td>0.000000</td>\n",
       "    </tr>\n",
       "    <tr>\n",
       "      <th>max</th>\n",
       "      <td>9.475989e+17</td>\n",
       "      <td>1.514760e+09</td>\n",
       "      <td>7466.000000</td>\n",
       "    </tr>\n",
       "  </tbody>\n",
       "</table>\n",
       "</div>"
      ],
      "text/plain": [
       "           tweet_id  timestamp_epochs      retweets\n",
       "count  3.303600e+04      3.303600e+04  33036.000000\n",
       "mean   8.416015e+17      1.489488e+09      4.245308\n",
       "std    1.110064e+17      2.646600e+07     79.193981\n",
       "min    4.338489e+17      1.392273e+09      0.000000\n",
       "25%    7.861027e+17      1.476256e+09      0.000000\n",
       "50%    9.023256e+17      1.503966e+09      0.000000\n",
       "75%    9.032062e+17      1.504176e+09      0.000000\n",
       "max    9.475989e+17      1.514760e+09   7466.000000"
      ]
     },
     "execution_count": 19,
     "metadata": {},
     "output_type": "execute_result"
    }
   ],
   "source": [
    "tweets.describe()"
   ]
  },
  {
   "cell_type": "code",
   "execution_count": 20,
   "metadata": {},
   "outputs": [
    {
     "data": {
      "text/html": [
       "<div>\n",
       "<style scoped>\n",
       "    .dataframe tbody tr th:only-of-type {\n",
       "        vertical-align: middle;\n",
       "    }\n",
       "\n",
       "    .dataframe tbody tr th {\n",
       "        vertical-align: top;\n",
       "    }\n",
       "\n",
       "    .dataframe thead th {\n",
       "        text-align: right;\n",
       "    }\n",
       "</style>\n",
       "<table border=\"1\" class=\"dataframe\">\n",
       "  <thead>\n",
       "    <tr style=\"text-align: right;\">\n",
       "      <th></th>\n",
       "      <th>username</th>\n",
       "      <th>tweet_id</th>\n",
       "      <th>timestamp</th>\n",
       "      <th>timestamp_epochs</th>\n",
       "      <th>retweets</th>\n",
       "      <th>text</th>\n",
       "      <th>clean_date</th>\n",
       "    </tr>\n",
       "  </thead>\n",
       "  <tbody>\n",
       "    <tr>\n",
       "      <th>8301</th>\n",
       "      <td>weatherchannel</td>\n",
       "      <td>603165438302932992</td>\n",
       "      <td>2015-05-26 11:47:01</td>\n",
       "      <td>1432640821</td>\n",
       "      <td>537</td>\n",
       "      <td>How bad is the #flooding in #Houston? This pic...</td>\n",
       "      <td>2015-05-26</td>\n",
       "    </tr>\n",
       "    <tr>\n",
       "      <th>11044</th>\n",
       "      <td>nytimes</td>\n",
       "      <td>907417747239436288</td>\n",
       "      <td>2017-09-12 01:37:04</td>\n",
       "      <td>1505180224</td>\n",
       "      <td>739</td>\n",
       "      <td>Floodwaters in 2 Houston neighborhoods have be...</td>\n",
       "      <td>2017-09-12</td>\n",
       "    </tr>\n",
       "    <tr>\n",
       "      <th>13249</th>\n",
       "      <td>AP</td>\n",
       "      <td>904032948994928640</td>\n",
       "      <td>2017-09-02 17:27:05</td>\n",
       "      <td>1504373225</td>\n",
       "      <td>2173</td>\n",
       "      <td>AP Exclusive: Floodwaters inundate at least 5 ...</td>\n",
       "      <td>2017-09-02</td>\n",
       "    </tr>\n",
       "    <tr>\n",
       "      <th>15241</th>\n",
       "      <td>ABC</td>\n",
       "      <td>903444880583782403</td>\n",
       "      <td>2017-09-01 02:30:19</td>\n",
       "      <td>1504233019</td>\n",
       "      <td>1978</td>\n",
       "      <td>Monster truck helps rescue a U.S. Army truck s...</td>\n",
       "      <td>2017-09-01</td>\n",
       "    </tr>\n",
       "    <tr>\n",
       "      <th>15456</th>\n",
       "      <td>abc13houston</td>\n",
       "      <td>903399989203886080</td>\n",
       "      <td>2017-08-31 23:31:56</td>\n",
       "      <td>1504222316</td>\n",
       "      <td>529</td>\n",
       "      <td>#TEXASSTRONG: Monster truck owners from Dallas...</td>\n",
       "      <td>2017-08-31</td>\n",
       "    </tr>\n",
       "    <tr>\n",
       "      <th>15720</th>\n",
       "      <td>ABC</td>\n",
       "      <td>903357606793809921</td>\n",
       "      <td>2017-08-31 20:43:31</td>\n",
       "      <td>1504212211</td>\n",
       "      <td>945</td>\n",
       "      <td>Monster truck helps rescue a U.S. Army truck s...</td>\n",
       "      <td>2017-08-31</td>\n",
       "    </tr>\n",
       "    <tr>\n",
       "      <th>18975</th>\n",
       "      <td>RedTRaccoon</td>\n",
       "      <td>902936573594877952</td>\n",
       "      <td>2017-08-30 16:50:29</td>\n",
       "      <td>1504111829</td>\n",
       "      <td>1117</td>\n",
       "      <td>Update for #flood vicitims in Houston, Port Ar...</td>\n",
       "      <td>2017-08-30</td>\n",
       "    </tr>\n",
       "    <tr>\n",
       "      <th>19318</th>\n",
       "      <td>RedTRaccoon</td>\n",
       "      <td>902909197884514308</td>\n",
       "      <td>2017-08-30 15:01:42</td>\n",
       "      <td>1504105302</td>\n",
       "      <td>1386</td>\n",
       "      <td>Resources for #flood vicitims in Houston, Port...</td>\n",
       "      <td>2017-08-30</td>\n",
       "    </tr>\n",
       "    <tr>\n",
       "      <th>19538</th>\n",
       "      <td>kylegriffin1</td>\n",
       "      <td>902883204859875332</td>\n",
       "      <td>2017-08-30 13:18:25</td>\n",
       "      <td>1504099105</td>\n",
       "      <td>1766</td>\n",
       "      <td>Trump still hasn't mentioned Houston Police Sg...</td>\n",
       "      <td>2017-08-30</td>\n",
       "    </tr>\n",
       "    <tr>\n",
       "      <th>19698</th>\n",
       "      <td>CollinsUma</td>\n",
       "      <td>902854954439905280</td>\n",
       "      <td>2017-08-30 11:26:10</td>\n",
       "      <td>1504092370</td>\n",
       "      <td>7466</td>\n",
       "      <td>While you're standing with Houston, please als...</td>\n",
       "      <td>2017-08-30</td>\n",
       "    </tr>\n",
       "    <tr>\n",
       "      <th>20032</th>\n",
       "      <td>CNN</td>\n",
       "      <td>902788676513648641</td>\n",
       "      <td>2017-08-30 07:02:48</td>\n",
       "      <td>1504076568</td>\n",
       "      <td>512</td>\n",
       "      <td>This timelapse surveillance footage shows a ga...</td>\n",
       "      <td>2017-08-30</td>\n",
       "    </tr>\n",
       "    <tr>\n",
       "      <th>20502</th>\n",
       "      <td>kylegriffin1</td>\n",
       "      <td>902718368268079104</td>\n",
       "      <td>2017-08-30 02:23:25</td>\n",
       "      <td>1504059805</td>\n",
       "      <td>2278</td>\n",
       "      <td>Trump still hasn’t mentioned Houston Police Sg...</td>\n",
       "      <td>2017-08-30</td>\n",
       "    </tr>\n",
       "    <tr>\n",
       "      <th>20694</th>\n",
       "      <td>tacticaltalknet</td>\n",
       "      <td>902699788164096001</td>\n",
       "      <td>2017-08-30 01:09:35</td>\n",
       "      <td>1504055375</td>\n",
       "      <td>585</td>\n",
       "      <td>#Houston Police Sgt. Steve Perez, 60 has been ...</td>\n",
       "      <td>2017-08-30</td>\n",
       "    </tr>\n",
       "    <tr>\n",
       "      <th>20910</th>\n",
       "      <td>CNN</td>\n",
       "      <td>902681972157403136</td>\n",
       "      <td>2017-08-29 23:58:47</td>\n",
       "      <td>1504051127</td>\n",
       "      <td>1001</td>\n",
       "      <td>This timelapse surveillance footage shows a ga...</td>\n",
       "      <td>2017-08-29</td>\n",
       "    </tr>\n",
       "    <tr>\n",
       "      <th>20960</th>\n",
       "      <td>AynRandPaulRyan</td>\n",
       "      <td>902676741117796352</td>\n",
       "      <td>2017-08-29 23:38:00</td>\n",
       "      <td>1504049880</td>\n",
       "      <td>4917</td>\n",
       "      <td>Steve Perez: 60, 34 year veteran of Houston PD...</td>\n",
       "      <td>2017-08-29</td>\n",
       "    </tr>\n",
       "    <tr>\n",
       "      <th>21534</th>\n",
       "      <td>FoxNews</td>\n",
       "      <td>902641884367081472</td>\n",
       "      <td>2017-08-29 21:19:30</td>\n",
       "      <td>1504041570</td>\n",
       "      <td>543</td>\n",
       "      <td>Houston Police Sgt. Steve Perez, 60 has been c...</td>\n",
       "      <td>2017-08-29</td>\n",
       "    </tr>\n",
       "    <tr>\n",
       "      <th>22167</th>\n",
       "      <td>NBCNews</td>\n",
       "      <td>902614806221479940</td>\n",
       "      <td>2017-08-29 19:31:54</td>\n",
       "      <td>1504035114</td>\n",
       "      <td>585</td>\n",
       "      <td>BREAKING: Houston police confirm death of offi...</td>\n",
       "      <td>2017-08-29</td>\n",
       "    </tr>\n",
       "    <tr>\n",
       "      <th>22232</th>\n",
       "      <td>NPR</td>\n",
       "      <td>902613140088737792</td>\n",
       "      <td>2017-08-29 19:25:16</td>\n",
       "      <td>1504034716</td>\n",
       "      <td>690</td>\n",
       "      <td>Houston mayor confirms Police Sgt. Steve Perez...</td>\n",
       "      <td>2017-08-29</td>\n",
       "    </tr>\n",
       "    <tr>\n",
       "      <th>23336</th>\n",
       "      <td>CNN</td>\n",
       "      <td>902568659167490048</td>\n",
       "      <td>2017-08-29 16:28:31</td>\n",
       "      <td>1504024111</td>\n",
       "      <td>1701</td>\n",
       "      <td>This timelapse surveillance footage shows a ga...</td>\n",
       "      <td>2017-08-29</td>\n",
       "    </tr>\n",
       "    <tr>\n",
       "      <th>23896</th>\n",
       "      <td>stjbs</td>\n",
       "      <td>902552199888240645</td>\n",
       "      <td>2017-08-29 15:23:07</td>\n",
       "      <td>1504020187</td>\n",
       "      <td>1758</td>\n",
       "      <td>BREAKING: Houston Police officer drowns in Har...</td>\n",
       "      <td>2017-08-29</td>\n",
       "    </tr>\n",
       "    <tr>\n",
       "      <th>24228</th>\n",
       "      <td>NBCNightlyNews</td>\n",
       "      <td>902522344882745344</td>\n",
       "      <td>2017-08-29 13:24:29</td>\n",
       "      <td>1504013069</td>\n",
       "      <td>612</td>\n",
       "      <td>JUST IN: Floodwater has reached top of Houston...</td>\n",
       "      <td>2017-08-29</td>\n",
       "    </tr>\n",
       "    <tr>\n",
       "      <th>25094</th>\n",
       "      <td>CBSNews</td>\n",
       "      <td>902350219752460290</td>\n",
       "      <td>2017-08-29 02:00:31</td>\n",
       "      <td>1503972031</td>\n",
       "      <td>609</td>\n",
       "      <td>This Houston pastor waded through chest-deep f...</td>\n",
       "      <td>2017-08-29</td>\n",
       "    </tr>\n",
       "    <tr>\n",
       "      <th>25743</th>\n",
       "      <td>KPRC2</td>\n",
       "      <td>902282156851920896</td>\n",
       "      <td>2017-08-28 21:30:04</td>\n",
       "      <td>1503955804</td>\n",
       "      <td>869</td>\n",
       "      <td>Good Samaritans help woman rescue 21 dogs from...</td>\n",
       "      <td>2017-08-28</td>\n",
       "    </tr>\n",
       "    <tr>\n",
       "      <th>26307</th>\n",
       "      <td>ABC</td>\n",
       "      <td>902241545553711104</td>\n",
       "      <td>2017-08-28 18:48:41</td>\n",
       "      <td>1503946121</td>\n",
       "      <td>646</td>\n",
       "      <td>Family floating on an air mattress in the midd...</td>\n",
       "      <td>2017-08-28</td>\n",
       "    </tr>\n",
       "    <tr>\n",
       "      <th>28573</th>\n",
       "      <td>ABC</td>\n",
       "      <td>902029823740174336</td>\n",
       "      <td>2017-08-28 04:47:23</td>\n",
       "      <td>1503895643</td>\n",
       "      <td>915</td>\n",
       "      <td>Sinkhole opens in Houston and floodwaters spil...</td>\n",
       "      <td>2017-08-28</td>\n",
       "    </tr>\n",
       "    <tr>\n",
       "      <th>28812</th>\n",
       "      <td>nycjayjay</td>\n",
       "      <td>902012200595976192</td>\n",
       "      <td>2017-08-28 03:37:21</td>\n",
       "      <td>1503891441</td>\n",
       "      <td>2840</td>\n",
       "      <td>Here's a picture that gives some perspective o...</td>\n",
       "      <td>2017-08-28</td>\n",
       "    </tr>\n",
       "    <tr>\n",
       "      <th>29492</th>\n",
       "      <td>FoxNews</td>\n",
       "      <td>901972865783918593</td>\n",
       "      <td>2017-08-28 01:01:03</td>\n",
       "      <td>1503882063</td>\n",
       "      <td>831</td>\n",
       "      <td>A rescue worker carries two dogs to safety aft...</td>\n",
       "      <td>2017-08-28</td>\n",
       "    </tr>\n",
       "    <tr>\n",
       "      <th>29684</th>\n",
       "      <td>RedTRaccoon</td>\n",
       "      <td>901960200319533056</td>\n",
       "      <td>2017-08-28 00:10:44</td>\n",
       "      <td>1503879044</td>\n",
       "      <td>2978</td>\n",
       "      <td>Please RETWEET #FLOOD RESOURCES as night falls...</td>\n",
       "      <td>2017-08-28</td>\n",
       "    </tr>\n",
       "    <tr>\n",
       "      <th>30074</th>\n",
       "      <td>weatherchannel</td>\n",
       "      <td>901934613483872256</td>\n",
       "      <td>2017-08-27 22:29:03</td>\n",
       "      <td>1503872943</td>\n",
       "      <td>689</td>\n",
       "      <td>Before and after images of the devastating #Ho...</td>\n",
       "      <td>2017-08-27</td>\n",
       "    </tr>\n",
       "    <tr>\n",
       "      <th>30441</th>\n",
       "      <td>FoxNews</td>\n",
       "      <td>901913978976165888</td>\n",
       "      <td>2017-08-27 21:07:03</td>\n",
       "      <td>1503868023</td>\n",
       "      <td>2032</td>\n",
       "      <td>A rescue worker carries two dogs to safety aft...</td>\n",
       "      <td>2017-08-27</td>\n",
       "    </tr>\n",
       "    <tr>\n",
       "      <th>30498</th>\n",
       "      <td>ABC</td>\n",
       "      <td>901911438712643584</td>\n",
       "      <td>2017-08-27 20:56:58</td>\n",
       "      <td>1503867418</td>\n",
       "      <td>1372</td>\n",
       "      <td>\"Everybody's in!\" Houston family rescued from ...</td>\n",
       "      <td>2017-08-27</td>\n",
       "    </tr>\n",
       "    <tr>\n",
       "      <th>30582</th>\n",
       "      <td>evanmcmurry</td>\n",
       "      <td>901907237031075840</td>\n",
       "      <td>2017-08-27 20:40:16</td>\n",
       "      <td>1503866416</td>\n",
       "      <td>1551</td>\n",
       "      <td>Houston SWAT officer carries mother and her 13...</td>\n",
       "      <td>2017-08-27</td>\n",
       "    </tr>\n",
       "    <tr>\n",
       "      <th>30585</th>\n",
       "      <td>ABC</td>\n",
       "      <td>901907098325352448</td>\n",
       "      <td>2017-08-27 20:39:43</td>\n",
       "      <td>1503866383</td>\n",
       "      <td>2188</td>\n",
       "      <td>Houston SWAT officer carries mother and her 13...</td>\n",
       "      <td>2017-08-27</td>\n",
       "    </tr>\n",
       "    <tr>\n",
       "      <th>30586</th>\n",
       "      <td>ABCPolitics</td>\n",
       "      <td>901907098308575232</td>\n",
       "      <td>2017-08-27 20:39:43</td>\n",
       "      <td>1503866383</td>\n",
       "      <td>2938</td>\n",
       "      <td>Houston SWAT officer carries mother and her 13...</td>\n",
       "      <td>2017-08-27</td>\n",
       "    </tr>\n",
       "    <tr>\n",
       "      <th>31589</th>\n",
       "      <td>washingtonpost</td>\n",
       "      <td>901847654413586433</td>\n",
       "      <td>2017-08-27 16:43:30</td>\n",
       "      <td>1503852210</td>\n",
       "      <td>684</td>\n",
       "      <td>A stranded motorist escapes floodwaters on Int...</td>\n",
       "      <td>2017-08-27</td>\n",
       "    </tr>\n",
       "    <tr>\n",
       "      <th>31917</th>\n",
       "      <td>ABC</td>\n",
       "      <td>901827825585471489</td>\n",
       "      <td>2017-08-27 15:24:43</td>\n",
       "      <td>1503847483</td>\n",
       "      <td>602</td>\n",
       "      <td>Houston family rescued from waist-high floodwa...</td>\n",
       "      <td>2017-08-27</td>\n",
       "    </tr>\n",
       "    <tr>\n",
       "      <th>32170</th>\n",
       "      <td>Fox26Mike</td>\n",
       "      <td>901809920709885953</td>\n",
       "      <td>2017-08-27 14:13:34</td>\n",
       "      <td>1503843214</td>\n",
       "      <td>1617</td>\n",
       "      <td>My goodness! Take a look at the water flowing ...</td>\n",
       "      <td>2017-08-27</td>\n",
       "    </tr>\n",
       "    <tr>\n",
       "      <th>32203</th>\n",
       "      <td>wxbrad</td>\n",
       "      <td>901805185739182081</td>\n",
       "      <td>2017-08-27 13:54:45</td>\n",
       "      <td>1503842085</td>\n",
       "      <td>1885</td>\n",
       "      <td>This is insane this is a traffic camera at the...</td>\n",
       "      <td>2017-08-27</td>\n",
       "    </tr>\n",
       "    <tr>\n",
       "      <th>32378</th>\n",
       "      <td>DoubleHornPhoto</td>\n",
       "      <td>901782532399800320</td>\n",
       "      <td>2017-08-27 12:24:44</td>\n",
       "      <td>1503836684</td>\n",
       "      <td>5368</td>\n",
       "      <td>Daylight reveals the extent of flooding in Hou...</td>\n",
       "      <td>2017-08-27</td>\n",
       "    </tr>\n",
       "    <tr>\n",
       "      <th>32383</th>\n",
       "      <td>DoubleHornPhoto</td>\n",
       "      <td>901781313455316992</td>\n",
       "      <td>2017-08-27 12:19:54</td>\n",
       "      <td>1503836394</td>\n",
       "      <td>2082</td>\n",
       "      <td>More light reveals the flooding in #Houston #h...</td>\n",
       "      <td>2017-08-27</td>\n",
       "    </tr>\n",
       "    <tr>\n",
       "      <th>32604</th>\n",
       "      <td>RedTRaccoon</td>\n",
       "      <td>901703797562626048</td>\n",
       "      <td>2017-08-27 07:11:52</td>\n",
       "      <td>1503817912</td>\n",
       "      <td>2337</td>\n",
       "      <td>Please RETWEET\\n\\nhttp://Fema.gov \\nhttp://hou...</td>\n",
       "      <td>2017-08-27</td>\n",
       "    </tr>\n",
       "  </tbody>\n",
       "</table>\n",
       "</div>"
      ],
      "text/plain": [
       "              username            tweet_id           timestamp  \\\n",
       "8301    weatherchannel  603165438302932992 2015-05-26 11:47:01   \n",
       "11044          nytimes  907417747239436288 2017-09-12 01:37:04   \n",
       "13249               AP  904032948994928640 2017-09-02 17:27:05   \n",
       "15241              ABC  903444880583782403 2017-09-01 02:30:19   \n",
       "15456     abc13houston  903399989203886080 2017-08-31 23:31:56   \n",
       "15720              ABC  903357606793809921 2017-08-31 20:43:31   \n",
       "18975      RedTRaccoon  902936573594877952 2017-08-30 16:50:29   \n",
       "19318      RedTRaccoon  902909197884514308 2017-08-30 15:01:42   \n",
       "19538     kylegriffin1  902883204859875332 2017-08-30 13:18:25   \n",
       "19698       CollinsUma  902854954439905280 2017-08-30 11:26:10   \n",
       "20032              CNN  902788676513648641 2017-08-30 07:02:48   \n",
       "20502     kylegriffin1  902718368268079104 2017-08-30 02:23:25   \n",
       "20694  tacticaltalknet  902699788164096001 2017-08-30 01:09:35   \n",
       "20910              CNN  902681972157403136 2017-08-29 23:58:47   \n",
       "20960  AynRandPaulRyan  902676741117796352 2017-08-29 23:38:00   \n",
       "21534          FoxNews  902641884367081472 2017-08-29 21:19:30   \n",
       "22167          NBCNews  902614806221479940 2017-08-29 19:31:54   \n",
       "22232              NPR  902613140088737792 2017-08-29 19:25:16   \n",
       "23336              CNN  902568659167490048 2017-08-29 16:28:31   \n",
       "23896            stjbs  902552199888240645 2017-08-29 15:23:07   \n",
       "24228   NBCNightlyNews  902522344882745344 2017-08-29 13:24:29   \n",
       "25094          CBSNews  902350219752460290 2017-08-29 02:00:31   \n",
       "25743            KPRC2  902282156851920896 2017-08-28 21:30:04   \n",
       "26307              ABC  902241545553711104 2017-08-28 18:48:41   \n",
       "28573              ABC  902029823740174336 2017-08-28 04:47:23   \n",
       "28812        nycjayjay  902012200595976192 2017-08-28 03:37:21   \n",
       "29492          FoxNews  901972865783918593 2017-08-28 01:01:03   \n",
       "29684      RedTRaccoon  901960200319533056 2017-08-28 00:10:44   \n",
       "30074   weatherchannel  901934613483872256 2017-08-27 22:29:03   \n",
       "30441          FoxNews  901913978976165888 2017-08-27 21:07:03   \n",
       "30498              ABC  901911438712643584 2017-08-27 20:56:58   \n",
       "30582      evanmcmurry  901907237031075840 2017-08-27 20:40:16   \n",
       "30585              ABC  901907098325352448 2017-08-27 20:39:43   \n",
       "30586      ABCPolitics  901907098308575232 2017-08-27 20:39:43   \n",
       "31589   washingtonpost  901847654413586433 2017-08-27 16:43:30   \n",
       "31917              ABC  901827825585471489 2017-08-27 15:24:43   \n",
       "32170        Fox26Mike  901809920709885953 2017-08-27 14:13:34   \n",
       "32203           wxbrad  901805185739182081 2017-08-27 13:54:45   \n",
       "32378  DoubleHornPhoto  901782532399800320 2017-08-27 12:24:44   \n",
       "32383  DoubleHornPhoto  901781313455316992 2017-08-27 12:19:54   \n",
       "32604      RedTRaccoon  901703797562626048 2017-08-27 07:11:52   \n",
       "\n",
       "       timestamp_epochs  retweets  \\\n",
       "8301         1432640821       537   \n",
       "11044        1505180224       739   \n",
       "13249        1504373225      2173   \n",
       "15241        1504233019      1978   \n",
       "15456        1504222316       529   \n",
       "15720        1504212211       945   \n",
       "18975        1504111829      1117   \n",
       "19318        1504105302      1386   \n",
       "19538        1504099105      1766   \n",
       "19698        1504092370      7466   \n",
       "20032        1504076568       512   \n",
       "20502        1504059805      2278   \n",
       "20694        1504055375       585   \n",
       "20910        1504051127      1001   \n",
       "20960        1504049880      4917   \n",
       "21534        1504041570       543   \n",
       "22167        1504035114       585   \n",
       "22232        1504034716       690   \n",
       "23336        1504024111      1701   \n",
       "23896        1504020187      1758   \n",
       "24228        1504013069       612   \n",
       "25094        1503972031       609   \n",
       "25743        1503955804       869   \n",
       "26307        1503946121       646   \n",
       "28573        1503895643       915   \n",
       "28812        1503891441      2840   \n",
       "29492        1503882063       831   \n",
       "29684        1503879044      2978   \n",
       "30074        1503872943       689   \n",
       "30441        1503868023      2032   \n",
       "30498        1503867418      1372   \n",
       "30582        1503866416      1551   \n",
       "30585        1503866383      2188   \n",
       "30586        1503866383      2938   \n",
       "31589        1503852210       684   \n",
       "31917        1503847483       602   \n",
       "32170        1503843214      1617   \n",
       "32203        1503842085      1885   \n",
       "32378        1503836684      5368   \n",
       "32383        1503836394      2082   \n",
       "32604        1503817912      2337   \n",
       "\n",
       "                                                    text clean_date  \n",
       "8301   How bad is the #flooding in #Houston? This pic... 2015-05-26  \n",
       "11044  Floodwaters in 2 Houston neighborhoods have be... 2017-09-12  \n",
       "13249  AP Exclusive: Floodwaters inundate at least 5 ... 2017-09-02  \n",
       "15241  Monster truck helps rescue a U.S. Army truck s... 2017-09-01  \n",
       "15456  #TEXASSTRONG: Monster truck owners from Dallas... 2017-08-31  \n",
       "15720  Monster truck helps rescue a U.S. Army truck s... 2017-08-31  \n",
       "18975  Update for #flood vicitims in Houston, Port Ar... 2017-08-30  \n",
       "19318  Resources for #flood vicitims in Houston, Port... 2017-08-30  \n",
       "19538  Trump still hasn't mentioned Houston Police Sg... 2017-08-30  \n",
       "19698  While you're standing with Houston, please als... 2017-08-30  \n",
       "20032  This timelapse surveillance footage shows a ga... 2017-08-30  \n",
       "20502  Trump still hasn’t mentioned Houston Police Sg... 2017-08-30  \n",
       "20694  #Houston Police Sgt. Steve Perez, 60 has been ... 2017-08-30  \n",
       "20910  This timelapse surveillance footage shows a ga... 2017-08-29  \n",
       "20960  Steve Perez: 60, 34 year veteran of Houston PD... 2017-08-29  \n",
       "21534  Houston Police Sgt. Steve Perez, 60 has been c... 2017-08-29  \n",
       "22167  BREAKING: Houston police confirm death of offi... 2017-08-29  \n",
       "22232  Houston mayor confirms Police Sgt. Steve Perez... 2017-08-29  \n",
       "23336  This timelapse surveillance footage shows a ga... 2017-08-29  \n",
       "23896  BREAKING: Houston Police officer drowns in Har... 2017-08-29  \n",
       "24228  JUST IN: Floodwater has reached top of Houston... 2017-08-29  \n",
       "25094  This Houston pastor waded through chest-deep f... 2017-08-29  \n",
       "25743  Good Samaritans help woman rescue 21 dogs from... 2017-08-28  \n",
       "26307  Family floating on an air mattress in the midd... 2017-08-28  \n",
       "28573  Sinkhole opens in Houston and floodwaters spil... 2017-08-28  \n",
       "28812  Here's a picture that gives some perspective o... 2017-08-28  \n",
       "29492  A rescue worker carries two dogs to safety aft... 2017-08-28  \n",
       "29684  Please RETWEET #FLOOD RESOURCES as night falls... 2017-08-28  \n",
       "30074  Before and after images of the devastating #Ho... 2017-08-27  \n",
       "30441  A rescue worker carries two dogs to safety aft... 2017-08-27  \n",
       "30498  \"Everybody's in!\" Houston family rescued from ... 2017-08-27  \n",
       "30582  Houston SWAT officer carries mother and her 13... 2017-08-27  \n",
       "30585  Houston SWAT officer carries mother and her 13... 2017-08-27  \n",
       "30586  Houston SWAT officer carries mother and her 13... 2017-08-27  \n",
       "31589  A stranded motorist escapes floodwaters on Int... 2017-08-27  \n",
       "31917  Houston family rescued from waist-high floodwa... 2017-08-27  \n",
       "32170  My goodness! Take a look at the water flowing ... 2017-08-27  \n",
       "32203  This is insane this is a traffic camera at the... 2017-08-27  \n",
       "32378  Daylight reveals the extent of flooding in Hou... 2017-08-27  \n",
       "32383  More light reveals the flooding in #Houston #h... 2017-08-27  \n",
       "32604  Please RETWEET\\n\\nhttp://Fema.gov \\nhttp://hou... 2017-08-27  "
      ]
     },
     "execution_count": 20,
     "metadata": {},
     "output_type": "execute_result"
    }
   ],
   "source": [
    "tweets[tweets['retweets'] > 500]"
   ]
  },
  {
   "cell_type": "code",
   "execution_count": 21,
   "metadata": {},
   "outputs": [
    {
     "data": {
      "image/png": "[encoded data removed]",
      "text/plain": [
       "<Figure size 432x288 with 1 Axes>"
      ]
     },
     "metadata": {
      "needs_background": "light"
     },
     "output_type": "display_data"
    }
   ],
   "source": [
    "tweets.hist(column = 'retweets', bins = 100);"
   ]
  },
  {
   "cell_type": "code",
   "execution_count": 22,
   "metadata": {
    "scrolled": true
   },
   "outputs": [
    {
     "data": {
      "text/html": [
       "<div>\n",
       "<style scoped>\n",
       "    .dataframe tbody tr th:only-of-type {\n",
       "        vertical-align: middle;\n",
       "    }\n",
       "\n",
       "    .dataframe tbody tr th {\n",
       "        vertical-align: top;\n",
       "    }\n",
       "\n",
       "    .dataframe thead th {\n",
       "        text-align: right;\n",
       "    }\n",
       "</style>\n",
       "<table border=\"1\" class=\"dataframe\">\n",
       "  <thead>\n",
       "    <tr style=\"text-align: right;\">\n",
       "      <th></th>\n",
       "      <th>username</th>\n",
       "      <th>tweet_id</th>\n",
       "      <th>timestamp</th>\n",
       "      <th>timestamp_epochs</th>\n",
       "      <th>retweets</th>\n",
       "      <th>text</th>\n",
       "      <th>clean_date</th>\n",
       "    </tr>\n",
       "  </thead>\n",
       "  <tbody>\n",
       "    <tr>\n",
       "      <th>20</th>\n",
       "      <td>mark_tarello</td>\n",
       "      <td>471077480262930432</td>\n",
       "      <td>2014-05-26 23:56:38</td>\n",
       "      <td>1401148598</td>\n",
       "      <td>1</td>\n",
       "      <td>FLOODING from heavy rain this afternoon near H...</td>\n",
       "      <td>2014-05-26</td>\n",
       "    </tr>\n",
       "    <tr>\n",
       "      <th>21</th>\n",
       "      <td>Djtexasoutlaw</td>\n",
       "      <td>471074963911213056</td>\n",
       "      <td>2014-05-26 23:46:38</td>\n",
       "      <td>1401147998</td>\n",
       "      <td>0</td>\n",
       "      <td>Flood on di main road! #Houston #Flood http://...</td>\n",
       "      <td>2014-05-26</td>\n",
       "    </tr>\n",
       "    <tr>\n",
       "      <th>22</th>\n",
       "      <td>laurenalexxis</td>\n",
       "      <td>471067687708143616</td>\n",
       "      <td>2014-05-26 23:17:43</td>\n",
       "      <td>1401146263</td>\n",
       "      <td>0</td>\n",
       "      <td>Stay safe! #rain #flood #storm #houston #sugar...</td>\n",
       "      <td>2014-05-26</td>\n",
       "    </tr>\n",
       "    <tr>\n",
       "      <th>23</th>\n",
       "      <td>leenstaraileen</td>\n",
       "      <td>471067572490616832</td>\n",
       "      <td>2014-05-26 23:17:15</td>\n",
       "      <td>1401146235</td>\n",
       "      <td>0</td>\n",
       "      <td>My daughters boat is floating... #houston #flo...</td>\n",
       "      <td>2014-05-26</td>\n",
       "    </tr>\n",
       "    <tr>\n",
       "      <th>24</th>\n",
       "      <td>ImJohnsirz</td>\n",
       "      <td>471066240975654912</td>\n",
       "      <td>2014-05-26 23:11:58</td>\n",
       "      <td>1401145918</td>\n",
       "      <td>0</td>\n",
       "      <td>Welp we lost power her at walgreens. Gonna hav...</td>\n",
       "      <td>2014-05-26</td>\n",
       "    </tr>\n",
       "    <tr>\n",
       "      <th>...</th>\n",
       "      <td>...</td>\n",
       "      <td>...</td>\n",
       "      <td>...</td>\n",
       "      <td>...</td>\n",
       "      <td>...</td>\n",
       "      <td>...</td>\n",
       "      <td>...</td>\n",
       "    </tr>\n",
       "    <tr>\n",
       "      <th>32868</th>\n",
       "      <td>Texas_Sugar</td>\n",
       "      <td>901313561640787968</td>\n",
       "      <td>2017-08-26 05:21:13</td>\n",
       "      <td>1503724873</td>\n",
       "      <td>0</td>\n",
       "      <td>#Houston Family's system to protect home from ...</td>\n",
       "      <td>2017-08-26</td>\n",
       "    </tr>\n",
       "    <tr>\n",
       "      <th>32869</th>\n",
       "      <td>TheSafetyMaster</td>\n",
       "      <td>901313526085677056</td>\n",
       "      <td>2017-08-26 05:21:04</td>\n",
       "      <td>1503724864</td>\n",
       "      <td>0</td>\n",
       "      <td>#Houston Family's system to protect home from ...</td>\n",
       "      <td>2017-08-26</td>\n",
       "    </tr>\n",
       "    <tr>\n",
       "      <th>32871</th>\n",
       "      <td>JGiannangelo</td>\n",
       "      <td>901313454140796928</td>\n",
       "      <td>2017-08-26 05:20:47</td>\n",
       "      <td>1503724847</td>\n",
       "      <td>0</td>\n",
       "      <td>#Houston Family's system to protect home from ...</td>\n",
       "      <td>2017-08-26</td>\n",
       "    </tr>\n",
       "    <tr>\n",
       "      <th>32872</th>\n",
       "      <td>JadieGirl77479</td>\n",
       "      <td>901313416035545088</td>\n",
       "      <td>2017-08-26 05:20:38</td>\n",
       "      <td>1503724838</td>\n",
       "      <td>0</td>\n",
       "      <td>#Houston Family's system to protect home from ...</td>\n",
       "      <td>2017-08-26</td>\n",
       "    </tr>\n",
       "    <tr>\n",
       "      <th>33010</th>\n",
       "      <td>ladypilot70</td>\n",
       "      <td>894927394687135749</td>\n",
       "      <td>2017-08-08 14:24:52</td>\n",
       "      <td>1502202292</td>\n",
       "      <td>0</td>\n",
       "      <td>#Houston #TXWX #Flooding. @TheLift has an upda...</td>\n",
       "      <td>2017-08-08</td>\n",
       "    </tr>\n",
       "  </tbody>\n",
       "</table>\n",
       "<p>4897 rows × 7 columns</p>\n",
       "</div>"
      ],
      "text/plain": [
       "              username            tweet_id           timestamp  \\\n",
       "20        mark_tarello  471077480262930432 2014-05-26 23:56:38   \n",
       "21       Djtexasoutlaw  471074963911213056 2014-05-26 23:46:38   \n",
       "22       laurenalexxis  471067687708143616 2014-05-26 23:17:43   \n",
       "23      leenstaraileen  471067572490616832 2014-05-26 23:17:15   \n",
       "24          ImJohnsirz  471066240975654912 2014-05-26 23:11:58   \n",
       "...                ...                 ...                 ...   \n",
       "32868      Texas_Sugar  901313561640787968 2017-08-26 05:21:13   \n",
       "32869  TheSafetyMaster  901313526085677056 2017-08-26 05:21:04   \n",
       "32871     JGiannangelo  901313454140796928 2017-08-26 05:20:47   \n",
       "32872   JadieGirl77479  901313416035545088 2017-08-26 05:20:38   \n",
       "33010      ladypilot70  894927394687135749 2017-08-08 14:24:52   \n",
       "\n",
       "       timestamp_epochs  retweets  \\\n",
       "20           1401148598         1   \n",
       "21           1401147998         0   \n",
       "22           1401146263         0   \n",
       "23           1401146235         0   \n",
       "24           1401145918         0   \n",
       "...                 ...       ...   \n",
       "32868        1503724873         0   \n",
       "32869        1503724864         0   \n",
       "32871        1503724847         0   \n",
       "32872        1503724838         0   \n",
       "33010        1502202292         0   \n",
       "\n",
       "                                                    text clean_date  \n",
       "20     FLOODING from heavy rain this afternoon near H... 2014-05-26  \n",
       "21     Flood on di main road! #Houston #Flood http://... 2014-05-26  \n",
       "22     Stay safe! #rain #flood #storm #houston #sugar... 2014-05-26  \n",
       "23     My daughters boat is floating... #houston #flo... 2014-05-26  \n",
       "24     Welp we lost power her at walgreens. Gonna hav... 2014-05-26  \n",
       "...                                                  ...        ...  \n",
       "32868  #Houston Family's system to protect home from ... 2017-08-26  \n",
       "32869  #Houston Family's system to protect home from ... 2017-08-26  \n",
       "32871  #Houston Family's system to protect home from ... 2017-08-26  \n",
       "32872  #Houston Family's system to protect home from ... 2017-08-26  \n",
       "33010  #Houston #TXWX #Flooding. @TheLift has an upda... 2017-08-08  \n",
       "\n",
       "[4897 rows x 7 columns]"
      ]
     },
     "execution_count": 22,
     "metadata": {},
     "output_type": "execute_result"
    }
   ],
   "source": [
    "# Identify duplicate tweet content (identical shared newsitems, users with multiple twitter accounts, etc)\n",
    "tweets[tweets.duplicated(['text'])]"
   ]
  },
  {
   "cell_type": "code",
   "execution_count": 23,
   "metadata": {},
   "outputs": [],
   "source": [
    "tweets = tweets.drop_duplicates(['text'])"
   ]
  },
  {
   "cell_type": "code",
   "execution_count": 24,
   "metadata": {},
   "outputs": [
    {
     "data": {
      "text/plain": [
       "(28139, 7)"
      ]
     },
     "execution_count": 24,
     "metadata": {},
     "output_type": "execute_result"
    }
   ],
   "source": [
    "tweets.shape"
   ]
  },
  {
   "cell_type": "code",
   "execution_count": 59,
   "metadata": {},
   "outputs": [],
   "source": [
    "tweet_count_month = tweets.groupby([tweets[\"clean_date\"].dt.year, tweets[\"clean_date\"].dt.month])[['text']].count()"
   ]
  },
  {
   "cell_type": "code",
   "execution_count": 62,
   "metadata": {},
   "outputs": [],
   "source": [
    "# Thus our clean_date becomes the index for our data...\n",
    "daily_tweets = tweets.groupby(tweets['clean_date'])[['text']].count()"
   ]
  },
  {
   "cell_type": "code",
   "execution_count": 60,
   "metadata": {},
   "outputs": [
    {
     "data": {
      "text/html": [
       "<div>\n",
       "<style scoped>\n",
       "    .dataframe tbody tr th:only-of-type {\n",
       "        vertical-align: middle;\n",
       "    }\n",
       "\n",
       "    .dataframe tbody tr th {\n",
       "        vertical-align: top;\n",
       "    }\n",
       "\n",
       "    .dataframe thead th {\n",
       "        text-align: right;\n",
       "    }\n",
       "</style>\n",
       "<table border=\"1\" class=\"dataframe\">\n",
       "  <thead>\n",
       "    <tr style=\"text-align: right;\">\n",
       "      <th></th>\n",
       "      <th></th>\n",
       "      <th>text</th>\n",
       "    </tr>\n",
       "    <tr>\n",
       "      <th>clean_date</th>\n",
       "      <th>clean_date</th>\n",
       "      <th></th>\n",
       "    </tr>\n",
       "  </thead>\n",
       "  <tbody>\n",
       "    <tr>\n",
       "      <th rowspan=\"11\" valign=\"top\">2014</th>\n",
       "      <th>2</th>\n",
       "      <td>2</td>\n",
       "    </tr>\n",
       "    <tr>\n",
       "      <th>3</th>\n",
       "      <td>2</td>\n",
       "    </tr>\n",
       "    <tr>\n",
       "      <th>4</th>\n",
       "      <td>1</td>\n",
       "    </tr>\n",
       "    <tr>\n",
       "      <th>5</th>\n",
       "      <td>88</td>\n",
       "    </tr>\n",
       "    <tr>\n",
       "      <th>6</th>\n",
       "      <td>13</td>\n",
       "    </tr>\n",
       "    <tr>\n",
       "      <th>7</th>\n",
       "      <td>7</td>\n",
       "    </tr>\n",
       "    <tr>\n",
       "      <th>8</th>\n",
       "      <td>26</td>\n",
       "    </tr>\n",
       "    <tr>\n",
       "      <th>9</th>\n",
       "      <td>75</td>\n",
       "    </tr>\n",
       "    <tr>\n",
       "      <th>10</th>\n",
       "      <td>10</td>\n",
       "    </tr>\n",
       "    <tr>\n",
       "      <th>11</th>\n",
       "      <td>1</td>\n",
       "    </tr>\n",
       "    <tr>\n",
       "      <th>12</th>\n",
       "      <td>6</td>\n",
       "    </tr>\n",
       "    <tr>\n",
       "      <th rowspan=\"12\" valign=\"top\">2015</th>\n",
       "      <th>1</th>\n",
       "      <td>10</td>\n",
       "    </tr>\n",
       "    <tr>\n",
       "      <th>2</th>\n",
       "      <td>2</td>\n",
       "    </tr>\n",
       "    <tr>\n",
       "      <th>3</th>\n",
       "      <td>20</td>\n",
       "    </tr>\n",
       "    <tr>\n",
       "      <th>4</th>\n",
       "      <td>70</td>\n",
       "    </tr>\n",
       "    <tr>\n",
       "      <th>5</th>\n",
       "      <td>2973</td>\n",
       "    </tr>\n",
       "    <tr>\n",
       "      <th>6</th>\n",
       "      <td>252</td>\n",
       "    </tr>\n",
       "    <tr>\n",
       "      <th>7</th>\n",
       "      <td>52</td>\n",
       "    </tr>\n",
       "    <tr>\n",
       "      <th>8</th>\n",
       "      <td>43</td>\n",
       "    </tr>\n",
       "    <tr>\n",
       "      <th>9</th>\n",
       "      <td>36</td>\n",
       "    </tr>\n",
       "    <tr>\n",
       "      <th>10</th>\n",
       "      <td>208</td>\n",
       "    </tr>\n",
       "    <tr>\n",
       "      <th>11</th>\n",
       "      <td>51</td>\n",
       "    </tr>\n",
       "    <tr>\n",
       "      <th>12</th>\n",
       "      <td>35</td>\n",
       "    </tr>\n",
       "    <tr>\n",
       "      <th rowspan=\"12\" valign=\"top\">2016</th>\n",
       "      <th>1</th>\n",
       "      <td>18</td>\n",
       "    </tr>\n",
       "    <tr>\n",
       "      <th>2</th>\n",
       "      <td>20</td>\n",
       "    </tr>\n",
       "    <tr>\n",
       "      <th>3</th>\n",
       "      <td>56</td>\n",
       "    </tr>\n",
       "    <tr>\n",
       "      <th>4</th>\n",
       "      <td>2592</td>\n",
       "    </tr>\n",
       "    <tr>\n",
       "      <th>5</th>\n",
       "      <td>310</td>\n",
       "    </tr>\n",
       "    <tr>\n",
       "      <th>6</th>\n",
       "      <td>296</td>\n",
       "    </tr>\n",
       "    <tr>\n",
       "      <th>7</th>\n",
       "      <td>44</td>\n",
       "    </tr>\n",
       "    <tr>\n",
       "      <th>8</th>\n",
       "      <td>36</td>\n",
       "    </tr>\n",
       "    <tr>\n",
       "      <th>9</th>\n",
       "      <td>21</td>\n",
       "    </tr>\n",
       "    <tr>\n",
       "      <th>10</th>\n",
       "      <td>5</td>\n",
       "    </tr>\n",
       "    <tr>\n",
       "      <th>11</th>\n",
       "      <td>1</td>\n",
       "    </tr>\n",
       "    <tr>\n",
       "      <th>12</th>\n",
       "      <td>20</td>\n",
       "    </tr>\n",
       "    <tr>\n",
       "      <th rowspan=\"12\" valign=\"top\">2017</th>\n",
       "      <th>1</th>\n",
       "      <td>254</td>\n",
       "    </tr>\n",
       "    <tr>\n",
       "      <th>2</th>\n",
       "      <td>31</td>\n",
       "    </tr>\n",
       "    <tr>\n",
       "      <th>3</th>\n",
       "      <td>46</td>\n",
       "    </tr>\n",
       "    <tr>\n",
       "      <th>4</th>\n",
       "      <td>37</td>\n",
       "    </tr>\n",
       "    <tr>\n",
       "      <th>5</th>\n",
       "      <td>15</td>\n",
       "    </tr>\n",
       "    <tr>\n",
       "      <th>6</th>\n",
       "      <td>63</td>\n",
       "    </tr>\n",
       "    <tr>\n",
       "      <th>7</th>\n",
       "      <td>10</td>\n",
       "    </tr>\n",
       "    <tr>\n",
       "      <th>8</th>\n",
       "      <td>15057</td>\n",
       "    </tr>\n",
       "    <tr>\n",
       "      <th>9</th>\n",
       "      <td>4698</td>\n",
       "    </tr>\n",
       "    <tr>\n",
       "      <th>10</th>\n",
       "      <td>313</td>\n",
       "    </tr>\n",
       "    <tr>\n",
       "      <th>11</th>\n",
       "      <td>99</td>\n",
       "    </tr>\n",
       "    <tr>\n",
       "      <th>12</th>\n",
       "      <td>114</td>\n",
       "    </tr>\n",
       "  </tbody>\n",
       "</table>\n",
       "</div>"
      ],
      "text/plain": [
       "                        text\n",
       "clean_date clean_date       \n",
       "2014       2               2\n",
       "           3               2\n",
       "           4               1\n",
       "           5              88\n",
       "           6              13\n",
       "           7               7\n",
       "           8              26\n",
       "           9              75\n",
       "           10             10\n",
       "           11              1\n",
       "           12              6\n",
       "2015       1              10\n",
       "           2               2\n",
       "           3              20\n",
       "           4              70\n",
       "           5            2973\n",
       "           6             252\n",
       "           7              52\n",
       "           8              43\n",
       "           9              36\n",
       "           10            208\n",
       "           11             51\n",
       "           12             35\n",
       "2016       1              18\n",
       "           2              20\n",
       "           3              56\n",
       "           4            2592\n",
       "           5             310\n",
       "           6             296\n",
       "           7              44\n",
       "           8              36\n",
       "           9              21\n",
       "           10              5\n",
       "           11              1\n",
       "           12             20\n",
       "2017       1             254\n",
       "           2              31\n",
       "           3              46\n",
       "           4              37\n",
       "           5              15\n",
       "           6              63\n",
       "           7              10\n",
       "           8           15057\n",
       "           9            4698\n",
       "           10            313\n",
       "           11             99\n",
       "           12            114"
      ]
     },
     "execution_count": 60,
     "metadata": {},
     "output_type": "execute_result"
    }
   ],
   "source": [
    "tweet_count_month"
   ]
  },
  {
   "cell_type": "code",
   "execution_count": 51,
   "metadata": {},
   "outputs": [
    {
     "name": "stderr",
     "output_type": "stream",
     "text": [
      "C:\\Users\\Tilevitz Family\\Anaconda3\\envs\\dsi\\lib\\site-packages\\ipykernel_launcher.py:1: SettingWithCopyWarning: \n",
      "A value is trying to be set on a copy of a slice from a DataFrame.\n",
      "Try using .loc[row_indexer,col_indexer] = value instead\n",
      "\n",
      "See the caveats in the documentation: http://pandas.pydata.org/pandas-docs/stable/user_guide/indexing.html#returning-a-view-versus-a-copy\n",
      "  \"\"\"Entry point for launching an IPython kernel.\n",
      "C:\\Users\\Tilevitz Family\\Anaconda3\\envs\\dsi\\lib\\site-packages\\ipykernel_launcher.py:2: SettingWithCopyWarning: \n",
      "A value is trying to be set on a copy of a slice from a DataFrame.\n",
      "Try using .loc[row_indexer,col_indexer] = value instead\n",
      "\n",
      "See the caveats in the documentation: http://pandas.pydata.org/pandas-docs/stable/user_guide/indexing.html#returning-a-view-versus-a-copy\n",
      "  \n"
     ]
    }
   ],
   "source": [
    "tweets['year'] = tweets['clean_date'].dt.year\n",
    "tweets['month'] = tweets['clean_date'].dt.month"
   ]
  },
  {
   "cell_type": "code",
   "execution_count": 53,
   "metadata": {},
   "outputs": [],
   "source": [
    "test = tweets.groupby([tweets[\"year\"], tweets[\"month\"]])[['text']].count()"
   ]
  },
  {
   "cell_type": "code",
   "execution_count": 55,
   "metadata": {},
   "outputs": [
    {
     "data": {
      "text/html": [
       "<div>\n",
       "<style scoped>\n",
       "    .dataframe tbody tr th:only-of-type {\n",
       "        vertical-align: middle;\n",
       "    }\n",
       "\n",
       "    .dataframe tbody tr th {\n",
       "        vertical-align: top;\n",
       "    }\n",
       "\n",
       "    .dataframe thead th {\n",
       "        text-align: right;\n",
       "    }\n",
       "</style>\n",
       "<table border=\"1\" class=\"dataframe\">\n",
       "  <thead>\n",
       "    <tr style=\"text-align: right;\">\n",
       "      <th></th>\n",
       "      <th>year</th>\n",
       "      <th>month</th>\n",
       "      <th>text</th>\n",
       "    </tr>\n",
       "  </thead>\n",
       "  <tbody>\n",
       "    <tr>\n",
       "      <th>0</th>\n",
       "      <td>2014</td>\n",
       "      <td>2</td>\n",
       "      <td>2</td>\n",
       "    </tr>\n",
       "    <tr>\n",
       "      <th>1</th>\n",
       "      <td>2014</td>\n",
       "      <td>3</td>\n",
       "      <td>2</td>\n",
       "    </tr>\n",
       "    <tr>\n",
       "      <th>2</th>\n",
       "      <td>2014</td>\n",
       "      <td>4</td>\n",
       "      <td>1</td>\n",
       "    </tr>\n",
       "    <tr>\n",
       "      <th>3</th>\n",
       "      <td>2014</td>\n",
       "      <td>5</td>\n",
       "      <td>88</td>\n",
       "    </tr>\n",
       "    <tr>\n",
       "      <th>4</th>\n",
       "      <td>2014</td>\n",
       "      <td>6</td>\n",
       "      <td>13</td>\n",
       "    </tr>\n",
       "    <tr>\n",
       "      <th>5</th>\n",
       "      <td>2014</td>\n",
       "      <td>7</td>\n",
       "      <td>7</td>\n",
       "    </tr>\n",
       "    <tr>\n",
       "      <th>6</th>\n",
       "      <td>2014</td>\n",
       "      <td>8</td>\n",
       "      <td>26</td>\n",
       "    </tr>\n",
       "    <tr>\n",
       "      <th>7</th>\n",
       "      <td>2014</td>\n",
       "      <td>9</td>\n",
       "      <td>75</td>\n",
       "    </tr>\n",
       "    <tr>\n",
       "      <th>8</th>\n",
       "      <td>2014</td>\n",
       "      <td>10</td>\n",
       "      <td>10</td>\n",
       "    </tr>\n",
       "    <tr>\n",
       "      <th>9</th>\n",
       "      <td>2014</td>\n",
       "      <td>11</td>\n",
       "      <td>1</td>\n",
       "    </tr>\n",
       "    <tr>\n",
       "      <th>10</th>\n",
       "      <td>2014</td>\n",
       "      <td>12</td>\n",
       "      <td>6</td>\n",
       "    </tr>\n",
       "    <tr>\n",
       "      <th>11</th>\n",
       "      <td>2015</td>\n",
       "      <td>1</td>\n",
       "      <td>10</td>\n",
       "    </tr>\n",
       "    <tr>\n",
       "      <th>12</th>\n",
       "      <td>2015</td>\n",
       "      <td>2</td>\n",
       "      <td>2</td>\n",
       "    </tr>\n",
       "    <tr>\n",
       "      <th>13</th>\n",
       "      <td>2015</td>\n",
       "      <td>3</td>\n",
       "      <td>20</td>\n",
       "    </tr>\n",
       "    <tr>\n",
       "      <th>14</th>\n",
       "      <td>2015</td>\n",
       "      <td>4</td>\n",
       "      <td>70</td>\n",
       "    </tr>\n",
       "    <tr>\n",
       "      <th>15</th>\n",
       "      <td>2015</td>\n",
       "      <td>5</td>\n",
       "      <td>2973</td>\n",
       "    </tr>\n",
       "    <tr>\n",
       "      <th>16</th>\n",
       "      <td>2015</td>\n",
       "      <td>6</td>\n",
       "      <td>252</td>\n",
       "    </tr>\n",
       "    <tr>\n",
       "      <th>17</th>\n",
       "      <td>2015</td>\n",
       "      <td>7</td>\n",
       "      <td>52</td>\n",
       "    </tr>\n",
       "    <tr>\n",
       "      <th>18</th>\n",
       "      <td>2015</td>\n",
       "      <td>8</td>\n",
       "      <td>43</td>\n",
       "    </tr>\n",
       "    <tr>\n",
       "      <th>19</th>\n",
       "      <td>2015</td>\n",
       "      <td>9</td>\n",
       "      <td>36</td>\n",
       "    </tr>\n",
       "    <tr>\n",
       "      <th>20</th>\n",
       "      <td>2015</td>\n",
       "      <td>10</td>\n",
       "      <td>208</td>\n",
       "    </tr>\n",
       "    <tr>\n",
       "      <th>21</th>\n",
       "      <td>2015</td>\n",
       "      <td>11</td>\n",
       "      <td>51</td>\n",
       "    </tr>\n",
       "    <tr>\n",
       "      <th>22</th>\n",
       "      <td>2015</td>\n",
       "      <td>12</td>\n",
       "      <td>35</td>\n",
       "    </tr>\n",
       "    <tr>\n",
       "      <th>23</th>\n",
       "      <td>2016</td>\n",
       "      <td>1</td>\n",
       "      <td>18</td>\n",
       "    </tr>\n",
       "    <tr>\n",
       "      <th>24</th>\n",
       "      <td>2016</td>\n",
       "      <td>2</td>\n",
       "      <td>20</td>\n",
       "    </tr>\n",
       "    <tr>\n",
       "      <th>25</th>\n",
       "      <td>2016</td>\n",
       "      <td>3</td>\n",
       "      <td>56</td>\n",
       "    </tr>\n",
       "    <tr>\n",
       "      <th>26</th>\n",
       "      <td>2016</td>\n",
       "      <td>4</td>\n",
       "      <td>2592</td>\n",
       "    </tr>\n",
       "    <tr>\n",
       "      <th>27</th>\n",
       "      <td>2016</td>\n",
       "      <td>5</td>\n",
       "      <td>310</td>\n",
       "    </tr>\n",
       "    <tr>\n",
       "      <th>28</th>\n",
       "      <td>2016</td>\n",
       "      <td>6</td>\n",
       "      <td>296</td>\n",
       "    </tr>\n",
       "    <tr>\n",
       "      <th>29</th>\n",
       "      <td>2016</td>\n",
       "      <td>7</td>\n",
       "      <td>44</td>\n",
       "    </tr>\n",
       "    <tr>\n",
       "      <th>30</th>\n",
       "      <td>2016</td>\n",
       "      <td>8</td>\n",
       "      <td>36</td>\n",
       "    </tr>\n",
       "    <tr>\n",
       "      <th>31</th>\n",
       "      <td>2016</td>\n",
       "      <td>9</td>\n",
       "      <td>21</td>\n",
       "    </tr>\n",
       "    <tr>\n",
       "      <th>32</th>\n",
       "      <td>2016</td>\n",
       "      <td>10</td>\n",
       "      <td>5</td>\n",
       "    </tr>\n",
       "    <tr>\n",
       "      <th>33</th>\n",
       "      <td>2016</td>\n",
       "      <td>11</td>\n",
       "      <td>1</td>\n",
       "    </tr>\n",
       "    <tr>\n",
       "      <th>34</th>\n",
       "      <td>2016</td>\n",
       "      <td>12</td>\n",
       "      <td>20</td>\n",
       "    </tr>\n",
       "    <tr>\n",
       "      <th>35</th>\n",
       "      <td>2017</td>\n",
       "      <td>1</td>\n",
       "      <td>254</td>\n",
       "    </tr>\n",
       "    <tr>\n",
       "      <th>36</th>\n",
       "      <td>2017</td>\n",
       "      <td>2</td>\n",
       "      <td>31</td>\n",
       "    </tr>\n",
       "    <tr>\n",
       "      <th>37</th>\n",
       "      <td>2017</td>\n",
       "      <td>3</td>\n",
       "      <td>46</td>\n",
       "    </tr>\n",
       "    <tr>\n",
       "      <th>38</th>\n",
       "      <td>2017</td>\n",
       "      <td>4</td>\n",
       "      <td>37</td>\n",
       "    </tr>\n",
       "    <tr>\n",
       "      <th>39</th>\n",
       "      <td>2017</td>\n",
       "      <td>5</td>\n",
       "      <td>15</td>\n",
       "    </tr>\n",
       "    <tr>\n",
       "      <th>40</th>\n",
       "      <td>2017</td>\n",
       "      <td>6</td>\n",
       "      <td>63</td>\n",
       "    </tr>\n",
       "    <tr>\n",
       "      <th>41</th>\n",
       "      <td>2017</td>\n",
       "      <td>7</td>\n",
       "      <td>10</td>\n",
       "    </tr>\n",
       "    <tr>\n",
       "      <th>42</th>\n",
       "      <td>2017</td>\n",
       "      <td>8</td>\n",
       "      <td>15057</td>\n",
       "    </tr>\n",
       "    <tr>\n",
       "      <th>43</th>\n",
       "      <td>2017</td>\n",
       "      <td>9</td>\n",
       "      <td>4698</td>\n",
       "    </tr>\n",
       "    <tr>\n",
       "      <th>44</th>\n",
       "      <td>2017</td>\n",
       "      <td>10</td>\n",
       "      <td>313</td>\n",
       "    </tr>\n",
       "    <tr>\n",
       "      <th>45</th>\n",
       "      <td>2017</td>\n",
       "      <td>11</td>\n",
       "      <td>99</td>\n",
       "    </tr>\n",
       "    <tr>\n",
       "      <th>46</th>\n",
       "      <td>2017</td>\n",
       "      <td>12</td>\n",
       "      <td>114</td>\n",
       "    </tr>\n",
       "  </tbody>\n",
       "</table>\n",
       "</div>"
      ],
      "text/plain": [
       "    year  month   text\n",
       "0   2014      2      2\n",
       "1   2014      3      2\n",
       "2   2014      4      1\n",
       "3   2014      5     88\n",
       "4   2014      6     13\n",
       "5   2014      7      7\n",
       "6   2014      8     26\n",
       "7   2014      9     75\n",
       "8   2014     10     10\n",
       "9   2014     11      1\n",
       "10  2014     12      6\n",
       "11  2015      1     10\n",
       "12  2015      2      2\n",
       "13  2015      3     20\n",
       "14  2015      4     70\n",
       "15  2015      5   2973\n",
       "16  2015      6    252\n",
       "17  2015      7     52\n",
       "18  2015      8     43\n",
       "19  2015      9     36\n",
       "20  2015     10    208\n",
       "21  2015     11     51\n",
       "22  2015     12     35\n",
       "23  2016      1     18\n",
       "24  2016      2     20\n",
       "25  2016      3     56\n",
       "26  2016      4   2592\n",
       "27  2016      5    310\n",
       "28  2016      6    296\n",
       "29  2016      7     44\n",
       "30  2016      8     36\n",
       "31  2016      9     21\n",
       "32  2016     10      5\n",
       "33  2016     11      1\n",
       "34  2016     12     20\n",
       "35  2017      1    254\n",
       "36  2017      2     31\n",
       "37  2017      3     46\n",
       "38  2017      4     37\n",
       "39  2017      5     15\n",
       "40  2017      6     63\n",
       "41  2017      7     10\n",
       "42  2017      8  15057\n",
       "43  2017      9   4698\n",
       "44  2017     10    313\n",
       "45  2017     11     99\n",
       "46  2017     12    114"
      ]
     },
     "execution_count": 55,
     "metadata": {},
     "output_type": "execute_result"
    }
   ],
   "source": [
    "test.reset_index()"
   ]
  },
  {
   "cell_type": "code",
   "execution_count": 26,
   "metadata": {
    "scrolled": true
   },
   "outputs": [
    {
     "data": {
      "text/plain": [
       "clean_date  clean_date\n",
       "2014        3             2\n",
       "            4             1\n",
       "Name: text, dtype: int64"
      ]
     },
     "execution_count": 26,
     "metadata": {},
     "output_type": "execute_result"
    }
   ],
   "source": [
    "tweet_count_month[:][1:3]"
   ]
  },
  {
   "cell_type": "markdown",
   "metadata": {},
   "source": [
    "### Set Timestamp to Index for TimeSeries"
   ]
  },
  {
   "cell_type": "code",
   "execution_count": null,
   "metadata": {},
   "outputs": [],
   "source": [
    "tweets.index.type"
   ]
  },
  {
   "cell_type": "code",
   "execution_count": null,
   "metadata": {
    "scrolled": true
   },
   "outputs": [],
   "source": [
    "tweets.set_index('timestamp', inplace = True)\n",
    "tweets.sort_index(inplace = True)"
   ]
  },
  {
   "cell_type": "code",
   "execution_count": 17,
   "metadata": {
    "scrolled": true
   },
   "outputs": [
    {
     "ename": "TypeError",
     "evalue": "Only valid with DatetimeIndex, TimedeltaIndex or PeriodIndex, but got an instance of 'RangeIndex'",
     "output_type": "error",
     "traceback": [
      "\u001b[1;31m---------------------------------------------------------------------------\u001b[0m",
      "\u001b[1;31mTypeError\u001b[0m                                 Traceback (most recent call last)",
      "\u001b[1;32m<ipython-input-17-bac7a87c7e7d>\u001b[0m in \u001b[0;36m<module>\u001b[1;34m\u001b[0m\n\u001b[1;32m----> 1\u001b[1;33m \u001b[0mtweets\u001b[0m\u001b[1;33m.\u001b[0m\u001b[0mresample\u001b[0m\u001b[1;33m(\u001b[0m\u001b[1;34m'A'\u001b[0m\u001b[1;33m)\u001b[0m\u001b[1;33m.\u001b[0m\u001b[0mmean\u001b[0m\u001b[1;33m(\u001b[0m\u001b[1;33m)\u001b[0m\u001b[1;33m\u001b[0m\u001b[1;33m\u001b[0m\u001b[0m\n\u001b[0m",
      "\u001b[1;32m~\\Anaconda3\\envs\\dsi\\lib\\site-packages\\pandas\\core\\generic.py\u001b[0m in \u001b[0;36mresample\u001b[1;34m(self, rule, how, axis, fill_method, closed, label, convention, kind, loffset, limit, base, on, level)\u001b[0m\n\u001b[0;32m   8447\u001b[0m             \u001b[0mbase\u001b[0m\u001b[1;33m=\u001b[0m\u001b[0mbase\u001b[0m\u001b[1;33m,\u001b[0m\u001b[1;33m\u001b[0m\u001b[1;33m\u001b[0m\u001b[0m\n\u001b[0;32m   8448\u001b[0m             \u001b[0mkey\u001b[0m\u001b[1;33m=\u001b[0m\u001b[0mon\u001b[0m\u001b[1;33m,\u001b[0m\u001b[1;33m\u001b[0m\u001b[1;33m\u001b[0m\u001b[0m\n\u001b[1;32m-> 8449\u001b[1;33m             \u001b[0mlevel\u001b[0m\u001b[1;33m=\u001b[0m\u001b[0mlevel\u001b[0m\u001b[1;33m,\u001b[0m\u001b[1;33m\u001b[0m\u001b[1;33m\u001b[0m\u001b[0m\n\u001b[0m\u001b[0;32m   8450\u001b[0m         )\n\u001b[0;32m   8451\u001b[0m         return _maybe_process_deprecations(\n",
      "\u001b[1;32m~\\Anaconda3\\envs\\dsi\\lib\\site-packages\\pandas\\core\\resample.py\u001b[0m in \u001b[0;36mresample\u001b[1;34m(obj, kind, **kwds)\u001b[0m\n\u001b[0;32m   1304\u001b[0m     \"\"\"\n\u001b[0;32m   1305\u001b[0m     \u001b[0mtg\u001b[0m \u001b[1;33m=\u001b[0m \u001b[0mTimeGrouper\u001b[0m\u001b[1;33m(\u001b[0m\u001b[1;33m**\u001b[0m\u001b[0mkwds\u001b[0m\u001b[1;33m)\u001b[0m\u001b[1;33m\u001b[0m\u001b[1;33m\u001b[0m\u001b[0m\n\u001b[1;32m-> 1306\u001b[1;33m     \u001b[1;32mreturn\u001b[0m \u001b[0mtg\u001b[0m\u001b[1;33m.\u001b[0m\u001b[0m_get_resampler\u001b[0m\u001b[1;33m(\u001b[0m\u001b[0mobj\u001b[0m\u001b[1;33m,\u001b[0m \u001b[0mkind\u001b[0m\u001b[1;33m=\u001b[0m\u001b[0mkind\u001b[0m\u001b[1;33m)\u001b[0m\u001b[1;33m\u001b[0m\u001b[1;33m\u001b[0m\u001b[0m\n\u001b[0m\u001b[0;32m   1307\u001b[0m \u001b[1;33m\u001b[0m\u001b[0m\n\u001b[0;32m   1308\u001b[0m \u001b[1;33m\u001b[0m\u001b[0m\n",
      "\u001b[1;32m~\\Anaconda3\\envs\\dsi\\lib\\site-packages\\pandas\\core\\resample.py\u001b[0m in \u001b[0;36m_get_resampler\u001b[1;34m(self, obj, kind)\u001b[0m\n\u001b[0;32m   1441\u001b[0m             \u001b[1;34m\"Only valid with DatetimeIndex, \"\u001b[0m\u001b[1;33m\u001b[0m\u001b[1;33m\u001b[0m\u001b[0m\n\u001b[0;32m   1442\u001b[0m             \u001b[1;34m\"TimedeltaIndex or PeriodIndex, \"\u001b[0m\u001b[1;33m\u001b[0m\u001b[1;33m\u001b[0m\u001b[0m\n\u001b[1;32m-> 1443\u001b[1;33m             \u001b[1;34m\"but got an instance of %r\"\u001b[0m \u001b[1;33m%\u001b[0m \u001b[0mtype\u001b[0m\u001b[1;33m(\u001b[0m\u001b[0max\u001b[0m\u001b[1;33m)\u001b[0m\u001b[1;33m.\u001b[0m\u001b[0m__name__\u001b[0m\u001b[1;33m\u001b[0m\u001b[1;33m\u001b[0m\u001b[0m\n\u001b[0m\u001b[0;32m   1444\u001b[0m         )\n\u001b[0;32m   1445\u001b[0m \u001b[1;33m\u001b[0m\u001b[0m\n",
      "\u001b[1;31mTypeError\u001b[0m: Only valid with DatetimeIndex, TimedeltaIndex or PeriodIndex, but got an instance of 'RangeIndex'"
     ]
    }
   ],
   "source": [
    "tweets.resample('A').mean()"
   ]
  },
  {
   "cell_type": "code",
   "execution_count": 27,
   "metadata": {},
   "outputs": [
    {
     "data": {
      "text/plain": [
       "(array([43.,  2.,  0.,  1.,  0.,  0.,  0.,  0.,  0.,  1.]),\n",
       " array([1.00000e+00, 1.50660e+03, 3.01220e+03, 4.51780e+03, 6.02340e+03,\n",
       "        7.52900e+03, 9.03460e+03, 1.05402e+04, 1.20458e+04, 1.35514e+04,\n",
       "        1.50570e+04]),\n",
       " <a list of 10 Patch objects>)"
      ]
     },
     "execution_count": 27,
     "metadata": {},
     "output_type": "execute_result"
    },
    {
     "data": {
      "image/png": "[encoded data removed]",
      "text/plain": [
       "<Figure size 864x648 with 1 Axes>"
      ]
     },
     "metadata": {
      "needs_background": "light"
     },
     "output_type": "display_data"
    }
   ],
   "source": [
    "fig, ax = plt.subplots(figsize = (12, 9))\n",
    "\n",
    "ax.hist(tweet_count_month)"
   ]
  },
  {
   "cell_type": "code",
   "execution_count": 28,
   "metadata": {
    "scrolled": false
   },
   "outputs": [
    {
     "data": {
      "image/png": "[encoded data removed]",
      "text/plain": [
       "<Figure size 432x288 with 1 Axes>"
      ]
     },
     "metadata": {
      "needs_background": "light"
     },
     "output_type": "display_data"
    }
   ],
   "source": [
    "tweets['text'].groupby([tweets[\"clean_date\"].dt.year, tweets[\"clean_date\"].dt.month]).count().plot(kind=\"bar\");"
   ]
  },
  {
   "cell_type": "code",
   "execution_count": 69,
   "metadata": {},
   "outputs": [
    {
     "data": {
      "text/html": [
       "<div>\n",
       "<style scoped>\n",
       "    .dataframe tbody tr th:only-of-type {\n",
       "        vertical-align: middle;\n",
       "    }\n",
       "\n",
       "    .dataframe tbody tr th {\n",
       "        vertical-align: top;\n",
       "    }\n",
       "\n",
       "    .dataframe thead th {\n",
       "        text-align: right;\n",
       "    }\n",
       "</style>\n",
       "<table border=\"1\" class=\"dataframe\">\n",
       "  <thead>\n",
       "    <tr style=\"text-align: right;\">\n",
       "      <th></th>\n",
       "      <th>text</th>\n",
       "    </tr>\n",
       "    <tr>\n",
       "      <th>clean_date</th>\n",
       "      <th></th>\n",
       "    </tr>\n",
       "  </thead>\n",
       "  <tbody>\n",
       "    <tr>\n",
       "      <th>2014-02-16</th>\n",
       "      <td>1</td>\n",
       "    </tr>\n",
       "    <tr>\n",
       "      <th>2014-02-23</th>\n",
       "      <td>1</td>\n",
       "    </tr>\n",
       "    <tr>\n",
       "      <th>2014-03-02</th>\n",
       "      <td>0</td>\n",
       "    </tr>\n",
       "    <tr>\n",
       "      <th>2014-03-09</th>\n",
       "      <td>0</td>\n",
       "    </tr>\n",
       "    <tr>\n",
       "      <th>2014-03-16</th>\n",
       "      <td>0</td>\n",
       "    </tr>\n",
       "    <tr>\n",
       "      <th>...</th>\n",
       "      <td>...</td>\n",
       "    </tr>\n",
       "    <tr>\n",
       "      <th>2017-12-03</th>\n",
       "      <td>7</td>\n",
       "    </tr>\n",
       "    <tr>\n",
       "      <th>2017-12-10</th>\n",
       "      <td>7</td>\n",
       "    </tr>\n",
       "    <tr>\n",
       "      <th>2017-12-17</th>\n",
       "      <td>7</td>\n",
       "    </tr>\n",
       "    <tr>\n",
       "      <th>2017-12-24</th>\n",
       "      <td>7</td>\n",
       "    </tr>\n",
       "    <tr>\n",
       "      <th>2017-12-31</th>\n",
       "      <td>7</td>\n",
       "    </tr>\n",
       "  </tbody>\n",
       "</table>\n",
       "<p>203 rows × 1 columns</p>\n",
       "</div>"
      ],
      "text/plain": [
       "            text\n",
       "clean_date      \n",
       "2014-02-16     1\n",
       "2014-02-23     1\n",
       "2014-03-02     0\n",
       "2014-03-09     0\n",
       "2014-03-16     0\n",
       "...          ...\n",
       "2017-12-03     7\n",
       "2017-12-10     7\n",
       "2017-12-17     7\n",
       "2017-12-24     7\n",
       "2017-12-31     7\n",
       "\n",
       "[203 rows x 1 columns]"
      ]
     },
     "execution_count": 69,
     "metadata": {},
     "output_type": "execute_result"
    }
   ],
   "source": [
    "daily_tweets.resample('W').count()"
   ]
  },
  {
   "cell_type": "code",
   "execution_count": 110,
   "metadata": {},
   "outputs": [
    {
     "data": {
      "image/png": "[encoded data removed]",
      "text/plain": [
       "<Figure size 864x576 with 1 Axes>"
      ]
     },
     "metadata": {
      "needs_background": "light"
     },
     "output_type": "display_data"
    }
   ],
   "source": [
    "fig, ax = plt.subplots(figsize = (12, 8))\n",
    "ax.plot(daily_tweets['text']);\n",
    "ax.plot(daily_tweets['text'].resample('W').mean());\n",
    "ax.legend(['Daily Tweet Count', 'Weekly Averaged Tweet Count']);\n",
    "ax.set_title('Daily and Weekly (Averaged) Tweet Counts', fontsize = 20)\n",
    "ax.set_xlabel('Date', fontsize = 16)\n",
    "ax.set_ylabel('Number of Tweets', fontsize = 16)\n",
    "ax.tick_params(axis='both', which='major', labelsize=14)\n",
    "plt.savefig('../figs/dailyct_and_monthlyavg_tweets.png')"
   ]
  },
  {
   "cell_type": "code",
   "execution_count": 67,
   "metadata": {
    "scrolled": true
   },
   "outputs": [
    {
     "data": {
      "image/png": "[encoded data removed]",
      "text/plain": [
       "<Figure size 864x576 with 1 Axes>"
      ]
     },
     "metadata": {
      "needs_background": "light"
     },
     "output_type": "display_data"
    }
   ],
   "source": [
    "plt.figure(figsize = (12, 8))\n",
    "plt.plot(daily_tweets['text']);\n",
    "plt.plot(daily_tweets['text'].rolling(7).mean());"
   ]
  },
  {
   "cell_type": "code",
   "execution_count": 91,
   "metadata": {},
   "outputs": [
    {
     "data": {
      "image/png": "[encoded data removed]",
      "text/plain": [
       "<Figure size 864x576 with 1 Axes>"
      ]
     },
     "metadata": {
      "needs_background": "light"
     },
     "output_type": "display_data"
    }
   ],
   "source": [
    "plt.figure(figsize = (12, 8))\n",
    "plt.plot(daily_tweets['text'].rolling(7).mean());\n",
    "plt.plot(daily_tweets['text'].resample('W').mean());"
   ]
  },
  {
   "cell_type": "code",
   "execution_count": 98,
   "metadata": {
    "scrolled": true
   },
   "outputs": [
    {
     "data": {
      "image/png": "[encoded data removed]",
      "text/plain": [
       "<Figure size 864x576 with 2 Axes>"
      ]
     },
     "metadata": {
      "needs_background": "light"
     },
     "output_type": "display_data"
    }
   ],
   "source": [
    "fig,ax = plt.subplots(nrows = 2, ncols = 1, figsize = (12, 8), sharex = True, sharey = True)\n",
    "\n",
    "ax[0].plot(daily_tweets['text'].rolling(7).mean());\n",
    "ax[1].plot(daily_tweets['text'].resample('W').mean());"
   ]
  },
  {
   "cell_type": "code",
   "execution_count": 29,
   "metadata": {},
   "outputs": [
    {
     "data": {
      "image/png": "[encoded data removed]",
      "text/plain": [
       "<Figure size 864x648 with 1 Axes>"
      ]
     },
     "metadata": {
      "needs_background": "light"
     },
     "output_type": "display_data"
    }
   ],
   "source": [
    "tweet_count_month.plot(kind=\"bar\", figsize = (12, 9), fontsize = 14);\n",
    "plt.title('Tweets By Month', fontsize = 20);\n",
    "plt.xlabel('Month', fontsize = 16);\n",
    "plt.ylabel('Tweet Count', fontsize = 16);\n",
    "#plt.xaxis.set_major_locator(mdates.MonthLocator())\n",
    "#plt.xticks(np.arange(min(tweet_count_month[:]), max(tweet_count_month[:])+12, 1.0));\n",
    "plt.savefig('../figs/monthly_tweets.png')"
   ]
  },
  {
   "cell_type": "code",
   "execution_count": null,
   "metadata": {},
   "outputs": [],
   "source": [
    "cvec_tw = CountVectorizer()"
   ]
  },
  {
   "cell_type": "code",
   "execution_count": null,
   "metadata": {},
   "outputs": [],
   "source": [
    "stopWords = ['com', 'http', 'twitter', 'https', 'pic', 'www', 'ly', \n",
    "             'yahoo', 'yhoo', 'youtu', 'youtube'] + list(ENGLISH_STOP_WORDS) "
   ]
  },
  {
   "cell_type": "code",
   "execution_count": null,
   "metadata": {},
   "outputs": [],
   "source": [
    "# Initiate instance of CountVectorizer for tweet data\n",
    "cvec_tw = CountVectorizer(stop_words = stopWords, # get rid of stopwords, right now we're more interested in what's left after\n",
    "                          max_features = 500, # only use 500 top features\n",
    "                          max_df = 0.98)  # Don't use features that appear in more than 98% of entries\n",
    "\n",
    "# Pull out 'title' column from climatechange data\n",
    "X_tw = tweets['text']\n",
    "\n",
    "# Fit the vectorizer to our corpus\n",
    "cvec_tw.fit(X_tw)\n",
    "\n",
    "# Transform the training corpus\n",
    "X_tw = cvec_tw.transform(X_tw)\n",
    "\n",
    "# Convert result into a dataframe\n",
    "X_tw_df = pd.DataFrame(X_tw.toarray(),\n",
    "                          columns=cvec_tw.get_feature_names())\n",
    "X_tw_df.head()"
   ]
  },
  {
   "cell_type": "code",
   "execution_count": null,
   "metadata": {},
   "outputs": [],
   "source": [
    "X_tw_df.shape"
   ]
  },
  {
   "cell_type": "code",
   "execution_count": null,
   "metadata": {},
   "outputs": [],
   "source": [
    "# Save 20 most frequently appearing words to a df, in descending order\n",
    "tw_bardat = X_tw_df.sum().sort_values(ascending = False)[0:20].to_frame()"
   ]
  },
  {
   "cell_type": "code",
   "execution_count": null,
   "metadata": {},
   "outputs": [],
   "source": [
    "tw_bardat.index"
   ]
  },
  {
   "cell_type": "code",
   "execution_count": null,
   "metadata": {},
   "outputs": [],
   "source": [
    "fig, ax = plt.subplots(figsize=(16, 9), sharex = True, constrained_layout = True, # Share x axes to keep ranges the same\n",
    "                              facecolor = '#E0E0E0')  # Set figure facecolor to match slide theme\n",
    "ax.barh(tw_bardat.index, tw_bardat[0]);\n",
    "ax.invert_yaxis(); # Flip plot vertically so values descending from top\n",
    "ax.set_title(f'Word Frequency Across {city}-related Tweets', fontsize = 20);\n",
    "ax.set_xlabel('Word Frequency', fontsize = 16);\n",
    "ax.set_yticklabels(tw_bardat.index, fontsize = 12)\n",
    "ax.tick_params(labelsize = 14)\n",
    "         "
   ]
  },
  {
   "cell_type": "code",
   "execution_count": null,
   "metadata": {},
   "outputs": [],
   "source": []
  },
  {
   "cell_type": "code",
   "execution_count": null,
   "metadata": {},
   "outputs": [],
   "source": [
    "# For loop to do most of my 'Title' cleaning--remove punctuation, convert to lowercase, lemmatize\n",
    "# With guidance from Preeya Sawadmanod\n",
    "\n",
    "text_puncless = []\n",
    "text_lemmed = []\n",
    "\n",
    "for row in tweets['text']:\n",
    "    # Instantiate tokenizer/set to remove punctuation, numbers, and any 'words' comprised of just 1 character\n",
    "    # Numbers removed because many were completely extraneous\n",
    "    # And the ones that might have been useful weren't useful enough to justify keeping the rest\n",
    "    tokenizer = RegexpTokenizer(r'[a-zA-Z]{2,}') # (r'\\w+')\n",
    "\n",
    "    # Instantiate lemmatizer: lemmatizer over stemmer because false negatives are preferable here to false positives\n",
    "    # We don't want to over-estimate the accuracy of our predictions\n",
    "    lemmatizer = WordNetLemmatizer()\n",
    "    \n",
    "    # Tokenize each row (also do the change to lower-case here)\n",
    "    rows = tokenizer.tokenize(row.lower())\n",
    "    \n",
    "    # Lemmatize all words in each row\n",
    "    lem_rows = [lemmatizer.lemmatize(word) for word in rows]\n",
    "    \n",
    "    # Change each row back from a list of strings to a single string\n",
    "    rows = ' '.join(rows)\n",
    "    lem_rows = ' '.join(lem_rows)\n",
    "    \n",
    "    # Append fixed rows to their respective lists\n",
    "    text_puncless.append(rows)\n",
    "    text_lemmed.append(lem_rows)"
   ]
  },
  {
   "cell_type": "code",
   "execution_count": null,
   "metadata": {},
   "outputs": [],
   "source": [
    "len(text_puncless)"
   ]
  },
  {
   "cell_type": "code",
   "execution_count": null,
   "metadata": {},
   "outputs": [],
   "source": [
    "tweets.shape"
   ]
  },
  {
   "cell_type": "code",
   "execution_count": null,
   "metadata": {},
   "outputs": [],
   "source": [
    "# Insert cleaned lists of titles into dataframe as new columns\n",
    "tweets['text_nopunc'] = text_puncless\n",
    "tweets['text_lemmed'] = text_lemmed"
   ]
  },
  {
   "cell_type": "code",
   "execution_count": null,
   "metadata": {},
   "outputs": [],
   "source": [
    "tweets.head()"
   ]
  },
  {
   "cell_type": "code",
   "execution_count": null,
   "metadata": {},
   "outputs": [],
   "source": [
    "# WORD-TO-VEC ???? Try kmeans with and without word2vec\n",
    "# Support vector machines\n",
    "# KMeans\n",
    "# Cosine similarity?\n"
   ]
  },
  {
   "cell_type": "code",
   "execution_count": null,
   "metadata": {},
   "outputs": [],
   "source": [
    "X = tweets['text_lemmed']\n"
   ]
  },
  {
   "cell_type": "markdown",
   "metadata": {},
   "source": [
    "### KMeans clustering with CountVectorizer"
   ]
  },
  {
   "cell_type": "code",
   "execution_count": null,
   "metadata": {},
   "outputs": [],
   "source": [
    "cvec_X = CountVectorizer(stop_words = stopWords, # get rid of stopwords, right now we're more interested in what's left after\n",
    "                          max_features = 500, # only use 500 top features\n",
    "                          max_df = 0.98)  # Don't use features that appear in more than 98% of entries\n",
    "\n",
    "# Pull out 'title' column from climatechange data\n",
    "X_cvec = X\n",
    "\n",
    "# Fit the vectorizer to our corpus\n",
    "cvec_X.fit(X_cvec)\n",
    "\n",
    "# Transform the training corpus\n",
    "X_cvec = cvec_X.transform(X_cvec)\n",
    "\n",
    "# Convert result into a dataframe\n",
    "X_cvec_df = pd.DataFrame(X_cvec.toarray(),\n",
    "                          columns=cvec_X.get_feature_names())\n",
    "X_cvec_df.head()"
   ]
  },
  {
   "cell_type": "code",
   "execution_count": null,
   "metadata": {},
   "outputs": [],
   "source": [
    "Xcols = list(X_cvec_df.columns)"
   ]
  },
  {
   "cell_type": "code",
   "execution_count": null,
   "metadata": {},
   "outputs": [],
   "source": [
    "km = KMeans(n_clusters = 5, random_state = 42)\n",
    "sc = StandardScaler()\n",
    "X_sc = sc.fit_transform(X_cvec_df[Xcols])"
   ]
  },
  {
   "cell_type": "code",
   "execution_count": null,
   "metadata": {},
   "outputs": [],
   "source": [
    "km.fit(X_sc)"
   ]
  },
  {
   "cell_type": "code",
   "execution_count": null,
   "metadata": {},
   "outputs": [],
   "source": [
    "km.cluster_centers_"
   ]
  },
  {
   "cell_type": "code",
   "execution_count": null,
   "metadata": {
    "scrolled": true
   },
   "outputs": [],
   "source": [
    "tweets[\"cluster\"] = km.labels_\n",
    "tweets.tail()"
   ]
  },
  {
   "cell_type": "code",
   "execution_count": null,
   "metadata": {
    "scrolled": true
   },
   "outputs": [],
   "source": [
    "tweets.groupby(['cluster']).count()"
   ]
  },
  {
   "cell_type": "code",
   "execution_count": null,
   "metadata": {},
   "outputs": [],
   "source": [
    "plt.figure(figsize=(7,7));\n",
    "\n",
    "## Plot scatter by cluster / color, and centroids\n",
    "colors = [\"red\", \"green\", \"blue\"]\n",
    "tweets['color'] = tweets['cluster'].map(lambda p: colors[p])"
   ]
  },
  {
   "cell_type": "code",
   "execution_count": null,
   "metadata": {},
   "outputs": [],
   "source": []
  },
  {
   "cell_type": "markdown",
   "metadata": {},
   "source": [
    "### Kmeans Clustering with TFIDF"
   ]
  },
  {
   "cell_type": "code",
   "execution_count": null,
   "metadata": {},
   "outputs": [],
   "source": []
  },
  {
   "cell_type": "code",
   "execution_count": null,
   "metadata": {},
   "outputs": [],
   "source": [
    "# Fit the transformer.\n",
    "tvec_X = TfidfVectorizer(stop_words = stopWords, # get rid of stopwords, right now we're more interested in what's left after\n",
    "                          max_features = 500, # only use 500 top features\n",
    "                          max_df = 0.98)  # Don't use features that appear in more than 98% of entries"
   ]
  },
  {
   "cell_type": "code",
   "execution_count": null,
   "metadata": {},
   "outputs": [],
   "source": [
    "tvec_X"
   ]
  },
  {
   "cell_type": "code",
   "execution_count": null,
   "metadata": {
    "scrolled": true
   },
   "outputs": [],
   "source": [
    "# Pull out 'title' column from climatechange data\n",
    "X_tvec = X\n",
    "\n",
    "# Fit the vectorizer to our corpus\n",
    "tvec_X.fit(X_tvec)\n",
    "\n",
    "# Transform the training corpus\n",
    "X_tvec = tvec_X.transform(X_tvec)\n",
    "\n",
    "# Convert result into a dataframe\n",
    "X_tvec_df = pd.DataFrame(X_tvec.toarray(),\n",
    "                          columns=tvec_X.get_feature_names())\n",
    "X_tvec_df.head()"
   ]
  },
  {
   "cell_type": "code",
   "execution_count": null,
   "metadata": {},
   "outputs": [],
   "source": [
    "X_tvec[100:102,:]"
   ]
  },
  {
   "cell_type": "code",
   "execution_count": null,
   "metadata": {
    "scrolled": true,
    "slideshow": {
     "slide_type": "-"
    }
   },
   "outputs": [],
   "source": [
    "Xcols = list(X_tvec_df.columns)"
   ]
  },
  {
   "cell_type": "code",
   "execution_count": null,
   "metadata": {},
   "outputs": [],
   "source": []
  },
  {
   "cell_type": "code",
   "execution_count": null,
   "metadata": {},
   "outputs": [],
   "source": []
  },
  {
   "cell_type": "code",
   "execution_count": null,
   "metadata": {},
   "outputs": [],
   "source": [
    "km = KMeans(n_clusters = 5, random_state = 86753)\n",
    "sc = StandardScaler()\n",
    "X_sc = sc.fit_transform(X_tvec_df[Xcols])"
   ]
  },
  {
   "cell_type": "code",
   "execution_count": null,
   "metadata": {},
   "outputs": [],
   "source": [
    "km.fit(X_tvec)"
   ]
  },
  {
   "cell_type": "code",
   "execution_count": null,
   "metadata": {},
   "outputs": [],
   "source": [
    "km.n_iter_"
   ]
  },
  {
   "cell_type": "code",
   "execution_count": null,
   "metadata": {},
   "outputs": [],
   "source": [
    "km.cluster_centers_"
   ]
  },
  {
   "cell_type": "code",
   "execution_count": null,
   "metadata": {
    "scrolled": true
   },
   "outputs": [],
   "source": [
    "tweets[\"cluster\"] = km.labels_\n",
    "tweets.tail()"
   ]
  },
  {
   "cell_type": "code",
   "execution_count": null,
   "metadata": {
    "scrolled": true
   },
   "outputs": [],
   "source": [
    "tweets.groupby(['cluster']).count()"
   ]
  },
  {
   "cell_type": "code",
   "execution_count": null,
   "metadata": {},
   "outputs": [],
   "source": [
    "silhouette_score(X_sc, km.labels_)"
   ]
  },
  {
   "cell_type": "code",
   "execution_count": null,
   "metadata": {},
   "outputs": [],
   "source": [
    "km.inertia_"
   ]
  },
  {
   "cell_type": "code",
   "execution_count": null,
   "metadata": {},
   "outputs": [],
   "source": [
    "# Now testing a varying k\n",
    "scores = []\n",
    "for k in range(2, 31):\n",
    "    km = KMeans(k, random_state=1234)\n",
    "    km.fit(X_tvec)\n",
    "    inertia = km.inertia_\n",
    "    sil = silhouette_score(X_tvec, km.labels_)\n",
    "    scores.append((k, inertia, sil))"
   ]
  },
  {
   "cell_type": "code",
   "execution_count": null,
   "metadata": {},
   "outputs": [],
   "source": [
    "score_df = pd.DataFrame(scores, columns=[\"k\", \"inertia\", \"sil\"])\n",
    "score_df.head()"
   ]
  },
  {
   "cell_type": "code",
   "execution_count": null,
   "metadata": {},
   "outputs": [],
   "source": [
    "fig, axes = plt.subplots(1, 2, figsize=(14, 7));\n",
    "axes[0].plot(score_df.k, score_df.inertia);\n",
    "axes[0].set_title('Inertia over k');\n",
    "axes[1].plot(score_df.k, score_df.sil);\n",
    "axes[1].set_title('Silhouette Score over k');"
   ]
  },
  {
   "cell_type": "code",
   "execution_count": null,
   "metadata": {},
   "outputs": [],
   "source": []
  },
  {
   "cell_type": "code",
   "execution_count": null,
   "metadata": {},
   "outputs": [],
   "source": []
  },
  {
   "cell_type": "code",
   "execution_count": null,
   "metadata": {},
   "outputs": [],
   "source": []
  },
  {
   "cell_type": "code",
   "execution_count": null,
   "metadata": {},
   "outputs": [],
   "source": [
    "pipe = Pipeline([\n",
    "    ('cvec', CountVectorizer()),\n",
    "    ('km', KMeans())\n",
    "])"
   ]
  },
  {
   "cell_type": "code",
   "execution_count": null,
   "metadata": {},
   "outputs": [],
   "source": [
    "pipe_params = {\n",
    "    'cvec__max_features': [500],\n",
    "    'cvec__min_df': [2],\n",
    "    'cvec__max_df': [0.98],\n",
    "    'cvec__ngram_range': [(1,2)],\n",
    "    'cvec__stop_words': [stopWords],\n",
    "    'km__n_clusters': [3, 5],\n",
    "    'km__random_state': [42]\n",
    "}"
   ]
  },
  {
   "cell_type": "code",
   "execution_count": null,
   "metadata": {},
   "outputs": [],
   "source": [
    "# Instantiate GridSearchCV.\n",
    "\n",
    "gs = GridSearchCV(pipe, # what object are we optimizing?\n",
    "                  pipe_params, # what parameters values are we searching?\n",
    "                  cv=3) # 3-fold cross-validation."
   ]
  },
  {
   "cell_type": "code",
   "execution_count": null,
   "metadata": {},
   "outputs": [],
   "source": [
    "gs.fit(X)"
   ]
  },
  {
   "cell_type": "code",
   "execution_count": null,
   "metadata": {},
   "outputs": [],
   "source": []
  },
  {
   "cell_type": "code",
   "execution_count": null,
   "metadata": {},
   "outputs": [],
   "source": [
    "gs.cluster_centers_"
   ]
  },
  {
   "cell_type": "code",
   "execution_count": null,
   "metadata": {},
   "outputs": [],
   "source": []
  }
 ],
 "metadata": {
  "kernelspec": {
   "display_name": "Python [conda env:dsi] *",
   "language": "python",
   "name": "conda-env-dsi-py"
  },
  "toc": {
   "base_numbering": 1,
   "nav_menu": {},
   "number_sections": true,
   "sideBar": true,
   "skip_h1_title": false,
   "title_cell": "Table of Contents",
   "title_sidebar": "Contents",
   "toc_cell": false,
   "toc_position": {},
   "toc_section_display": true,
   "toc_window_display": true
  },
  "varInspector": {
   "cols": {
    "lenName": 16,
    "lenType": 16,
    "lenVar": 40
   },
   "kernels_config": {
    "python": {
     "delete_cmd_postfix": "",
     "delete_cmd_prefix": "del ",
     "library": "var_list.py",
     "varRefreshCmd": "print(var_dic_list())"
    },
    "r": {
     "delete_cmd_postfix": ") ",
     "delete_cmd_prefix": "rm(",
     "library": "var_list.r",
     "varRefreshCmd": "cat(var_dic_list()) "
    }
   },
   "types_to_exclude": [
    "module",
    "function",
    "builtin_function_or_method",
    "instance",
    "_Feature"
   ],
   "window_display": false
  }
 },
 "nbformat": 4,
 "nbformat_minor": 2
}
