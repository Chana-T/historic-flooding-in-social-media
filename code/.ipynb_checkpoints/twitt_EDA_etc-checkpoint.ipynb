{
 "cells": [
  {
   "cell_type": "markdown",
   "metadata": {},
   "source": [
    "# Leveraging Social Media to Identify Major Historic Flood Events, Notebook 2/3: "
   ]
  },
  {
   "cell_type": "markdown",
   "metadata": {},
   "source": [
    "## Twitter Data EDA & Analysis"
   ]
  },
  {
   "cell_type": "markdown",
   "metadata": {},
   "source": [
    "#### Contents"
   ]
  },
  {
   "cell_type": "markdown",
   "metadata": {},
   "source": [
    "#### Library Import"
   ]
  },
  {
   "cell_type": "code",
   "execution_count": 70,
   "metadata": {},
   "outputs": [],
   "source": [
    "# Load libraries and functions\n",
    "import pandas as pd\n",
    "import numpy as np\n",
    "import datetime as dt\n",
    "import matplotlib.pyplot as plt\n",
    "import matplotlib.dates as mdates\n",
    "from sklearn.feature_extraction.text import CountVectorizer, TfidfVectorizer, ENGLISH_STOP_WORDS\n",
    "from nltk.corpus import stopwords\n",
    "from nltk.tokenize import RegexpTokenizer\n",
    "from nltk.stem import WordNetLemmatizer\n",
    "from sklearn.cluster import KMeans\n",
    "from sklearn.pipeline import Pipeline\n",
    "from sklearn.model_selection import train_test_split, GridSearchCV\n",
    "from sklearn.metrics import silhouette_score\n",
    "from sklearn.preprocessing import StandardScaler"
   ]
  },
  {
   "cell_type": "code",
   "execution_count": 71,
   "metadata": {},
   "outputs": [],
   "source": [
    "# Turn off warnings to reduce angry red-space in notebook\n",
    "import warnings\n",
    "warnings.simplefilter(action='ignore', category=FutureWarning)"
   ]
  },
  {
   "cell_type": "markdown",
   "metadata": {},
   "source": [
    "### EDA"
   ]
  },
  {
   "cell_type": "markdown",
   "metadata": {},
   "source": [
    "#### Select city and date range of interest (same as used for corresponding Twitter scrape)"
   ]
  },
  {
   "cell_type": "code",
   "execution_count": 72,
   "metadata": {},
   "outputs": [],
   "source": [
    "city = 'Houston'\n",
    "start_date = dt.date(2014, 1, 1)\n",
    "end_date = dt.date(2018, 1, 1)"
   ]
  },
  {
   "cell_type": "code",
   "execution_count": 73,
   "metadata": {},
   "outputs": [],
   "source": [
    "# Read .csv created with above parameters\n",
    "df = pd.read_csv(f'../data/tweetscrape_{city}_{start_date}_to_{end_date}.csv')"
   ]
  },
  {
   "cell_type": "code",
   "execution_count": 74,
   "metadata": {},
   "outputs": [],
   "source": [
    "# Create df with only columns of interest\n",
    "tweets = df[['username', 'tweet_id', 'timestamp', 'timestamp_epochs', 'retweets', 'text']]"
   ]
  },
  {
   "cell_type": "code",
   "execution_count": 75,
   "metadata": {},
   "outputs": [
    {
     "data": {
      "text/plain": [
       "(33036, 6)"
      ]
     },
     "execution_count": 75,
     "metadata": {},
     "output_type": "execute_result"
    }
   ],
   "source": [
    "# How many tweets are we dealing with?\n",
    "tweets.shape"
   ]
  },
  {
   "cell_type": "markdown",
   "metadata": {},
   "source": [
    "* Houston: 33,036\n",
    "* Manila: "
   ]
  },
  {
   "cell_type": "code",
   "execution_count": 76,
   "metadata": {},
   "outputs": [
    {
     "data": {
      "text/plain": [
       "dtype('O')"
      ]
     },
     "execution_count": 76,
     "metadata": {},
     "output_type": "execute_result"
    }
   ],
   "source": [
    "# What data-type is our timestamp column?\n",
    "tweets['timestamp'].dtypes"
   ]
  },
  {
   "cell_type": "code",
   "execution_count": 129,
   "metadata": {},
   "outputs": [
    {
     "data": {
      "text/plain": [
       "username            0\n",
       "tweet_id            0\n",
       "timestamp           0\n",
       "timestamp_epochs    0\n",
       "retweets            0\n",
       "text                0\n",
       "clean_date          0\n",
       "year                0\n",
       "month               0\n",
       "text_nopunc         0\n",
       "text_lemmed         0\n",
       "dtype: int64"
      ]
     },
     "execution_count": 129,
     "metadata": {},
     "output_type": "execute_result"
    }
   ],
   "source": [
    "# Are there any NaNs to deal with?\n",
    "tweets.isna().sum()"
   ]
  },
  {
   "cell_type": "markdown",
   "metadata": {},
   "source": [
    "#### Timestamp adjustment"
   ]
  },
  {
   "cell_type": "markdown",
   "metadata": {},
   "source": [
    "##### Remove seconds and convert to date-time"
   ]
  },
  {
   "cell_type": "code",
   "execution_count": 77,
   "metadata": {
    "scrolled": true
   },
   "outputs": [
    {
     "name": "stderr",
     "output_type": "stream",
     "text": [
      "C:\\Users\\Tilevitz Family\\Anaconda3\\envs\\dsi\\lib\\site-packages\\ipykernel_launcher.py:9: SettingWithCopyWarning: \n",
      "A value is trying to be set on a copy of a slice from a DataFrame.\n",
      "Try using .loc[row_indexer,col_indexer] = value instead\n",
      "\n",
      "See the caveats in the documentation: http://pandas.pydata.org/pandas-docs/stable/user_guide/indexing.html#returning-a-view-versus-a-copy\n",
      "  if __name__ == '__main__':\n"
     ]
    }
   ],
   "source": [
    "# loop through rows to remove seconds from each timestamp\n",
    "\n",
    "date_list = []\n",
    "\n",
    "for tweet in tweets['timestamp']:\n",
    "    tweet = tweet.replace(' ', '')[:-8] # Remove seconds from the timestamp\n",
    "    date_list.append(tweet)\n",
    "    \n",
    "tweets['clean_date'] = date_list # Save as new column in tweets df"
   ]
  },
  {
   "cell_type": "code",
   "execution_count": 78,
   "metadata": {},
   "outputs": [
    {
     "name": "stderr",
     "output_type": "stream",
     "text": [
      "C:\\Users\\Tilevitz Family\\Anaconda3\\envs\\dsi\\lib\\site-packages\\ipykernel_launcher.py:2: SettingWithCopyWarning: \n",
      "A value is trying to be set on a copy of a slice from a DataFrame.\n",
      "Try using .loc[row_indexer,col_indexer] = value instead\n",
      "\n",
      "See the caveats in the documentation: http://pandas.pydata.org/pandas-docs/stable/user_guide/indexing.html#returning-a-view-versus-a-copy\n",
      "  \n"
     ]
    }
   ],
   "source": [
    "# Change Y-M-D object to datetime format\n",
    "tweets['clean_date'] = pd.to_datetime(tweets['clean_date'], format='%Y-%m-%d')"
   ]
  },
  {
   "cell_type": "markdown",
   "metadata": {},
   "source": [
    "##### Convert original timestamp to datetime"
   ]
  },
  {
   "cell_type": "code",
   "execution_count": 79,
   "metadata": {},
   "outputs": [
    {
     "name": "stderr",
     "output_type": "stream",
     "text": [
      "C:\\Users\\Tilevitz Family\\Anaconda3\\envs\\dsi\\lib\\site-packages\\ipykernel_launcher.py:2: SettingWithCopyWarning: \n",
      "A value is trying to be set on a copy of a slice from a DataFrame.\n",
      "Try using .loc[row_indexer,col_indexer] = value instead\n",
      "\n",
      "See the caveats in the documentation: http://pandas.pydata.org/pandas-docs/stable/user_guide/indexing.html#returning-a-view-versus-a-copy\n",
      "  \n"
     ]
    }
   ],
   "source": [
    "# Convert original timestamp to datetime to preserve seconds\n",
    "tweets['timestamp'] = pd.to_datetime(tweets['timestamp'])"
   ]
  },
  {
   "cell_type": "code",
   "execution_count": 80,
   "metadata": {
    "scrolled": true
   },
   "outputs": [
    {
     "data": {
      "text/plain": [
       "username                    object\n",
       "tweet_id                     int64\n",
       "timestamp           datetime64[ns]\n",
       "timestamp_epochs             int64\n",
       "retweets                     int64\n",
       "text                        object\n",
       "clean_date          datetime64[ns]\n",
       "dtype: object"
      ]
     },
     "execution_count": 80,
     "metadata": {},
     "output_type": "execute_result"
    }
   ],
   "source": [
    "# Check all dtypes to make sure everything is as it should be\n",
    "tweets.dtypes"
   ]
  },
  {
   "cell_type": "code",
   "execution_count": 81,
   "metadata": {
    "scrolled": false
   },
   "outputs": [
    {
     "data": {
      "text/html": [
       "<div>\n",
       "<style scoped>\n",
       "    .dataframe tbody tr th:only-of-type {\n",
       "        vertical-align: middle;\n",
       "    }\n",
       "\n",
       "    .dataframe tbody tr th {\n",
       "        vertical-align: top;\n",
       "    }\n",
       "\n",
       "    .dataframe thead th {\n",
       "        text-align: right;\n",
       "    }\n",
       "</style>\n",
       "<table border=\"1\" class=\"dataframe\">\n",
       "  <thead>\n",
       "    <tr style=\"text-align: right;\">\n",
       "      <th></th>\n",
       "      <th>tweet_id</th>\n",
       "      <th>timestamp_epochs</th>\n",
       "      <th>retweets</th>\n",
       "    </tr>\n",
       "  </thead>\n",
       "  <tbody>\n",
       "    <tr>\n",
       "      <th>count</th>\n",
       "      <td>3.303600e+04</td>\n",
       "      <td>3.303600e+04</td>\n",
       "      <td>33036.000000</td>\n",
       "    </tr>\n",
       "    <tr>\n",
       "      <th>mean</th>\n",
       "      <td>8.416015e+17</td>\n",
       "      <td>1.489488e+09</td>\n",
       "      <td>4.245308</td>\n",
       "    </tr>\n",
       "    <tr>\n",
       "      <th>std</th>\n",
       "      <td>1.110064e+17</td>\n",
       "      <td>2.646600e+07</td>\n",
       "      <td>79.193981</td>\n",
       "    </tr>\n",
       "    <tr>\n",
       "      <th>min</th>\n",
       "      <td>4.338489e+17</td>\n",
       "      <td>1.392273e+09</td>\n",
       "      <td>0.000000</td>\n",
       "    </tr>\n",
       "    <tr>\n",
       "      <th>25%</th>\n",
       "      <td>7.861027e+17</td>\n",
       "      <td>1.476256e+09</td>\n",
       "      <td>0.000000</td>\n",
       "    </tr>\n",
       "    <tr>\n",
       "      <th>50%</th>\n",
       "      <td>9.023256e+17</td>\n",
       "      <td>1.503966e+09</td>\n",
       "      <td>0.000000</td>\n",
       "    </tr>\n",
       "    <tr>\n",
       "      <th>75%</th>\n",
       "      <td>9.032062e+17</td>\n",
       "      <td>1.504176e+09</td>\n",
       "      <td>0.000000</td>\n",
       "    </tr>\n",
       "    <tr>\n",
       "      <th>max</th>\n",
       "      <td>9.475989e+17</td>\n",
       "      <td>1.514760e+09</td>\n",
       "      <td>7466.000000</td>\n",
       "    </tr>\n",
       "  </tbody>\n",
       "</table>\n",
       "</div>"
      ],
      "text/plain": [
       "           tweet_id  timestamp_epochs      retweets\n",
       "count  3.303600e+04      3.303600e+04  33036.000000\n",
       "mean   8.416015e+17      1.489488e+09      4.245308\n",
       "std    1.110064e+17      2.646600e+07     79.193981\n",
       "min    4.338489e+17      1.392273e+09      0.000000\n",
       "25%    7.861027e+17      1.476256e+09      0.000000\n",
       "50%    9.023256e+17      1.503966e+09      0.000000\n",
       "75%    9.032062e+17      1.504176e+09      0.000000\n",
       "max    9.475989e+17      1.514760e+09   7466.000000"
      ]
     },
     "execution_count": 81,
     "metadata": {},
     "output_type": "execute_result"
    }
   ],
   "source": [
    "# Check out numeric variables\n",
    "tweets.describe()"
   ]
  },
  {
   "cell_type": "code",
   "execution_count": 82,
   "metadata": {
    "scrolled": false
   },
   "outputs": [
    {
     "data": {
      "image/png": "[encoded data removed]",
      "text/plain": [
       "<Figure size 720x576 with 1 Axes>"
      ]
     },
     "metadata": {
      "needs_background": "light"
     },
     "output_type": "display_data"
    }
   ],
   "source": [
    "# Check out distribution of tweets using timestamp_epochs\n",
    "# Which is the numerical representation of time\n",
    "tweets.hist(column = 'timestamp_epochs', bins = 30, figsize = (10, 8));"
   ]
  },
  {
   "cell_type": "markdown",
   "metadata": {},
   "source": [
    "**Note:** \n",
    "* Houston: 3 major \"events\" are evident, this will be explored further using timestamps for clarification\n",
    "* Manila: "
   ]
  },
  {
   "cell_type": "code",
   "execution_count": 83,
   "metadata": {
    "scrolled": false
   },
   "outputs": [
    {
     "data": {
      "image/png": "[encoded data removed]",
      "text/plain": [
       "<Figure size 720x576 with 1 Axes>"
      ]
     },
     "metadata": {
      "needs_background": "light"
     },
     "output_type": "display_data"
    }
   ],
   "source": [
    "# What does the distribution of retweets look like?\n",
    "tweets.hist(column = 'retweets', bins = 100, figsize = (10, 8));"
   ]
  },
  {
   "cell_type": "markdown",
   "metadata": {},
   "source": [
    "**Note:** \n",
    "* Houston: This plot does not appear to tell us anything constructive, which was to be expected given the stats in `.describe()`--a mean number of retweets=4.6 with a standard deviation of 84.3 was definitely not normal/horribly skewed.\n",
    "* Manila: "
   ]
  },
  {
   "cell_type": "markdown",
   "metadata": {},
   "source": [
    "#### Identify and drop duplicate tweets"
   ]
  },
  {
   "cell_type": "code",
   "execution_count": 84,
   "metadata": {
    "scrolled": true
   },
   "outputs": [
    {
     "data": {
      "text/html": [
       "<div>\n",
       "<style scoped>\n",
       "    .dataframe tbody tr th:only-of-type {\n",
       "        vertical-align: middle;\n",
       "    }\n",
       "\n",
       "    .dataframe tbody tr th {\n",
       "        vertical-align: top;\n",
       "    }\n",
       "\n",
       "    .dataframe thead th {\n",
       "        text-align: right;\n",
       "    }\n",
       "</style>\n",
       "<table border=\"1\" class=\"dataframe\">\n",
       "  <thead>\n",
       "    <tr style=\"text-align: right;\">\n",
       "      <th></th>\n",
       "      <th>username</th>\n",
       "      <th>tweet_id</th>\n",
       "      <th>timestamp</th>\n",
       "      <th>timestamp_epochs</th>\n",
       "      <th>retweets</th>\n",
       "      <th>text</th>\n",
       "      <th>clean_date</th>\n",
       "    </tr>\n",
       "  </thead>\n",
       "  <tbody>\n",
       "    <tr>\n",
       "      <th>20</th>\n",
       "      <td>mark_tarello</td>\n",
       "      <td>471077480262930432</td>\n",
       "      <td>2014-05-26 23:56:38</td>\n",
       "      <td>1401148598</td>\n",
       "      <td>1</td>\n",
       "      <td>FLOODING from heavy rain this afternoon near H...</td>\n",
       "      <td>2014-05-26</td>\n",
       "    </tr>\n",
       "    <tr>\n",
       "      <th>21</th>\n",
       "      <td>Djtexasoutlaw</td>\n",
       "      <td>471074963911213056</td>\n",
       "      <td>2014-05-26 23:46:38</td>\n",
       "      <td>1401147998</td>\n",
       "      <td>0</td>\n",
       "      <td>Flood on di main road! #Houston #Flood http://...</td>\n",
       "      <td>2014-05-26</td>\n",
       "    </tr>\n",
       "    <tr>\n",
       "      <th>22</th>\n",
       "      <td>laurenalexxis</td>\n",
       "      <td>471067687708143616</td>\n",
       "      <td>2014-05-26 23:17:43</td>\n",
       "      <td>1401146263</td>\n",
       "      <td>0</td>\n",
       "      <td>Stay safe! #rain #flood #storm #houston #sugar...</td>\n",
       "      <td>2014-05-26</td>\n",
       "    </tr>\n",
       "    <tr>\n",
       "      <th>23</th>\n",
       "      <td>leenstaraileen</td>\n",
       "      <td>471067572490616832</td>\n",
       "      <td>2014-05-26 23:17:15</td>\n",
       "      <td>1401146235</td>\n",
       "      <td>0</td>\n",
       "      <td>My daughters boat is floating... #houston #flo...</td>\n",
       "      <td>2014-05-26</td>\n",
       "    </tr>\n",
       "    <tr>\n",
       "      <th>24</th>\n",
       "      <td>ImJohnsirz</td>\n",
       "      <td>471066240975654912</td>\n",
       "      <td>2014-05-26 23:11:58</td>\n",
       "      <td>1401145918</td>\n",
       "      <td>0</td>\n",
       "      <td>Welp we lost power her at walgreens. Gonna hav...</td>\n",
       "      <td>2014-05-26</td>\n",
       "    </tr>\n",
       "    <tr>\n",
       "      <th>...</th>\n",
       "      <td>...</td>\n",
       "      <td>...</td>\n",
       "      <td>...</td>\n",
       "      <td>...</td>\n",
       "      <td>...</td>\n",
       "      <td>...</td>\n",
       "      <td>...</td>\n",
       "    </tr>\n",
       "    <tr>\n",
       "      <th>32868</th>\n",
       "      <td>Texas_Sugar</td>\n",
       "      <td>901313561640787968</td>\n",
       "      <td>2017-08-26 05:21:13</td>\n",
       "      <td>1503724873</td>\n",
       "      <td>0</td>\n",
       "      <td>#Houston Family's system to protect home from ...</td>\n",
       "      <td>2017-08-26</td>\n",
       "    </tr>\n",
       "    <tr>\n",
       "      <th>32869</th>\n",
       "      <td>TheSafetyMaster</td>\n",
       "      <td>901313526085677056</td>\n",
       "      <td>2017-08-26 05:21:04</td>\n",
       "      <td>1503724864</td>\n",
       "      <td>0</td>\n",
       "      <td>#Houston Family's system to protect home from ...</td>\n",
       "      <td>2017-08-26</td>\n",
       "    </tr>\n",
       "    <tr>\n",
       "      <th>32871</th>\n",
       "      <td>JGiannangelo</td>\n",
       "      <td>901313454140796928</td>\n",
       "      <td>2017-08-26 05:20:47</td>\n",
       "      <td>1503724847</td>\n",
       "      <td>0</td>\n",
       "      <td>#Houston Family's system to protect home from ...</td>\n",
       "      <td>2017-08-26</td>\n",
       "    </tr>\n",
       "    <tr>\n",
       "      <th>32872</th>\n",
       "      <td>JadieGirl77479</td>\n",
       "      <td>901313416035545088</td>\n",
       "      <td>2017-08-26 05:20:38</td>\n",
       "      <td>1503724838</td>\n",
       "      <td>0</td>\n",
       "      <td>#Houston Family's system to protect home from ...</td>\n",
       "      <td>2017-08-26</td>\n",
       "    </tr>\n",
       "    <tr>\n",
       "      <th>33010</th>\n",
       "      <td>ladypilot70</td>\n",
       "      <td>894927394687135749</td>\n",
       "      <td>2017-08-08 14:24:52</td>\n",
       "      <td>1502202292</td>\n",
       "      <td>0</td>\n",
       "      <td>#Houston #TXWX #Flooding. @TheLift has an upda...</td>\n",
       "      <td>2017-08-08</td>\n",
       "    </tr>\n",
       "  </tbody>\n",
       "</table>\n",
       "<p>4897 rows × 7 columns</p>\n",
       "</div>"
      ],
      "text/plain": [
       "              username            tweet_id           timestamp  \\\n",
       "20        mark_tarello  471077480262930432 2014-05-26 23:56:38   \n",
       "21       Djtexasoutlaw  471074963911213056 2014-05-26 23:46:38   \n",
       "22       laurenalexxis  471067687708143616 2014-05-26 23:17:43   \n",
       "23      leenstaraileen  471067572490616832 2014-05-26 23:17:15   \n",
       "24          ImJohnsirz  471066240975654912 2014-05-26 23:11:58   \n",
       "...                ...                 ...                 ...   \n",
       "32868      Texas_Sugar  901313561640787968 2017-08-26 05:21:13   \n",
       "32869  TheSafetyMaster  901313526085677056 2017-08-26 05:21:04   \n",
       "32871     JGiannangelo  901313454140796928 2017-08-26 05:20:47   \n",
       "32872   JadieGirl77479  901313416035545088 2017-08-26 05:20:38   \n",
       "33010      ladypilot70  894927394687135749 2017-08-08 14:24:52   \n",
       "\n",
       "       timestamp_epochs  retweets  \\\n",
       "20           1401148598         1   \n",
       "21           1401147998         0   \n",
       "22           1401146263         0   \n",
       "23           1401146235         0   \n",
       "24           1401145918         0   \n",
       "...                 ...       ...   \n",
       "32868        1503724873         0   \n",
       "32869        1503724864         0   \n",
       "32871        1503724847         0   \n",
       "32872        1503724838         0   \n",
       "33010        1502202292         0   \n",
       "\n",
       "                                                    text clean_date  \n",
       "20     FLOODING from heavy rain this afternoon near H... 2014-05-26  \n",
       "21     Flood on di main road! #Houston #Flood http://... 2014-05-26  \n",
       "22     Stay safe! #rain #flood #storm #houston #sugar... 2014-05-26  \n",
       "23     My daughters boat is floating... #houston #flo... 2014-05-26  \n",
       "24     Welp we lost power her at walgreens. Gonna hav... 2014-05-26  \n",
       "...                                                  ...        ...  \n",
       "32868  #Houston Family's system to protect home from ... 2017-08-26  \n",
       "32869  #Houston Family's system to protect home from ... 2017-08-26  \n",
       "32871  #Houston Family's system to protect home from ... 2017-08-26  \n",
       "32872  #Houston Family's system to protect home from ... 2017-08-26  \n",
       "33010  #Houston #TXWX #Flooding. @TheLift has an upda... 2017-08-08  \n",
       "\n",
       "[4897 rows x 7 columns]"
      ]
     },
     "execution_count": 84,
     "metadata": {},
     "output_type": "execute_result"
    }
   ],
   "source": [
    "# Identify duplicate tweet content (identical shared newsitems, users with multiple twitter accounts, etc)\n",
    "tweets[tweets.duplicated(['text'])]"
   ]
  },
  {
   "cell_type": "code",
   "execution_count": 85,
   "metadata": {},
   "outputs": [],
   "source": [
    "# Drop duplicate tweets\n",
    "tweets = tweets.drop_duplicates(['text'])"
   ]
  },
  {
   "cell_type": "code",
   "execution_count": 86,
   "metadata": {
    "scrolled": true
   },
   "outputs": [
    {
     "data": {
      "text/plain": [
       "(28139, 7)"
      ]
     },
     "execution_count": 86,
     "metadata": {},
     "output_type": "execute_result"
    }
   ],
   "source": [
    "# How many tweets remaining?\n",
    "tweets.shape"
   ]
  },
  {
   "cell_type": "markdown",
   "metadata": {},
   "source": [
    "**Tweets remaining for further analysis:** <br>\n",
    "\n",
    "* Houston: 28,139 <br>\n",
    "* Manila: "
   ]
  },
  {
   "cell_type": "code",
   "execution_count": 87,
   "metadata": {},
   "outputs": [
    {
     "data": {
      "text/plain": [
       "26738"
      ]
     },
     "execution_count": 87,
     "metadata": {},
     "output_type": "execute_result"
    }
   ],
   "source": [
    "# How many unique timestamps once duplicates are dropped?\n",
    "tweets['timestamp'].nunique()"
   ]
  },
  {
   "cell_type": "markdown",
   "metadata": {},
   "source": [
    "**Note:** As all timestamps are not unique, our data cannot be treated as an ideal timeseries/our tweets cannot be indexed by timestamp.\n",
    "* Houston: 26,738\n",
    "* Manila: "
   ]
  },
  {
   "cell_type": "code",
   "execution_count": 88,
   "metadata": {
    "scrolled": false
   },
   "outputs": [
    {
     "data": {
      "text/plain": [
       "(296, 7)"
      ]
     },
     "execution_count": 88,
     "metadata": {},
     "output_type": "execute_result"
    }
   ],
   "source": [
    "# How many posts with >50 retweets?\n",
    "tweets[tweets['retweets'] > 50].shape"
   ]
  },
  {
   "cell_type": "markdown",
   "metadata": {},
   "source": [
    "* Houston: 296 (<1%)\n",
    "* Manila: "
   ]
  },
  {
   "cell_type": "markdown",
   "metadata": {},
   "source": [
    "### Evaluation of flood events by tweet frequency"
   ]
  },
  {
   "cell_type": "code",
   "execution_count": 89,
   "metadata": {},
   "outputs": [],
   "source": [
    "# Thus our clean_date becomes the index for our data...\n",
    "daily_tweets = tweets.groupby(tweets['clean_date'])[['text']].count()"
   ]
  },
  {
   "cell_type": "code",
   "execution_count": 90,
   "metadata": {},
   "outputs": [],
   "source": [
    "tweets['year'] = tweets['clean_date'].dt.year\n",
    "tweets['month'] = tweets['clean_date'].dt.month"
   ]
  },
  {
   "cell_type": "code",
   "execution_count": 91,
   "metadata": {},
   "outputs": [],
   "source": [
    "#test = tweets.groupby([tweets[\"year\"], tweets[\"month\"]])[['text']].count()"
   ]
  },
  {
   "cell_type": "code",
   "execution_count": 92,
   "metadata": {},
   "outputs": [],
   "source": [
    "#test.reset_index()"
   ]
  },
  {
   "cell_type": "markdown",
   "metadata": {},
   "source": [
    "#### Plot daily tweet count and weekly-averaged tweet count"
   ]
  },
  {
   "cell_type": "code",
   "execution_count": 93,
   "metadata": {
    "scrolled": false
   },
   "outputs": [
    {
     "data": {
      "image/png": "[encoded data removed]",
      "text/plain": [
       "<Figure size 864x576 with 1 Axes>"
      ]
     },
     "metadata": {
      "needs_background": "light"
     },
     "output_type": "display_data"
    }
   ],
   "source": [
    "fig, ax = plt.subplots(figsize = (12, 8))\n",
    "ax.plot(daily_tweets['text'], color = 'blue');\n",
    "ax.plot(daily_tweets['text'].resample('W').mean(), color = 'orange');\n",
    "ax.legend(['Daily Tweet Count', 'Weekly Averaged Tweet Count'], fontsize = 14);\n",
    "ax.set_title(f'Daily and Weekly (Averaged) Tweet Counts for {city}', fontsize = 20)\n",
    "ax.set_xlabel('Date', fontsize = 16)\n",
    "ax.set_ylabel('Number of Tweets', fontsize = 16)\n",
    "ax.tick_params(axis='both', which='major', labelsize=14)\n",
    "plt.savefig(f'../figs/dailyct_and_weeklyavg_tweets_{city}.png')"
   ]
  },
  {
   "cell_type": "markdown",
   "metadata": {},
   "source": [
    "**Notes:** \n",
    "* Houston: Significant upticks in tweet activity in May 2015, May 2016, and August 2017 correspond to major flooding events in Houston. Smaller but still clear upticks in Oct/Nov 2015, June 2016, and Feb 2017 correspond to recorded and newsworthy floods as well. The major upticks' visibility in the weekly average as well is evidence that these events were not extremely brief and/or minimally impactful.\n",
    "* Manila: "
   ]
  },
  {
   "cell_type": "markdown",
   "metadata": {},
   "source": [
    "#### Plot daily tweet count and annually-averaged tweet count"
   ]
  },
  {
   "cell_type": "code",
   "execution_count": 94,
   "metadata": {
    "scrolled": false
   },
   "outputs": [
    {
     "data": {
      "image/png": "[encoded data removed]",
      "text/plain": [
       "<Figure size 864x576 with 1 Axes>"
      ]
     },
     "metadata": {
      "needs_background": "light"
     },
     "output_type": "display_data"
    }
   ],
   "source": [
    "fig, ax = plt.subplots(figsize = (12, 8))\n",
    "ax.plot(daily_tweets['text'], color = 'blue');\n",
    "ax.plot(daily_tweets['text'].resample('A').mean(), color = 'orange');\n",
    "ax.legend(['Daily Tweet Count', 'Annually Averaged Tweet Count'], fontsize = 14);\n",
    "ax.set_title(f'Daily and Annually (Averaged) Tweet Counts for {city}', fontsize = 20)\n",
    "ax.set_xlabel('Date', fontsize = 16)\n",
    "ax.set_ylabel('Number of Tweets', fontsize = 16)\n",
    "ax.tick_params(axis='both', which='major', labelsize=14)\n",
    "plt.savefig(f'../figs/dailyct_and_annavg_tweets_{city}.png')"
   ]
  },
  {
   "cell_type": "markdown",
   "metadata": {},
   "source": [
    "**Notes:** Annually averaged tweets are useful because they provide a baseline with which to compare any increase in twitter activity. From what we have determined, any visible increase from this baseline seems to corresponded to an impactful flood event.\n",
    "* Houston: 2014-2016 have fairly low baselines, but 2017's is much higher/relatively skewed because of the extended and heavy impact of the August flood event (Hurricane Harvey) on the twitter-sphere.\n",
    "* Manila: "
   ]
  },
  {
   "cell_type": "markdown",
   "metadata": {},
   "source": [
    "#### Mean annual and above-average daily tweet counts"
   ]
  },
  {
   "cell_type": "code",
   "execution_count": 96,
   "metadata": {},
   "outputs": [
    {
     "data": {
      "text/plain": [
       "42.31428571428572"
      ]
     },
     "execution_count": 96,
     "metadata": {},
     "output_type": "execute_result"
    }
   ],
   "source": [
    "# Overall average can be skewed by an anomalous year\n",
    "daily_tweets['text'].mean()"
   ]
  },
  {
   "cell_type": "code",
   "execution_count": 97,
   "metadata": {
    "scrolled": false
   },
   "outputs": [],
   "source": [
    "# Get annual averaged numbers of tweets\n",
    "mean_ann_tweets = daily_tweets[['text']].resample('A').mean()"
   ]
  },
  {
   "cell_type": "code",
   "execution_count": 98,
   "metadata": {},
   "outputs": [],
   "source": [
    "# Set index of mean_ann_tweets to year instead of year-month-day default based on daily_tweets\n",
    "mean_ann_tweets.index = mean_ann_tweets.index.year"
   ]
  },
  {
   "cell_type": "code",
   "execution_count": 130,
   "metadata": {
    "scrolled": true
   },
   "outputs": [
    {
     "data": {
      "text/html": [
       "<div>\n",
       "<style scoped>\n",
       "    .dataframe tbody tr th:only-of-type {\n",
       "        vertical-align: middle;\n",
       "    }\n",
       "\n",
       "    .dataframe tbody tr th {\n",
       "        vertical-align: top;\n",
       "    }\n",
       "\n",
       "    .dataframe thead th {\n",
       "        text-align: right;\n",
       "    }\n",
       "</style>\n",
       "<table border=\"1\" class=\"dataframe\">\n",
       "  <thead>\n",
       "    <tr style=\"text-align: right;\">\n",
       "      <th></th>\n",
       "      <th>text</th>\n",
       "    </tr>\n",
       "    <tr>\n",
       "      <th>clean_date</th>\n",
       "      <th></th>\n",
       "    </tr>\n",
       "  </thead>\n",
       "  <tbody>\n",
       "    <tr>\n",
       "      <th>2014</th>\n",
       "      <td>4.277778</td>\n",
       "    </tr>\n",
       "    <tr>\n",
       "      <th>2015</th>\n",
       "      <td>18.854271</td>\n",
       "    </tr>\n",
       "    <tr>\n",
       "      <th>2016</th>\n",
       "      <td>18.186170</td>\n",
       "    </tr>\n",
       "    <tr>\n",
       "      <th>2017</th>\n",
       "      <td>92.575893</td>\n",
       "    </tr>\n",
       "  </tbody>\n",
       "</table>\n",
       "</div>"
      ],
      "text/plain": [
       "                 text\n",
       "clean_date           \n",
       "2014         4.277778\n",
       "2015        18.854271\n",
       "2016        18.186170\n",
       "2017        92.575893"
      ]
     },
     "execution_count": 130,
     "metadata": {},
     "output_type": "execute_result"
    }
   ],
   "source": [
    "mean_ann_tweets"
   ]
  },
  {
   "cell_type": "markdown",
   "metadata": {},
   "source": [
    "**Mean Annual Tweets**\n",
    "\n",
    "| | Houston | Manila |\n",
    "|--|--|--|\n",
    "|2014| 4.28 |  |\n",
    "|2015| 18.85 |  |\n",
    "|2016| 18.19 |  |\n",
    "|2017 | 92.58 |  |"
   ]
  },
  {
   "cell_type": "code",
   "execution_count": 133,
   "metadata": {},
   "outputs": [
    {
     "data": {
      "text/plain": [
       "DatetimeIndex(['2014-02-13', '2014-02-22', '2014-03-18', '2014-03-28',\n",
       "               '2014-04-28', '2014-05-01', '2014-05-09', '2014-05-12',\n",
       "               '2014-05-13', '2014-05-14',\n",
       "               ...\n",
       "               '2017-12-22', '2017-12-23', '2017-12-24', '2017-12-25',\n",
       "               '2017-12-26', '2017-12-27', '2017-12-28', '2017-12-29',\n",
       "               '2017-12-30', '2017-12-31'],\n",
       "              dtype='datetime64[ns]', name='clean_date', length=665, freq=None)"
      ]
     },
     "execution_count": 133,
     "metadata": {},
     "output_type": "execute_result"
    }
   ],
   "source": [
    "daily_tweets.index"
   ]
  },
  {
   "cell_type": "code",
   "execution_count": 134,
   "metadata": {},
   "outputs": [],
   "source": [
    "# Identify all days with tweet counts greater than their respective annual average\n",
    "# With assistance from Noah Christiansen\n",
    "bool_list = []\n",
    "for i in range(len(daily_tweets)):\n",
    "    # Find days with tweet counts greater than their annual average\n",
    "    bool_list.append(daily_tweets['text'][i] >= mean_ann_tweets.loc[daily_tweets.index[i].year,'text']) \n",
    "daily_tweets['above_avg'] = bool_list"
   ]
  },
  {
   "cell_type": "code",
   "execution_count": 135,
   "metadata": {},
   "outputs": [],
   "source": [
    "# Create new dataframe just for days with above average tweet counts\n",
    "above_avg_tweets = daily_tweets.loc[daily_tweets['above_avg'] == True].drop(columns = 'above_avg')"
   ]
  },
  {
   "cell_type": "code",
   "execution_count": 136,
   "metadata": {},
   "outputs": [
    {
     "data": {
      "text/plain": [
       "clean_date\n",
       "2014-05-04        8\n",
       "2014-05-11        0\n",
       "2014-05-18       11\n",
       "2014-05-25        0\n",
       "2014-06-01       58\n",
       "              ...  \n",
       "2017-08-20        0\n",
       "2017-08-27     2918\n",
       "2017-09-03    14242\n",
       "2017-09-10      937\n",
       "2017-09-17      851\n",
       "Freq: W-SUN, Name: text, Length: 177, dtype: int64"
      ]
     },
     "execution_count": 136,
     "metadata": {},
     "output_type": "execute_result"
    }
   ],
   "source": [
    "(above_avg_tweets.resample('W').sum())['text']"
   ]
  },
  {
   "cell_type": "code",
   "execution_count": 145,
   "metadata": {
    "scrolled": false
   },
   "outputs": [
    {
     "data": {
      "text/html": [
       "<div>\n",
       "<style scoped>\n",
       "    .dataframe tbody tr th:only-of-type {\n",
       "        vertical-align: middle;\n",
       "    }\n",
       "\n",
       "    .dataframe tbody tr th {\n",
       "        vertical-align: top;\n",
       "    }\n",
       "\n",
       "    .dataframe thead th {\n",
       "        text-align: right;\n",
       "    }\n",
       "</style>\n",
       "<table border=\"1\" class=\"dataframe\">\n",
       "  <thead>\n",
       "    <tr style=\"text-align: right;\">\n",
       "      <th></th>\n",
       "      <th>text</th>\n",
       "    </tr>\n",
       "    <tr>\n",
       "      <th>clean_date</th>\n",
       "      <th></th>\n",
       "    </tr>\n",
       "  </thead>\n",
       "  <tbody>\n",
       "    <tr>\n",
       "      <th>2014-05-01</th>\n",
       "      <td>8</td>\n",
       "    </tr>\n",
       "    <tr>\n",
       "      <th>2014-05-13</th>\n",
       "      <td>11</td>\n",
       "    </tr>\n",
       "    <tr>\n",
       "      <th>2014-05-26</th>\n",
       "      <td>12</td>\n",
       "    </tr>\n",
       "    <tr>\n",
       "      <th>2014-05-27</th>\n",
       "      <td>19</td>\n",
       "    </tr>\n",
       "    <tr>\n",
       "      <th>2014-05-28</th>\n",
       "      <td>18</td>\n",
       "    </tr>\n",
       "  </tbody>\n",
       "</table>\n",
       "</div>"
      ],
      "text/plain": [
       "            text\n",
       "clean_date      \n",
       "2014-05-01     8\n",
       "2014-05-13    11\n",
       "2014-05-26    12\n",
       "2014-05-27    19\n",
       "2014-05-28    18"
      ]
     },
     "execution_count": 145,
     "metadata": {},
     "output_type": "execute_result"
    }
   ],
   "source": [
    "# Do our values make sense?\n",
    "above_avg_tweets.head()"
   ]
  },
  {
   "cell_type": "code",
   "execution_count": 146,
   "metadata": {},
   "outputs": [
    {
     "data": {
      "text/html": [
       "<div>\n",
       "<style scoped>\n",
       "    .dataframe tbody tr th:only-of-type {\n",
       "        vertical-align: middle;\n",
       "    }\n",
       "\n",
       "    .dataframe tbody tr th {\n",
       "        vertical-align: top;\n",
       "    }\n",
       "\n",
       "    .dataframe thead th {\n",
       "        text-align: right;\n",
       "    }\n",
       "</style>\n",
       "<table border=\"1\" class=\"dataframe\">\n",
       "  <thead>\n",
       "    <tr style=\"text-align: right;\">\n",
       "      <th></th>\n",
       "      <th>text</th>\n",
       "    </tr>\n",
       "    <tr>\n",
       "      <th>clean_date</th>\n",
       "      <th></th>\n",
       "    </tr>\n",
       "  </thead>\n",
       "  <tbody>\n",
       "    <tr>\n",
       "      <th>2017-09-07</th>\n",
       "      <td>137</td>\n",
       "    </tr>\n",
       "    <tr>\n",
       "      <th>2017-09-08</th>\n",
       "      <td>114</td>\n",
       "    </tr>\n",
       "    <tr>\n",
       "      <th>2017-09-11</th>\n",
       "      <td>96</td>\n",
       "    </tr>\n",
       "    <tr>\n",
       "      <th>2017-09-12</th>\n",
       "      <td>581</td>\n",
       "    </tr>\n",
       "    <tr>\n",
       "      <th>2017-09-13</th>\n",
       "      <td>174</td>\n",
       "    </tr>\n",
       "  </tbody>\n",
       "</table>\n",
       "</div>"
      ],
      "text/plain": [
       "            text\n",
       "clean_date      \n",
       "2017-09-07   137\n",
       "2017-09-08   114\n",
       "2017-09-11    96\n",
       "2017-09-12   581\n",
       "2017-09-13   174"
      ]
     },
     "execution_count": 146,
     "metadata": {},
     "output_type": "execute_result"
    }
   ],
   "source": [
    "# Yes, they do, given our known baselines!\n",
    "above_avg_tweets.tail()"
   ]
  },
  {
   "cell_type": "markdown",
   "metadata": {},
   "source": [
    "#### Plot rolling means"
   ]
  },
  {
   "cell_type": "code",
   "execution_count": 139,
   "metadata": {
    "scrolled": false
   },
   "outputs": [
    {
     "data": {
      "image/png": "[encoded data removed]",
      "text/plain": [
       "<Figure size 864x576 with 1 Axes>"
      ]
     },
     "metadata": {
      "needs_background": "light"
     },
     "output_type": "display_data"
    }
   ],
   "source": [
    "fig, ax = plt.subplots(figsize = (12, 8))\n",
    "ax.plot(daily_tweets['text'], label = 'Daily Tweet Count', color = 'blue');\n",
    "ax.plot(daily_tweets['text'].rolling(7).mean(), label = 'Weekly Rolling Mean of Tweet Count', color = 'orange');\n",
    "ax.set_title(f'Plot of Daily and Weekly-Rolling Mean Tweet Counts for {city}', fontsize = 20);\n",
    "ax.set_xlabel('Date', fontsize = 16);\n",
    "ax.set_ylabel('Tweet Count', fontsize = 16);\n",
    "ax.tick_params(axis='both', which='major', labelsize=14)\n",
    "ax.legend(fontsize = 14)\n",
    "plt.savefig(f'../figs/daily_weeklyrollingmean_{city}.png')\n"
   ]
  },
  {
   "cell_type": "code",
   "execution_count": 151,
   "metadata": {
    "scrolled": false
   },
   "outputs": [
    {
     "data": {
      "image/png": "[encoded data removed]",
      "text/plain": [
       "<Figure size 864x576 with 1 Axes>"
      ]
     },
     "metadata": {
      "needs_background": "light"
     },
     "output_type": "display_data"
    }
   ],
   "source": [
    "plt.figure(figsize = (12, 8))\n",
    "plt.plot(daily_tweets['text'].rolling(7).mean(), color = 'blue');\n",
    "plt.plot(daily_tweets['text'].resample('W').mean(), color = 'orange');\n",
    "plt.title(f'Weekly Rolling & Reg Mean for {city}', fontsize = 20)\n",
    "plt.legend(['Weekly mean, rolling', 'Weekly mean'], fontsize = 14);"
   ]
  },
  {
   "cell_type": "code",
   "execution_count": 152,
   "metadata": {},
   "outputs": [
    {
     "data": {
      "image/png": "[encoded data removed]",
      "text/plain": [
       "<Figure size 864x576 with 1 Axes>"
      ]
     },
     "metadata": {
      "needs_background": "light"
     },
     "output_type": "display_data"
    }
   ],
   "source": [
    "plt.figure(figsize = (12, 8))\n",
    "plt.plot(daily_tweets['text'].resample('M').mean(), color = 'blue');\n",
    "plt.plot(daily_tweets['text'].resample('W').mean(), color = 'orange');\n",
    "plt.title(f'Monthly & Weekly Mean Tweet Counts for {city}', fontsize = 20)\n",
    "plt.legend(['Monthly Mean', 'Weekly Mean'], fontsize = 14);"
   ]
  },
  {
   "cell_type": "code",
   "execution_count": 147,
   "metadata": {
    "scrolled": false
   },
   "outputs": [
    {
     "data": {
      "image/png": "[encoded data removed]",
      "text/plain": [
       "<Figure size 1008x576 with 1 Axes>"
      ]
     },
     "metadata": {
      "needs_background": "light"
     },
     "output_type": "display_data"
    }
   ],
   "source": [
    "plt.figure(figsize = (14, 8))\n",
    "plt.bar(above_avg_tweets['text'].index, above_avg_tweets['text'], color = 'blue');\n",
    "plt.title(f'Plot of Daily Above-Average Tweet Counts for {city}', fontsize = 20);\n",
    "plt.xlabel('Date', fontsize = 16);\n",
    "plt.ylabel('Tweet Count', fontsize = 16);\n",
    "plt.tick_params(axis='both', which='major', labelsize=14)\n",
    "plt.savefig(f'../figs/daily_abvavg_{city}.png')"
   ]
  },
  {
   "cell_type": "code",
   "execution_count": 144,
   "metadata": {
    "scrolled": false
   },
   "outputs": [
    {
     "data": {
      "image/png": "[encoded data removed]",
      "text/plain": [
       "<Figure size 1008x576 with 1 Axes>"
      ]
     },
     "metadata": {
      "needs_background": "light"
     },
     "output_type": "display_data"
    }
   ],
   "source": [
    "plt.figure(figsize = (14, 8));\n",
    "plt.bar(above_avg_tweets['text'].index, np.log(above_avg_tweets['text']), color = 'blue');\n",
    "plt.title(f'Log Plot of Daily Above-Average Tweet Counts for {city}', fontsize = 20);\n",
    "plt.xlabel('Date', fontsize = 16);\n",
    "plt.ylabel('Log(Tweet Count)', fontsize = 16);\n",
    "plt.tick_params(axis='both', which='major', labelsize=14)\n",
    "plt.savefig(f'../figs/log_daily_abvavg_{city}.png')"
   ]
  },
  {
   "cell_type": "markdown",
   "metadata": {},
   "source": [
    "### CountVectorizer & Show Most Frequent Words"
   ]
  },
  {
   "cell_type": "code",
   "execution_count": 113,
   "metadata": {},
   "outputs": [],
   "source": [
    "cvec_tw = CountVectorizer()"
   ]
  },
  {
   "cell_type": "code",
   "execution_count": 114,
   "metadata": {},
   "outputs": [],
   "source": [
    "stopWords = ['com', 'http', 'twitter', 'https', 'pic', 'www', 'ly', \n",
    "             'yahoo', 'yhoo', 'youtu', 'youtube', 'fb', 'instagram', \n",
    "             'tt', 'html', 'goo', 'gl', 'google'] + list(ENGLISH_STOP_WORDS) "
   ]
  },
  {
   "cell_type": "code",
   "execution_count": 115,
   "metadata": {},
   "outputs": [
    {
     "data": {
      "text/html": [
       "<div>\n",
       "<style scoped>\n",
       "    .dataframe tbody tr th:only-of-type {\n",
       "        vertical-align: middle;\n",
       "    }\n",
       "\n",
       "    .dataframe tbody tr th {\n",
       "        vertical-align: top;\n",
       "    }\n",
       "\n",
       "    .dataframe thead th {\n",
       "        text-align: right;\n",
       "    }\n",
       "</style>\n",
       "<table border=\"1\" class=\"dataframe\">\n",
       "  <thead>\n",
       "    <tr style=\"text-align: right;\">\n",
       "      <th></th>\n",
       "      <th>000</th>\n",
       "      <th>01</th>\n",
       "      <th>04</th>\n",
       "      <th>05</th>\n",
       "      <th>08</th>\n",
       "      <th>09</th>\n",
       "      <th>10</th>\n",
       "      <th>11</th>\n",
       "      <th>12</th>\n",
       "      <th>12145510</th>\n",
       "      <th>...</th>\n",
       "      <th>weight</th>\n",
       "      <th>west</th>\n",
       "      <th>woman</th>\n",
       "      <th>work</th>\n",
       "      <th>world</th>\n",
       "      <th>wow</th>\n",
       "      <th>wp</th>\n",
       "      <th>ws</th>\n",
       "      <th>year</th>\n",
       "      <th>york</th>\n",
       "    </tr>\n",
       "  </thead>\n",
       "  <tbody>\n",
       "    <tr>\n",
       "      <th>0</th>\n",
       "      <td>0</td>\n",
       "      <td>0</td>\n",
       "      <td>0</td>\n",
       "      <td>0</td>\n",
       "      <td>0</td>\n",
       "      <td>0</td>\n",
       "      <td>0</td>\n",
       "      <td>0</td>\n",
       "      <td>0</td>\n",
       "      <td>0</td>\n",
       "      <td>...</td>\n",
       "      <td>0</td>\n",
       "      <td>0</td>\n",
       "      <td>0</td>\n",
       "      <td>0</td>\n",
       "      <td>0</td>\n",
       "      <td>0</td>\n",
       "      <td>0</td>\n",
       "      <td>0</td>\n",
       "      <td>0</td>\n",
       "      <td>0</td>\n",
       "    </tr>\n",
       "    <tr>\n",
       "      <th>1</th>\n",
       "      <td>0</td>\n",
       "      <td>0</td>\n",
       "      <td>0</td>\n",
       "      <td>0</td>\n",
       "      <td>0</td>\n",
       "      <td>0</td>\n",
       "      <td>0</td>\n",
       "      <td>0</td>\n",
       "      <td>0</td>\n",
       "      <td>0</td>\n",
       "      <td>...</td>\n",
       "      <td>0</td>\n",
       "      <td>0</td>\n",
       "      <td>0</td>\n",
       "      <td>0</td>\n",
       "      <td>0</td>\n",
       "      <td>0</td>\n",
       "      <td>0</td>\n",
       "      <td>0</td>\n",
       "      <td>0</td>\n",
       "      <td>0</td>\n",
       "    </tr>\n",
       "    <tr>\n",
       "      <th>2</th>\n",
       "      <td>0</td>\n",
       "      <td>0</td>\n",
       "      <td>0</td>\n",
       "      <td>0</td>\n",
       "      <td>0</td>\n",
       "      <td>0</td>\n",
       "      <td>0</td>\n",
       "      <td>0</td>\n",
       "      <td>0</td>\n",
       "      <td>0</td>\n",
       "      <td>...</td>\n",
       "      <td>0</td>\n",
       "      <td>0</td>\n",
       "      <td>0</td>\n",
       "      <td>0</td>\n",
       "      <td>0</td>\n",
       "      <td>0</td>\n",
       "      <td>0</td>\n",
       "      <td>0</td>\n",
       "      <td>0</td>\n",
       "      <td>0</td>\n",
       "    </tr>\n",
       "    <tr>\n",
       "      <th>3</th>\n",
       "      <td>0</td>\n",
       "      <td>0</td>\n",
       "      <td>0</td>\n",
       "      <td>0</td>\n",
       "      <td>0</td>\n",
       "      <td>0</td>\n",
       "      <td>0</td>\n",
       "      <td>0</td>\n",
       "      <td>0</td>\n",
       "      <td>0</td>\n",
       "      <td>...</td>\n",
       "      <td>0</td>\n",
       "      <td>0</td>\n",
       "      <td>0</td>\n",
       "      <td>0</td>\n",
       "      <td>0</td>\n",
       "      <td>0</td>\n",
       "      <td>0</td>\n",
       "      <td>0</td>\n",
       "      <td>0</td>\n",
       "      <td>0</td>\n",
       "    </tr>\n",
       "    <tr>\n",
       "      <th>4</th>\n",
       "      <td>0</td>\n",
       "      <td>0</td>\n",
       "      <td>0</td>\n",
       "      <td>0</td>\n",
       "      <td>0</td>\n",
       "      <td>0</td>\n",
       "      <td>0</td>\n",
       "      <td>0</td>\n",
       "      <td>0</td>\n",
       "      <td>0</td>\n",
       "      <td>...</td>\n",
       "      <td>0</td>\n",
       "      <td>0</td>\n",
       "      <td>0</td>\n",
       "      <td>1</td>\n",
       "      <td>0</td>\n",
       "      <td>0</td>\n",
       "      <td>0</td>\n",
       "      <td>0</td>\n",
       "      <td>0</td>\n",
       "      <td>0</td>\n",
       "    </tr>\n",
       "  </tbody>\n",
       "</table>\n",
       "<p>5 rows × 500 columns</p>\n",
       "</div>"
      ],
      "text/plain": [
       "   000  01  04  05  08  09  10  11  12  12145510  ...  weight  west  woman  \\\n",
       "0    0   0   0   0   0   0   0   0   0         0  ...       0     0      0   \n",
       "1    0   0   0   0   0   0   0   0   0         0  ...       0     0      0   \n",
       "2    0   0   0   0   0   0   0   0   0         0  ...       0     0      0   \n",
       "3    0   0   0   0   0   0   0   0   0         0  ...       0     0      0   \n",
       "4    0   0   0   0   0   0   0   0   0         0  ...       0     0      0   \n",
       "\n",
       "   work  world  wow  wp  ws  year  york  \n",
       "0     0      0    0   0   0     0     0  \n",
       "1     0      0    0   0   0     0     0  \n",
       "2     0      0    0   0   0     0     0  \n",
       "3     0      0    0   0   0     0     0  \n",
       "4     1      0    0   0   0     0     0  \n",
       "\n",
       "[5 rows x 500 columns]"
      ]
     },
     "execution_count": 115,
     "metadata": {},
     "output_type": "execute_result"
    }
   ],
   "source": [
    "# Initiate instance of CountVectorizer for tweet data\n",
    "cvec_tw = CountVectorizer(stop_words = stopWords, # get rid of stopwords, right now we're more interested in what's left after\n",
    "                          max_features = 500, # only use 500 top features\n",
    "                          max_df = 0.98)  # Don't use features that appear in more than 98% of entries\n",
    "\n",
    "# Pull out 'title' column from climatechange data\n",
    "X_tw = tweets['text']\n",
    "\n",
    "# Fit the vectorizer to our corpus\n",
    "cvec_tw.fit(X_tw)\n",
    "\n",
    "# Transform the training corpus\n",
    "X_tw = cvec_tw.transform(X_tw)\n",
    "\n",
    "# Convert result into a dataframe\n",
    "X_tw_df = pd.DataFrame(X_tw.toarray(),\n",
    "                          columns=cvec_tw.get_feature_names())\n",
    "X_tw_df.head()"
   ]
  },
  {
   "cell_type": "code",
   "execution_count": 116,
   "metadata": {},
   "outputs": [
    {
     "data": {
      "text/plain": [
       "(28139, 500)"
      ]
     },
     "execution_count": 116,
     "metadata": {},
     "output_type": "execute_result"
    }
   ],
   "source": [
    "X_tw_df.shape"
   ]
  },
  {
   "cell_type": "code",
   "execution_count": 117,
   "metadata": {},
   "outputs": [],
   "source": [
    "# Save 20 most frequently appearing words to a df, in descending order\n",
    "tw_bardat = X_tw_df.sum().sort_values(ascending = False)[0:20].to_frame()"
   ]
  },
  {
   "cell_type": "code",
   "execution_count": 118,
   "metadata": {},
   "outputs": [
    {
     "data": {
      "text/plain": [
       "Index(['houston', 'floodwaters', 'harvey', 'flooding', 'flood', 'texas',\n",
       "       'news', 'status', 'police', 'houstonflood', 'hurricane', '2017',\n",
       "       'floodwater', 'officer', 'rain', 'rising', 'rescue', 'hurricaneharvey',\n",
       "       'rise', 'bit'],\n",
       "      dtype='object')"
      ]
     },
     "execution_count": 118,
     "metadata": {},
     "output_type": "execute_result"
    }
   ],
   "source": [
    "tw_bardat.index"
   ]
  },
  {
   "cell_type": "code",
   "execution_count": 119,
   "metadata": {},
   "outputs": [
    {
     "data": {
      "image/png": "[encoded data removed]",
      "text/plain": [
       "<Figure size 576x648 with 1 Axes>"
      ]
     },
     "metadata": {},
     "output_type": "display_data"
    }
   ],
   "source": [
    "fig, ax = plt.subplots(figsize=(8, 9), sharex = True, constrained_layout = True, # Share x axes to keep ranges the same\n",
    "                              facecolor = '#E0E0E0')  # Set figure facecolor to match slide theme\n",
    "ax.barh(tw_bardat.index, tw_bardat[0], color = 'orange');\n",
    "ax.invert_yaxis(); # Flip plot vertically so values descending from top\n",
    "ax.set_title(f'Word Frequency Across {city}-related Tweets', fontsize = 22);\n",
    "ax.set_xlabel('Word Frequency', fontsize = 16);\n",
    "ax.set_yticklabels(tw_bardat.index, fontsize = 14)\n",
    "ax.tick_params(labelsize = 16)\n",
    "         "
   ]
  },
  {
   "cell_type": "code",
   "execution_count": null,
   "metadata": {},
   "outputs": [],
   "source": []
  },
  {
   "cell_type": "code",
   "execution_count": 120,
   "metadata": {},
   "outputs": [],
   "source": [
    "# For loop to do most of my 'Title' cleaning--remove punctuation, convert to lowercase, lemmatize\n",
    "# With guidance from Preeya Sawadmanod\n",
    "\n",
    "text_puncless = []\n",
    "text_lemmed = []\n",
    "\n",
    "for row in tweets['text']:\n",
    "    # Instantiate tokenizer/set to remove punctuation, numbers, and any 'words' comprised of just 1 character\n",
    "    # Numbers removed because many were completely extraneous\n",
    "    # And the ones that might have been useful weren't useful enough to justify keeping the rest\n",
    "    tokenizer = RegexpTokenizer(r'[a-zA-Z]{2,}') # (r'\\w+')\n",
    "\n",
    "    # Instantiate lemmatizer: lemmatizer over stemmer because false negatives are preferable here to false positives\n",
    "    # We don't want to over-estimate the accuracy of our predictions\n",
    "    lemmatizer = WordNetLemmatizer()\n",
    "    \n",
    "    # Tokenize each row (also do the change to lower-case here)\n",
    "    rows = tokenizer.tokenize(row.lower())\n",
    "    \n",
    "    # Lemmatize all words in each row\n",
    "    lem_rows = [lemmatizer.lemmatize(word) for word in rows]\n",
    "    \n",
    "    # Change each row back from a list of strings to a single string\n",
    "    rows = ' '.join(rows)\n",
    "    lem_rows = ' '.join(lem_rows)\n",
    "    \n",
    "    # Append fixed rows to their respective lists\n",
    "    text_puncless.append(rows)\n",
    "    text_lemmed.append(lem_rows)"
   ]
  },
  {
   "cell_type": "code",
   "execution_count": 121,
   "metadata": {},
   "outputs": [
    {
     "data": {
      "text/plain": [
       "28139"
      ]
     },
     "execution_count": 121,
     "metadata": {},
     "output_type": "execute_result"
    }
   ],
   "source": [
    "len(text_puncless)"
   ]
  },
  {
   "cell_type": "code",
   "execution_count": 122,
   "metadata": {},
   "outputs": [
    {
     "data": {
      "text/plain": [
       "(28139, 9)"
      ]
     },
     "execution_count": 122,
     "metadata": {},
     "output_type": "execute_result"
    }
   ],
   "source": [
    "tweets.shape"
   ]
  },
  {
   "cell_type": "code",
   "execution_count": 123,
   "metadata": {},
   "outputs": [],
   "source": [
    "# Insert cleaned lists of titles into dataframe as new columns\n",
    "tweets['text_nopunc'] = text_puncless\n",
    "tweets['text_lemmed'] = text_lemmed"
   ]
  },
  {
   "cell_type": "code",
   "execution_count": 124,
   "metadata": {},
   "outputs": [
    {
     "data": {
      "text/html": [
       "<div>\n",
       "<style scoped>\n",
       "    .dataframe tbody tr th:only-of-type {\n",
       "        vertical-align: middle;\n",
       "    }\n",
       "\n",
       "    .dataframe tbody tr th {\n",
       "        vertical-align: top;\n",
       "    }\n",
       "\n",
       "    .dataframe thead th {\n",
       "        text-align: right;\n",
       "    }\n",
       "</style>\n",
       "<table border=\"1\" class=\"dataframe\">\n",
       "  <thead>\n",
       "    <tr style=\"text-align: right;\">\n",
       "      <th></th>\n",
       "      <th>username</th>\n",
       "      <th>tweet_id</th>\n",
       "      <th>timestamp</th>\n",
       "      <th>timestamp_epochs</th>\n",
       "      <th>retweets</th>\n",
       "      <th>text</th>\n",
       "      <th>clean_date</th>\n",
       "      <th>year</th>\n",
       "      <th>month</th>\n",
       "      <th>text_nopunc</th>\n",
       "      <th>text_lemmed</th>\n",
       "    </tr>\n",
       "  </thead>\n",
       "  <tbody>\n",
       "    <tr>\n",
       "      <th>0</th>\n",
       "      <td>mark_tarello</td>\n",
       "      <td>471077480262930432</td>\n",
       "      <td>2014-05-26 23:56:38</td>\n",
       "      <td>1401148598</td>\n",
       "      <td>1</td>\n",
       "      <td>FLOODING from heavy rain this afternoon near H...</td>\n",
       "      <td>2014-05-26</td>\n",
       "      <td>2014</td>\n",
       "      <td>5</td>\n",
       "      <td>flooding from heavy rain this afternoon near h...</td>\n",
       "      <td>flooding from heavy rain this afternoon near h...</td>\n",
       "    </tr>\n",
       "    <tr>\n",
       "      <th>1</th>\n",
       "      <td>Djtexasoutlaw</td>\n",
       "      <td>471074963911213056</td>\n",
       "      <td>2014-05-26 23:46:38</td>\n",
       "      <td>1401147998</td>\n",
       "      <td>0</td>\n",
       "      <td>Flood on di main road! #Houston #Flood http://...</td>\n",
       "      <td>2014-05-26</td>\n",
       "      <td>2014</td>\n",
       "      <td>5</td>\n",
       "      <td>flood on di main road houston flood http insta...</td>\n",
       "      <td>flood on di main road houston flood http insta...</td>\n",
       "    </tr>\n",
       "    <tr>\n",
       "      <th>2</th>\n",
       "      <td>laurenalexxis</td>\n",
       "      <td>471067687708143616</td>\n",
       "      <td>2014-05-26 23:17:43</td>\n",
       "      <td>1401146263</td>\n",
       "      <td>0</td>\n",
       "      <td>Stay safe! #rain #flood #storm #houston #sugar...</td>\n",
       "      <td>2014-05-26</td>\n",
       "      <td>2014</td>\n",
       "      <td>5</td>\n",
       "      <td>stay safe rain flood storm houston sugarland h...</td>\n",
       "      <td>stay safe rain flood storm houston sugarland h...</td>\n",
       "    </tr>\n",
       "    <tr>\n",
       "      <th>3</th>\n",
       "      <td>leenstaraileen</td>\n",
       "      <td>471067572490616832</td>\n",
       "      <td>2014-05-26 23:17:15</td>\n",
       "      <td>1401146235</td>\n",
       "      <td>0</td>\n",
       "      <td>My daughters boat is floating... #houston #flo...</td>\n",
       "      <td>2014-05-26</td>\n",
       "      <td>2014</td>\n",
       "      <td>5</td>\n",
       "      <td>my daughters boat is floating houston flooding...</td>\n",
       "      <td>my daughter boat is floating houston flooding ...</td>\n",
       "    </tr>\n",
       "    <tr>\n",
       "      <th>4</th>\n",
       "      <td>ImJohnsirz</td>\n",
       "      <td>471066240975654912</td>\n",
       "      <td>2014-05-26 23:11:58</td>\n",
       "      <td>1401145918</td>\n",
       "      <td>0</td>\n",
       "      <td>Welp we lost power her at walgreens. Gonna hav...</td>\n",
       "      <td>2014-05-26</td>\n",
       "      <td>2014</td>\n",
       "      <td>5</td>\n",
       "      <td>welp we lost power her at walgreens gonna have...</td>\n",
       "      <td>welp we lost power her at walgreens gonna have...</td>\n",
       "    </tr>\n",
       "  </tbody>\n",
       "</table>\n",
       "</div>"
      ],
      "text/plain": [
       "         username            tweet_id           timestamp  timestamp_epochs  \\\n",
       "0    mark_tarello  471077480262930432 2014-05-26 23:56:38        1401148598   \n",
       "1   Djtexasoutlaw  471074963911213056 2014-05-26 23:46:38        1401147998   \n",
       "2   laurenalexxis  471067687708143616 2014-05-26 23:17:43        1401146263   \n",
       "3  leenstaraileen  471067572490616832 2014-05-26 23:17:15        1401146235   \n",
       "4      ImJohnsirz  471066240975654912 2014-05-26 23:11:58        1401145918   \n",
       "\n",
       "   retweets                                               text clean_date  \\\n",
       "0         1  FLOODING from heavy rain this afternoon near H... 2014-05-26   \n",
       "1         0  Flood on di main road! #Houston #Flood http://... 2014-05-26   \n",
       "2         0  Stay safe! #rain #flood #storm #houston #sugar... 2014-05-26   \n",
       "3         0  My daughters boat is floating... #houston #flo... 2014-05-26   \n",
       "4         0  Welp we lost power her at walgreens. Gonna hav... 2014-05-26   \n",
       "\n",
       "   year  month                                        text_nopunc  \\\n",
       "0  2014      5  flooding from heavy rain this afternoon near h...   \n",
       "1  2014      5  flood on di main road houston flood http insta...   \n",
       "2  2014      5  stay safe rain flood storm houston sugarland h...   \n",
       "3  2014      5  my daughters boat is floating houston flooding...   \n",
       "4  2014      5  welp we lost power her at walgreens gonna have...   \n",
       "\n",
       "                                         text_lemmed  \n",
       "0  flooding from heavy rain this afternoon near h...  \n",
       "1  flood on di main road houston flood http insta...  \n",
       "2  stay safe rain flood storm houston sugarland h...  \n",
       "3  my daughter boat is floating houston flooding ...  \n",
       "4  welp we lost power her at walgreens gonna have...  "
      ]
     },
     "execution_count": 124,
     "metadata": {},
     "output_type": "execute_result"
    }
   ],
   "source": [
    "tweets.head()"
   ]
  },
  {
   "cell_type": "code",
   "execution_count": 125,
   "metadata": {},
   "outputs": [],
   "source": [
    "# WORD-TO-VEC ???? Try kmeans with and without word2vec\n",
    "# Support vector machines\n",
    "# KMeans\n",
    "# Cosine similarity?\n"
   ]
  },
  {
   "cell_type": "code",
   "execution_count": 126,
   "metadata": {},
   "outputs": [],
   "source": [
    "X = tweets['text_lemmed']\n"
   ]
  }
 ],
 "metadata": {
  "kernelspec": {
   "display_name": "Python [conda env:dsi] *",
   "language": "python",
   "name": "conda-env-dsi-py"
  },
  "language_info": {
   "codemirror_mode": {
    "name": "ipython",
    "version": 3
   },
   "file_extension": ".py",
   "mimetype": "text/x-python",
   "name": "python",
   "nbconvert_exporter": "python",
   "pygments_lexer": "ipython3",
   "version": "3.7.4"
  },
  "toc": {
   "base_numbering": 1,
   "nav_menu": {},
   "number_sections": true,
   "sideBar": true,
   "skip_h1_title": false,
   "title_cell": "Table of Contents",
   "title_sidebar": "Contents",
   "toc_cell": false,
   "toc_position": {},
   "toc_section_display": true,
   "toc_window_display": true
  },
  "varInspector": {
   "cols": {
    "lenName": 16,
    "lenType": 16,
    "lenVar": 40
   },
   "kernels_config": {
    "python": {
     "delete_cmd_postfix": "",
     "delete_cmd_prefix": "del ",
     "library": "var_list.py",
     "varRefreshCmd": "print(var_dic_list())"
    },
    "r": {
     "delete_cmd_postfix": ") ",
     "delete_cmd_prefix": "rm(",
     "library": "var_list.r",
     "varRefreshCmd": "cat(var_dic_list()) "
    }
   },
   "types_to_exclude": [
    "module",
    "function",
    "builtin_function_or_method",
    "instance",
    "_Feature"
   ],
   "window_display": false
  }
 },
 "nbformat": 4,
 "nbformat_minor": 2
}
