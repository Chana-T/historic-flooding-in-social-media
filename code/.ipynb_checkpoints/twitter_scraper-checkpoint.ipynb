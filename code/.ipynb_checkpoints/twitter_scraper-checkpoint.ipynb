{
 "cells": [
  {
   "cell_type": "code",
   "execution_count": 2,
   "metadata": {
    "scrolled": true
   },
   "outputs": [
    {
     "name": "stderr",
     "output_type": "stream",
     "text": [
      "INFO: {'User-Agent': 'Mozilla/5.0 (Windows; U; Windows NT 6.1; x64; fr; rv:1.9.2.13) Gecko/20101203 Firebird/3.6.13'}\n"
     ]
    }
   ],
   "source": [
    "import pandas as pd\n",
    "import numpy as np\n",
    "from twitterscraper import query_tweets\n",
    "import datetime as dt"
   ]
  },
  {
   "cell_type": "code",
   "execution_count": 3,
   "metadata": {},
   "outputs": [],
   "source": [
    "pd.set_option('max_colwidth', 300)"
   ]
  },
  {
   "cell_type": "code",
   "execution_count": 4,
   "metadata": {},
   "outputs": [],
   "source": [
    "start_date = dt.date(2014, 1, 1)\n",
    "end_date = dt.date(2018, 1, 1)\n",
    "lang = 'english'\n",
    "city = 'Mumbai'"
   ]
  },
  {
   "cell_type": "code",
   "execution_count": 6,
   "metadata": {
    "scrolled": false
   },
   "outputs": [
    {
     "name": "stderr",
     "output_type": "stream",
     "text": [
      "INFO: queries: [' (\"#flood\" OR \"#flooding\" OR \"floodwater\" OR \"floodwaters\" OR \"#floodwater\" OR \"#floodwaters\" OR \"#flooddamage\" OR \"#flooddamages\" OR \"#flooddeath\" OR \"#flooddeaths\") AND (\"Mumbai\" OR \"Mumbaiflood\" OR \"Mumbaiflooding\" OR \"#Mumbai\" OR \"#Mumbaiflood\" OR \"#Mumbaiflooding\" OR \"#Mumbaiweather\") -filter:retweets since:2014-01-01 until:2014-05-27', ' (\"#flood\" OR \"#flooding\" OR \"floodwater\" OR \"floodwaters\" OR \"#floodwater\" OR \"#floodwaters\" OR \"#flooddamage\" OR \"#flooddamages\" OR \"#flooddeath\" OR \"#flooddeaths\") AND (\"Mumbai\" OR \"Mumbaiflood\" OR \"Mumbaiflooding\" OR \"#Mumbai\" OR \"#Mumbaiflood\" OR \"#Mumbaiflooding\" OR \"#Mumbaiweather\") -filter:retweets since:2014-05-27 until:2014-10-20', ' (\"#flood\" OR \"#flooding\" OR \"floodwater\" OR \"floodwaters\" OR \"#floodwater\" OR \"#floodwaters\" OR \"#flooddamage\" OR \"#flooddamages\" OR \"#flooddeath\" OR \"#flooddeaths\") AND (\"Mumbai\" OR \"Mumbaiflood\" OR \"Mumbaiflooding\" OR \"#Mumbai\" OR \"#Mumbaiflood\" OR \"#Mumbaiflooding\" OR \"#Mumbaiweather\") -filter:retweets since:2014-10-20 until:2015-03-15', ' (\"#flood\" OR \"#flooding\" OR \"floodwater\" OR \"floodwaters\" OR \"#floodwater\" OR \"#floodwaters\" OR \"#flooddamage\" OR \"#flooddamages\" OR \"#flooddeath\" OR \"#flooddeaths\") AND (\"Mumbai\" OR \"Mumbaiflood\" OR \"Mumbaiflooding\" OR \"#Mumbai\" OR \"#Mumbaiflood\" OR \"#Mumbaiflooding\" OR \"#Mumbaiweather\") -filter:retweets since:2015-03-15 until:2015-08-08', ' (\"#flood\" OR \"#flooding\" OR \"floodwater\" OR \"floodwaters\" OR \"#floodwater\" OR \"#floodwaters\" OR \"#flooddamage\" OR \"#flooddamages\" OR \"#flooddeath\" OR \"#flooddeaths\") AND (\"Mumbai\" OR \"Mumbaiflood\" OR \"Mumbaiflooding\" OR \"#Mumbai\" OR \"#Mumbaiflood\" OR \"#Mumbaiflooding\" OR \"#Mumbaiweather\") -filter:retweets since:2015-08-08 until:2016-01-01', ' (\"#flood\" OR \"#flooding\" OR \"floodwater\" OR \"floodwaters\" OR \"#floodwater\" OR \"#floodwaters\" OR \"#flooddamage\" OR \"#flooddamages\" OR \"#flooddeath\" OR \"#flooddeaths\") AND (\"Mumbai\" OR \"Mumbaiflood\" OR \"Mumbaiflooding\" OR \"#Mumbai\" OR \"#Mumbaiflood\" OR \"#Mumbaiflooding\" OR \"#Mumbaiweather\") -filter:retweets since:2016-01-01 until:2016-05-26', ' (\"#flood\" OR \"#flooding\" OR \"floodwater\" OR \"floodwaters\" OR \"#floodwater\" OR \"#floodwaters\" OR \"#flooddamage\" OR \"#flooddamages\" OR \"#flooddeath\" OR \"#flooddeaths\") AND (\"Mumbai\" OR \"Mumbaiflood\" OR \"Mumbaiflooding\" OR \"#Mumbai\" OR \"#Mumbaiflood\" OR \"#Mumbaiflooding\" OR \"#Mumbaiweather\") -filter:retweets since:2016-05-26 until:2016-10-19', ' (\"#flood\" OR \"#flooding\" OR \"floodwater\" OR \"floodwaters\" OR \"#floodwater\" OR \"#floodwaters\" OR \"#flooddamage\" OR \"#flooddamages\" OR \"#flooddeath\" OR \"#flooddeaths\") AND (\"Mumbai\" OR \"Mumbaiflood\" OR \"Mumbaiflooding\" OR \"#Mumbai\" OR \"#Mumbaiflood\" OR \"#Mumbaiflooding\" OR \"#Mumbaiweather\") -filter:retweets since:2016-10-19 until:2017-03-14', ' (\"#flood\" OR \"#flooding\" OR \"floodwater\" OR \"floodwaters\" OR \"#floodwater\" OR \"#floodwaters\" OR \"#flooddamage\" OR \"#flooddamages\" OR \"#flooddeath\" OR \"#flooddeaths\") AND (\"Mumbai\" OR \"Mumbaiflood\" OR \"Mumbaiflooding\" OR \"#Mumbai\" OR \"#Mumbaiflood\" OR \"#Mumbaiflooding\" OR \"#Mumbaiweather\") -filter:retweets since:2017-03-14 until:2017-08-07', ' (\"#flood\" OR \"#flooding\" OR \"floodwater\" OR \"floodwaters\" OR \"#floodwater\" OR \"#floodwaters\" OR \"#flooddamage\" OR \"#flooddamages\" OR \"#flooddeath\" OR \"#flooddeaths\") AND (\"Mumbai\" OR \"Mumbaiflood\" OR \"Mumbaiflooding\" OR \"#Mumbai\" OR \"#Mumbaiflood\" OR \"#Mumbaiflooding\" OR \"#Mumbaiweather\") -filter:retweets since:2017-08-07 until:2018-01-01']\n",
      "INFO: Got 2 tweets (2 new).\n",
      "INFO: Got 24 tweets (22 new).\n",
      "INFO: Got 60 tweets (36 new).\n",
      "INFO: Got 74 tweets (14 new).\n",
      "INFO: Got 112 tweets (38 new).\n",
      "INFO: Got 157 tweets (45 new).\n",
      "INFO: Got 231 tweets (74 new).\n",
      "INFO: Got 323 tweets (92 new).\n",
      "INFO: Got 428 tweets (105 new).\n",
      "INFO: Got 749 tweets (321 new).\n"
     ]
    }
   ],
   "source": [
    "tweet_list = query_tweets(f' (\"#flood\" OR \"#flooding\" OR \"floodwater\" OR \"floodwaters\" OR \"#floodwater\" OR \"#floodwaters\" OR \"#flooddamage\" OR \"#flooddamages\" OR \"#flooddeath\" OR \"#flooddeaths\") AND (\"{city}\" OR \"{city}flood\" OR \"{city}flooding\" OR \"#{city}\" OR \"#{city}flood\" OR \"#{city}flooding\" OR \"#{city}weather\") -filter:retweets',\n",
    "                               #ADD TIMESTAMP\n",
    "                              begindate = start_date,\n",
    "                              enddate = end_date,\n",
    "                              lang = lang,\n",
    "                              poolsize = 10)"
   ]
  },
  {
   "cell_type": "code",
   "execution_count": null,
   "metadata": {
    "scrolled": true
   },
   "outputs": [],
   "source": [
    "# tweet_list = query_tweets(f' (\"#flood\" OR \"#flooding\") AND (\"{city}\" OR \"{city}flood\" OR \"{city}flooding\" OR \"#{city}\" OR \"#{city}flood\" OR \"#{city}flooding\") near:{city} within:10mi -filter:retweets',\n",
    "#                                #ADD TIMESTAMP\n",
    "#                               begindate = start_date,\n",
    "#                               enddate = end_date,\n",
    "#                               poolsize = 10)"
   ]
  },
  {
   "cell_type": "code",
   "execution_count": 7,
   "metadata": {},
   "outputs": [],
   "source": [
    "df = pd.DataFrame(t.__dict__ for t in tweet_list)"
   ]
  },
  {
   "cell_type": "code",
   "execution_count": 8,
   "metadata": {},
   "outputs": [
    {
     "data": {
      "text/plain": [
       "(749, 16)"
      ]
     },
     "execution_count": 8,
     "metadata": {},
     "output_type": "execute_result"
    }
   ],
   "source": [
    "df.shape"
   ]
  },
  {
   "cell_type": "code",
   "execution_count": 9,
   "metadata": {
    "scrolled": true
   },
   "outputs": [
    {
     "name": "stdout",
     "output_type": "stream",
     "text": [
      "<class 'pandas.core.frame.DataFrame'>\n",
      "RangeIndex: 749 entries, 0 to 748\n",
      "Data columns (total 16 columns):\n",
      "username              749 non-null object\n",
      "fullname              749 non-null object\n",
      "user_id               749 non-null object\n",
      "tweet_id              749 non-null object\n",
      "tweet_url             749 non-null object\n",
      "timestamp             749 non-null datetime64[ns]\n",
      "timestamp_epochs      749 non-null int64\n",
      "replies               749 non-null int64\n",
      "retweets              749 non-null int64\n",
      "likes                 749 non-null int64\n",
      "is_retweet            749 non-null int64\n",
      "retweeter_username    749 non-null object\n",
      "retweeter_userid      749 non-null object\n",
      "retweet_id            749 non-null object\n",
      "text                  749 non-null object\n",
      "html                  749 non-null object\n",
      "dtypes: datetime64[ns](1), int64(5), object(10)\n",
      "memory usage: 93.8+ KB\n"
     ]
    }
   ],
   "source": [
    "df.info()"
   ]
  },
  {
   "cell_type": "code",
   "execution_count": 11,
   "metadata": {},
   "outputs": [],
   "source": [
    "df.to_csv(f'../data/tweetscrape_{city}_{start_date}_to_{end_date}.csv', index = None)"
   ]
  },
  {
   "cell_type": "code",
   "execution_count": null,
   "metadata": {},
   "outputs": [],
   "source": []
  }
 ],
 "metadata": {
  "kernelspec": {
   "display_name": "Python 3",
   "language": "python",
   "name": "python3"
  },
  "language_info": {
   "codemirror_mode": {
    "name": "ipython",
    "version": 3
   },
   "file_extension": ".py",
   "mimetype": "text/x-python",
   "name": "python",
   "nbconvert_exporter": "python",
   "pygments_lexer": "ipython3",
   "version": "3.7.4"
  },
  "toc": {
   "base_numbering": 1,
   "nav_menu": {},
   "number_sections": true,
   "sideBar": true,
   "skip_h1_title": false,
   "title_cell": "Table of Contents",
   "title_sidebar": "Contents",
   "toc_cell": false,
   "toc_position": {},
   "toc_section_display": true,
   "toc_window_display": false
  },
  "varInspector": {
   "cols": {
    "lenName": 16,
    "lenType": 16,
    "lenVar": 40
   },
   "kernels_config": {
    "python": {
     "delete_cmd_postfix": "",
     "delete_cmd_prefix": "del ",
     "library": "var_list.py",
     "varRefreshCmd": "print(var_dic_list())"
    },
    "r": {
     "delete_cmd_postfix": ") ",
     "delete_cmd_prefix": "rm(",
     "library": "var_list.r",
     "varRefreshCmd": "cat(var_dic_list()) "
    }
   },
   "types_to_exclude": [
    "module",
    "function",
    "builtin_function_or_method",
    "instance",
    "_Feature"
   ],
   "window_display": false
  }
 },
 "nbformat": 4,
 "nbformat_minor": 2
}
